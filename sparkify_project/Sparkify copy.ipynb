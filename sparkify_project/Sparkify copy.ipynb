{
 "cells": [
  {
   "cell_type": "markdown",
   "metadata": {},
   "source": [
    "# Sparkify Project Workspace\n",
    "This workspace uses a [subset]('data/mini_sparkify_event_data.json') (128MB) of the full dataset available (12GB). Within this workspace we will create and evaluate different versions of a model to predict user churns. The best resulting model will then be used to evaluate on a larger dataset within IBM cloud."
   ]
  },
  {
   "cell_type": "code",
   "execution_count": 1,
   "metadata": {},
   "outputs": [],
   "source": [
    "# import libraries\n",
    "from pyspark.sql import SparkSession, Window, Column\n",
    "from pyspark.sql.functions import  asc, desc, udf, col, lit, first, max\n",
    "from pyspark.sql.functions import sum as Fsum\n",
    "from pyspark.sql.functions import year, month, dayofmonth, concat_ws, count\n",
    "from pyspark.sql.functions import max, when\n",
    "from pyspark.sql.types import IntegerType\n",
    "from pyspark.ml.feature import  VectorAssembler, Normalizer, StandardScaler\n",
    "from pyspark.ml.feature import StringIndexer, OneHotEncoder\n",
    "from pyspark.ml.classification import LogisticRegression, RandomForestClassifier,\\\n",
    "    GBTClassifier, LinearSVC, NaiveBayes\n",
    "from pyspark.ml.evaluation import MulticlassClassificationEvaluator, BinaryClassificationEvaluator\n",
    "\n",
    "from pyspark.ml.tuning import ParamGridBuilder, CrossValidator\n",
    "from pyspark.ml import Pipeline\n",
    "\n",
    "\n",
    "\n",
    "import datetime\n",
    "import pandas as pd\n",
    "\n",
    "%matplotlib inline\n",
    "import matplotlib.pyplot as plt"
   ]
  },
  {
   "cell_type": "code",
   "execution_count": 2,
   "metadata": {},
   "outputs": [
    {
     "name": "stderr",
     "output_type": "stream",
     "text": [
      "your 131072x1 screen size is bogus. expect trouble\n",
      "23/10/24 11:32:27 WARN Utils: Your hostname, Pinocchio resolves to a loopback address: 127.0.1.1; using 172.18.43.111 instead (on interface eth0)\n",
      "23/10/24 11:32:27 WARN Utils: Set SPARK_LOCAL_IP if you need to bind to another address\n",
      "Setting default log level to \"WARN\".\n",
      "To adjust logging level use sc.setLogLevel(newLevel). For SparkR, use setLogLevel(newLevel).\n",
      "23/10/24 11:32:28 WARN NativeCodeLoader: Unable to load native-hadoop library for your platform... using builtin-java classes where applicable\n"
     ]
    }
   ],
   "source": [
    "# create a Spark session\n",
    "spark = SparkSession.builder \\\n",
    "    .master(\"local\") \\\n",
    "    .appName(\"Sparkify Project\") \\\n",
    "    .getOrCreate()\n"
   ]
  },
  {
   "cell_type": "markdown",
   "metadata": {},
   "source": [
    "# Load and Clean Dataset\n",
    "Load and clean the dataset, checking for invalid or missing data - for example, records without userids or sessionids. "
   ]
  },
  {
   "cell_type": "markdown",
   "metadata": {},
   "source": [
    "### Load Dataset"
   ]
  },
  {
   "cell_type": "code",
   "execution_count": 3,
   "metadata": {},
   "outputs": [],
   "source": [
    "\n",
    "sparkify_data = 'data/mini_sparkify_event_data.json'"
   ]
  },
  {
   "cell_type": "code",
   "execution_count": 4,
   "metadata": {},
   "outputs": [
    {
     "name": "stderr",
     "output_type": "stream",
     "text": [
      "                                                                                \r"
     ]
    },
    {
     "data": {
      "text/plain": [
       "DataFrame[artist: string, auth: string, firstName: string, gender: string, itemInSession: bigint, lastName: string, length: double, level: string, location: string, method: string, page: string, registration: bigint, sessionId: bigint, song: string, status: bigint, ts: bigint, userAgent: string, userId: string]"
      ]
     },
     "execution_count": 4,
     "metadata": {},
     "output_type": "execute_result"
    }
   ],
   "source": [
    "df = spark.read.json(sparkify_data)\n",
    "df.persist()"
   ]
  },
  {
   "cell_type": "code",
   "execution_count": 5,
   "metadata": {},
   "outputs": [
    {
     "name": "stderr",
     "output_type": "stream",
     "text": [
      "                                                                                \r"
     ]
    },
    {
     "data": {
      "text/plain": [
       "286500"
      ]
     },
     "execution_count": 5,
     "metadata": {},
     "output_type": "execute_result"
    }
   ],
   "source": [
    "DF_COUNT = df.count()\n",
    "DF_COUNT"
   ]
  },
  {
   "cell_type": "markdown",
   "metadata": {},
   "source": [
    "### Clean Dataset\n",
    "first check how the data looks like"
   ]
  },
  {
   "cell_type": "code",
   "execution_count": 6,
   "metadata": {},
   "outputs": [
    {
     "name": "stdout",
     "output_type": "stream",
     "text": [
      "root\n",
      " |-- artist: string (nullable = true)\n",
      " |-- auth: string (nullable = true)\n",
      " |-- firstName: string (nullable = true)\n",
      " |-- gender: string (nullable = true)\n",
      " |-- itemInSession: long (nullable = true)\n",
      " |-- lastName: string (nullable = true)\n",
      " |-- length: double (nullable = true)\n",
      " |-- level: string (nullable = true)\n",
      " |-- location: string (nullable = true)\n",
      " |-- method: string (nullable = true)\n",
      " |-- page: string (nullable = true)\n",
      " |-- registration: long (nullable = true)\n",
      " |-- sessionId: long (nullable = true)\n",
      " |-- song: string (nullable = true)\n",
      " |-- status: long (nullable = true)\n",
      " |-- ts: long (nullable = true)\n",
      " |-- userAgent: string (nullable = true)\n",
      " |-- userId: string (nullable = true)\n",
      "\n"
     ]
    }
   ],
   "source": [
    "df.printSchema()"
   ]
  },
  {
   "cell_type": "code",
   "execution_count": 7,
   "metadata": {},
   "outputs": [
    {
     "data": {
      "text/plain": [
       "[Row(artist='Martha Tilston', auth='Logged In', firstName='Colin', gender='M', itemInSession=50, lastName='Freeman', length=277.89016, level='paid', location='Bakersfield, CA', method='PUT', page='NextSong', registration=1538173362000, sessionId=29, song='Rockpools', status=200, ts=1538352117000, userAgent='Mozilla/5.0 (Windows NT 6.1; WOW64; rv:31.0) Gecko/20100101 Firefox/31.0', userId='30'),\n",
       " Row(artist='Five Iron Frenzy', auth='Logged In', firstName='Micah', gender='M', itemInSession=79, lastName='Long', length=236.09424, level='free', location='Boston-Cambridge-Newton, MA-NH', method='PUT', page='NextSong', registration=1538331630000, sessionId=8, song='Canada', status=200, ts=1538352180000, userAgent='\"Mozilla/5.0 (Windows NT 6.1; WOW64) AppleWebKit/537.36 (KHTML, like Gecko) Chrome/37.0.2062.103 Safari/537.36\"', userId='9'),\n",
       " Row(artist='Adam Lambert', auth='Logged In', firstName='Colin', gender='M', itemInSession=51, lastName='Freeman', length=282.8273, level='paid', location='Bakersfield, CA', method='PUT', page='NextSong', registration=1538173362000, sessionId=29, song='Time For Miracles', status=200, ts=1538352394000, userAgent='Mozilla/5.0 (Windows NT 6.1; WOW64; rv:31.0) Gecko/20100101 Firefox/31.0', userId='30')]"
      ]
     },
     "execution_count": 7,
     "metadata": {},
     "output_type": "execute_result"
    }
   ],
   "source": [
    "df.take(3)"
   ]
  },
  {
   "cell_type": "code",
   "execution_count": 8,
   "metadata": {},
   "outputs": [
    {
     "name": "stderr",
     "output_type": "stream",
     "text": [
      "23/10/24 11:32:40 WARN package: Truncated the string representation of a plan since it was too large. This behavior can be adjusted by setting 'spark.sql.debug.maxToStringFields'.\n",
      "[Stage 5:>                                                          (0 + 1) / 1]\r"
     ]
    },
    {
     "name": "stdout",
     "output_type": "stream",
     "text": [
      "+-------+------------------+----------+---------+------+------------------+--------+-----------------+------+-----------------+------+-------+--------------------+-----------------+--------------------+------------------+--------------------+--------------------+-----------------+\n",
      "|summary|            artist|      auth|firstName|gender|     itemInSession|lastName|           length| level|         location|method|   page|        registration|        sessionId|                song|            status|                  ts|           userAgent|           userId|\n",
      "+-------+------------------+----------+---------+------+------------------+--------+-----------------+------+-----------------+------+-------+--------------------+-----------------+--------------------+------------------+--------------------+--------------------+-----------------+\n",
      "|  count|            228108|    286500|   278154|278154|            286500|  278154|           228108|286500|           278154|286500| 286500|              278154|           286500|              228108|            286500|              286500|              278154|           286500|\n",
      "|   mean| 551.0852017937219|      null|     null|  null|114.41421291448516|    null|249.1171819778458|  null|             null|  null|   null|1.535358834084427...|1041.526554973822|            Infinity|210.05459685863875|1.540956889810483...|                null|59682.02278593872|\n",
      "| stddev|1217.7693079161374|      null|     null|  null|129.76726201140994|    null|99.23517921058361|  null|             null|  null|   null| 3.291321616327586E9|726.7762634630741|                 NaN| 31.50507848842214|1.5075439608226302E9|                null|109091.9499991047|\n",
      "|    min|               !!!| Cancelled| Adelaida|     F|                 0|   Adams|          0.78322|  free|       Albany, OR|   GET|  About|       1521380675000|                1|\u001cÃÂg ÃÂtti Gr...|               200|       1538352117000|\"Mozilla/5.0 (Mac...|                 |\n",
      "|    max| ÃÂlafur Arnalds|Logged Out|   Zyonna|     M|              1321|  Wright|       3024.66567|  paid|Winston-Salem, NC|   PUT|Upgrade|       1543247354000|             2474|ÃÂau hafa slopp...|               404|       1543799476000|Mozilla/5.0 (comp...|               99|\n",
      "+-------+------------------+----------+---------+------+------------------+--------+-----------------+------+-----------------+------+-------+--------------------+-----------------+--------------------+------------------+--------------------+--------------------+-----------------+\n",
      "\n"
     ]
    },
    {
     "name": "stderr",
     "output_type": "stream",
     "text": [
      "                                                                                \r"
     ]
    }
   ],
   "source": [
    "df.describe().show()"
   ]
  },
  {
   "cell_type": "markdown",
   "metadata": {},
   "source": [
    "We will need userId, sessionId and also page (representing our events) for all further evaluations, so let us first check and clean on them.\n",
    "#### Clean on userId, page and sessionId"
   ]
  },
  {
   "cell_type": "code",
   "execution_count": 9,
   "metadata": {},
   "outputs": [],
   "source": [
    "df_clean = df.dropna(how = \"any\", subset = [\"userId\", \"sessionId\", \"page\"])"
   ]
  },
  {
   "cell_type": "code",
   "execution_count": 10,
   "metadata": {},
   "outputs": [
    {
     "name": "stdout",
     "output_type": "stream",
     "text": [
      "+-------+-----------------+\n",
      "|summary|           userId|\n",
      "+-------+-----------------+\n",
      "|  count|           286500|\n",
      "|   mean|59682.02278593872|\n",
      "| stddev|109091.9499991047|\n",
      "|    min|                 |\n",
      "|    max|               99|\n",
      "+-------+-----------------+\n",
      "\n"
     ]
    }
   ],
   "source": [
    "df_clean.describe(\"userId\").show()"
   ]
  },
  {
   "cell_type": "code",
   "execution_count": 11,
   "metadata": {},
   "outputs": [
    {
     "name": "stdout",
     "output_type": "stream",
     "text": [
      "+------+\n",
      "|userId|\n",
      "+------+\n",
      "|      |\n",
      "|    10|\n",
      "|   100|\n",
      "|100001|\n",
      "|100002|\n",
      "+------+\n",
      "only showing top 5 rows\n",
      "\n"
     ]
    }
   ],
   "source": [
    "df_clean.select(\"userId\").dropDuplicates().sort(\"userId\").show(5)"
   ]
  },
  {
   "cell_type": "code",
   "execution_count": 12,
   "metadata": {},
   "outputs": [
    {
     "name": "stdout",
     "output_type": "stream",
     "text": [
      "+------+\n",
      "|userId|\n",
      "+------+\n",
      "|    99|\n",
      "|    98|\n",
      "|    97|\n",
      "|    96|\n",
      "|    95|\n",
      "+------+\n",
      "only showing top 5 rows\n",
      "\n"
     ]
    }
   ],
   "source": [
    "df_clean.select(\"userId\").dropDuplicates().sort(desc(\"userId\")).show(5)"
   ]
  },
  {
   "cell_type": "markdown",
   "metadata": {},
   "source": [
    "So we have some userIds which contain only empty string. What about the sessionIds?"
   ]
  },
  {
   "cell_type": "code",
   "execution_count": 13,
   "metadata": {},
   "outputs": [
    {
     "name": "stdout",
     "output_type": "stream",
     "text": [
      "+-------+-----------------+\n",
      "|summary|        sessionId|\n",
      "+-------+-----------------+\n",
      "|  count|           286500|\n",
      "|   mean|1041.526554973822|\n",
      "| stddev|726.7762634630741|\n",
      "|    min|                1|\n",
      "|    max|             2474|\n",
      "+-------+-----------------+\n",
      "\n"
     ]
    }
   ],
   "source": [
    "df_clean.describe(\"sessionId\").show()"
   ]
  },
  {
   "cell_type": "code",
   "execution_count": 14,
   "metadata": {},
   "outputs": [
    {
     "name": "stdout",
     "output_type": "stream",
     "text": [
      "+---------+\n",
      "|sessionId|\n",
      "+---------+\n",
      "|        1|\n",
      "|        2|\n",
      "|        3|\n",
      "|        4|\n",
      "|        5|\n",
      "+---------+\n",
      "only showing top 5 rows\n",
      "\n"
     ]
    }
   ],
   "source": [
    "df_clean.select(\"sessionId\").dropDuplicates().sort(\"sessionId\").show(5)"
   ]
  },
  {
   "cell_type": "code",
   "execution_count": 15,
   "metadata": {},
   "outputs": [
    {
     "name": "stdout",
     "output_type": "stream",
     "text": [
      "+---------+\n",
      "|sessionId|\n",
      "+---------+\n",
      "|     2474|\n",
      "|     2464|\n",
      "|     2459|\n",
      "|     2451|\n",
      "|     2446|\n",
      "+---------+\n",
      "only showing top 5 rows\n",
      "\n"
     ]
    }
   ],
   "source": [
    "df_clean.select(\"sessionId\").dropDuplicates().sort(desc(\"sessionId\")).show(5)"
   ]
  },
  {
   "cell_type": "markdown",
   "metadata": {},
   "source": [
    "In this dataset we obviously have perfect sessionId data. We have however to clean up on the userId."
   ]
  },
  {
   "cell_type": "code",
   "execution_count": 16,
   "metadata": {},
   "outputs": [],
   "source": [
    "df_clean = df_clean.filter(df_clean[\"userId\"] != \"\")"
   ]
  },
  {
   "cell_type": "code",
   "execution_count": 17,
   "metadata": {},
   "outputs": [
    {
     "data": {
      "text/plain": [
       "278154"
      ]
     },
     "execution_count": 17,
     "metadata": {},
     "output_type": "execute_result"
    }
   ],
   "source": [
    "df_clean.count()"
   ]
  },
  {
   "cell_type": "markdown",
   "metadata": {},
   "source": [
    "#### Function to clean the dataset"
   ]
  },
  {
   "cell_type": "code",
   "execution_count": 18,
   "metadata": {},
   "outputs": [],
   "source": [
    "def clean_data(df):\n",
    "    '''Removes rows with no usable userId, sessionId or page.\n",
    "    \n",
    "        Args:\n",
    "            df: a Pyspark dataframe\n",
    "            \n",
    "        Returns:\n",
    "            df with unusable rows removed\n",
    "    '''\n",
    "    df_clean = df.dropna(how = \"any\", subset = [\"userId\", \"sessionId\", \"page\"])\n",
    "    df_clean = df_clean.filter(df_clean[\"userId\"] != \"\")\n",
    "    return df_clean"
   ]
  },
  {
   "cell_type": "markdown",
   "metadata": {},
   "source": [
    "# Exploratory Data Analysis\n",
    "Define additional attributes to show downgrades and churns. Also add an attribute phase to be able to follow the user lifecycle. These attributes are used to get a better understanding of the data. "
   ]
  },
  {
   "cell_type": "markdown",
   "metadata": {},
   "source": [
    "## Pages\n",
    "How many different pages do we have within the data?"
   ]
  },
  {
   "cell_type": "code",
   "execution_count": 19,
   "metadata": {},
   "outputs": [
    {
     "name": "stdout",
     "output_type": "stream",
     "text": [
      "+--------------------+\n",
      "|                page|\n",
      "+--------------------+\n",
      "|               About|\n",
      "|          Add Friend|\n",
      "|     Add to Playlist|\n",
      "|              Cancel|\n",
      "|Cancellation Conf...|\n",
      "|           Downgrade|\n",
      "|               Error|\n",
      "|                Help|\n",
      "|                Home|\n",
      "|              Logout|\n",
      "|            NextSong|\n",
      "|         Roll Advert|\n",
      "|       Save Settings|\n",
      "|            Settings|\n",
      "|    Submit Downgrade|\n",
      "|      Submit Upgrade|\n",
      "|         Thumbs Down|\n",
      "|           Thumbs Up|\n",
      "|             Upgrade|\n",
      "+--------------------+\n",
      "\n"
     ]
    }
   ],
   "source": [
    "df_clean.select(\"page\").dropDuplicates().sort(\"page\").show()"
   ]
  },
  {
   "cell_type": "markdown",
   "metadata": {},
   "source": [
    "We will recognize downgrade events on the \"Submit Downgrade\" page.\n",
    "An actual churn is recognized on the \"Cancellation Confirmed\" page.\n"
   ]
  },
  {
   "cell_type": "code",
   "execution_count": 20,
   "metadata": {},
   "outputs": [],
   "source": [
    "DOWNGRADE_EVENT = 'Submit Downgrade'\n",
    "CHURN_EVENT = 'Cancellation Confirmation'"
   ]
  },
  {
   "cell_type": "markdown",
   "metadata": {},
   "source": [
    "## User lifecycle\n",
    "How does the lifecycle of a user look like?"
   ]
  },
  {
   "cell_type": "code",
   "execution_count": 21,
   "metadata": {},
   "outputs": [
    {
     "data": {
      "text/plain": [
       "[Row(userId='99', firstname='Madison', page='Home', song=None),\n",
       " Row(userId='99', firstname='Madison', page='NextSong', song='Welcome (Album Version)'),\n",
       " Row(userId='99', firstname='Madison', page='NextSong', song='Si No Existo (Live)'),\n",
       " Row(userId='99', firstname='Madison', page='NextSong', song='Moments with Oliver'),\n",
       " Row(userId='99', firstname='Madison', page='NextSong', song='Si Do Mhaimeo I'),\n",
       " Row(userId='99', firstname='Madison', page='Thumbs Down', song=None),\n",
       " Row(userId='99', firstname='Madison', page='NextSong', song='Coleccionista De Canciones'),\n",
       " Row(userId='99', firstname='Madison', page='Roll Advert', song=None),\n",
       " Row(userId='99', firstname='Madison', page='NextSong', song='Opposite Of Adults'),\n",
       " Row(userId='99', firstname='Madison', page='Thumbs Up', song=None),\n",
       " Row(userId='99', firstname='Madison', page='NextSong', song='PrÃ\\x83Âªte A Porter'),\n",
       " Row(userId='99', firstname='Madison', page='NextSong', song='Freedom'),\n",
       " Row(userId='99', firstname='Madison', page='NextSong', song='SinceritÃ\\x83Â© Et Jalousie'),\n",
       " Row(userId='99', firstname='Madison', page='NextSong', song='Bright Lights (Instrumental)'),\n",
       " Row(userId='99', firstname='Madison', page='NextSong', song='Unite (2009 Digital Remaster)'),\n",
       " Row(userId='99', firstname='Madison', page='NextSong', song='Hilikus'),\n",
       " Row(userId='99', firstname='Madison', page='NextSong', song='Call Me Up'),\n",
       " Row(userId='99', firstname='Madison', page='Add to Playlist', song=None),\n",
       " Row(userId='99', firstname='Madison', page='NextSong', song='Gethsemane'),\n",
       " Row(userId='99', firstname='Madison', page='NextSong', song='You Belong With Me'),\n",
       " Row(userId='99', firstname='Madison', page='NextSong', song='Above Me'),\n",
       " Row(userId='99', firstname='Madison', page='Roll Advert', song=None),\n",
       " Row(userId='99', firstname='Madison', page='NextSong', song='Unwell (Album Version)'),\n",
       " Row(userId='99', firstname='Madison', page='NextSong', song='Te Amo'),\n",
       " Row(userId='99', firstname='Madison', page='Home', song=None),\n",
       " Row(userId='99', firstname='Madison', page='Add Friend', song=None),\n",
       " Row(userId='99', firstname='Madison', page='Home', song=None),\n",
       " Row(userId='99', firstname='Madison', page='NextSong', song='Invincible'),\n",
       " Row(userId='99', firstname='Madison', page='Roll Advert', song=None),\n",
       " Row(userId='99', firstname='Madison', page='NextSong', song='Be With Me'),\n",
       " Row(userId='99', firstname='Madison', page='NextSong', song='I Need Your Love'),\n",
       " Row(userId='99', firstname='Madison', page='NextSong', song='After Afterall'),\n",
       " Row(userId='99', firstname='Madison', page='NextSong', song='Heads Will Roll'),\n",
       " Row(userId='99', firstname='Madison', page='NextSong', song='Bring Me To Life'),\n",
       " Row(userId='99', firstname='Madison', page='Roll Advert', song=None),\n",
       " Row(userId='99', firstname='Madison', page='NextSong', song='Mirrors'),\n",
       " Row(userId='99', firstname='Madison', page='Thumbs Down', song=None),\n",
       " Row(userId='99', firstname='Madison', page='NextSong', song='Eres'),\n",
       " Row(userId='99', firstname='Madison', page='NextSong', song='American Love (Album Version)'),\n",
       " Row(userId='99', firstname='Madison', page='NextSong', song='Tribute'),\n",
       " Row(userId='99', firstname='Madison', page='NextSong', song='Canada'),\n",
       " Row(userId='99', firstname='Madison', page='NextSong', song='Floating'),\n",
       " Row(userId='99', firstname='Madison', page='NextSong', song='Out Of Limits'),\n",
       " Row(userId='99', firstname='Madison', page='NextSong', song='Love In The Harbour'),\n",
       " Row(userId='99', firstname='Madison', page='NextSong', song='Calico'),\n",
       " Row(userId='99', firstname='Madison', page='NextSong', song='What If (Film Version)'),\n",
       " Row(userId='99', firstname='Madison', page='Home', song=None),\n",
       " Row(userId='99', firstname='Madison', page='Home', song=None),\n",
       " Row(userId='99', firstname='Madison', page='NextSong', song='Like A Virgin (Edit Version)'),\n",
       " Row(userId='99', firstname='Madison', page='NextSong', song='Fuck Kitty'),\n",
       " Row(userId='99', firstname='Madison', page='NextSong', song='I Scare Myself'),\n",
       " Row(userId='99', firstname='Madison', page='Roll Advert', song=None),\n",
       " Row(userId='99', firstname='Madison', page='NextSong', song=\"Ain't Misbehavin\"),\n",
       " Row(userId='99', firstname='Madison', page='NextSong', song='Someone Like You'),\n",
       " Row(userId='99', firstname='Madison', page='NextSong', song='I Got Yo Boyfriend'),\n",
       " Row(userId='99', firstname='Madison', page='NextSong', song='Ruanaway'),\n",
       " Row(userId='99', firstname='Madison', page='NextSong', song='Always Remember'),\n",
       " Row(userId='99', firstname='Madison', page='NextSong', song='Punch You In The Jeans'),\n",
       " Row(userId='99', firstname='Madison', page='NextSong', song=\"I'm Here\"),\n",
       " Row(userId='99', firstname='Madison', page='NextSong', song='Once Upon A December (Deana Carter Version)'),\n",
       " Row(userId='99', firstname='Madison', page='NextSong', song='Si Volvieras A Mi (Album Version)'),\n",
       " Row(userId='99', firstname='Madison', page='NextSong', song='Ole hiljaa'),\n",
       " Row(userId='99', firstname='Madison', page='NextSong', song='Dances of Resistance'),\n",
       " Row(userId='99', firstname='Madison', page='Roll Advert', song=None),\n",
       " Row(userId='99', firstname='Madison', page='NextSong', song='Stop Being Greedy'),\n",
       " Row(userId='99', firstname='Madison', page='NextSong', song='Anyone Else But You'),\n",
       " Row(userId='99', firstname='Madison', page='NextSong', song='Wild Wild West'),\n",
       " Row(userId='99', firstname='Madison', page='NextSong', song='Friendly Man'),\n",
       " Row(userId='99', firstname='Madison', page='NextSong', song='Venus'),\n",
       " Row(userId='99', firstname='Madison', page='Logout', song=None),\n",
       " Row(userId='99', firstname='Madison', page='Home', song=None),\n",
       " Row(userId='99', firstname='Madison', page='NextSong', song='Cross Of Christ'),\n",
       " Row(userId='99', firstname='Madison', page='NextSong', song='Passive Aggressive'),\n",
       " Row(userId='99', firstname='Madison', page='NextSong', song='ReprÃ\\x83Â©sente'),\n",
       " Row(userId='99', firstname='Madison', page='NextSong', song='Voices On A String (Album Version)'),\n",
       " Row(userId='99', firstname='Madison', page='NextSong', song='747 (We Ran Out Of Time)'),\n",
       " Row(userId='99', firstname='Madison', page='NextSong', song='Lithium'),\n",
       " Row(userId='99', firstname='Madison', page='Home', song=None),\n",
       " Row(userId='99', firstname='Madison', page='NextSong', song='The Backseat'),\n",
       " Row(userId='99', firstname='Madison', page='NextSong', song='Dreamchaser (Album Version)'),\n",
       " Row(userId='99', firstname='Madison', page='Roll Advert', song=None),\n",
       " Row(userId='99', firstname='Madison', page='NextSong', song='Bigger'),\n",
       " Row(userId='99', firstname='Madison', page='Add to Playlist', song=None),\n",
       " Row(userId='99', firstname='Madison', page='NextSong', song='Raga Haripriya'),\n",
       " Row(userId='99', firstname='Madison', page='Settings', song=None),\n",
       " Row(userId='99', firstname='Madison', page='NextSong', song='Buggley Eyes'),\n",
       " Row(userId='99', firstname='Madison', page='Home', song=None),\n",
       " Row(userId='99', firstname='Madison', page='NextSong', song='My Immortal (Album Version)'),\n",
       " Row(userId='99', firstname='Madison', page='Logout', song=None),\n",
       " Row(userId='99', firstname='Madison', page='Home', song=None),\n",
       " Row(userId='99', firstname='Madison', page='NextSong', song='Horn Concerto No. 4 in E flat K495: II. Romance (Andante cantabile)'),\n",
       " Row(userId='99', firstname='Madison', page='NextSong', song='Rockin Round The World'),\n",
       " Row(userId='99', firstname='Madison', page='NextSong', song='Provider'),\n",
       " Row(userId='99', firstname='Madison', page='NextSong', song='Time_ Time_ Time'),\n",
       " Row(userId='99', firstname='Madison', page='NextSong', song='The Path To Decay'),\n",
       " Row(userId='99', firstname='Madison', page='NextSong', song='Luvstruck'),\n",
       " Row(userId='99', firstname='Madison', page='NextSong', song='Love Can Damage Your Health'),\n",
       " Row(userId='99', firstname='Madison', page='NextSong', song='FTS'),\n",
       " Row(userId='99', firstname='Madison', page='NextSong', song='The Wild Hunt'),\n",
       " Row(userId='99', firstname='Madison', page='NextSong', song='The Scientist'),\n",
       " Row(userId='99', firstname='Madison', page='NextSong', song='Fireflies'),\n",
       " Row(userId='99', firstname='Madison', page='NextSong', song='No Mires Al Cielo'),\n",
       " Row(userId='99', firstname='Madison', page='NextSong', song='Life Of Uncertainty'),\n",
       " Row(userId='99', firstname='Madison', page='Thumbs Up', song=None),\n",
       " Row(userId='99', firstname='Madison', page='NextSong', song='Smile (Explicit Version)'),\n",
       " Row(userId='99', firstname='Madison', page='NextSong', song='I See You_ You See Me'),\n",
       " Row(userId='99', firstname='Madison', page='NextSong', song='Le Monde'),\n",
       " Row(userId='99', firstname='Madison', page='NextSong', song='Newspaper Reporter'),\n",
       " Row(userId='99', firstname='Madison', page='NextSong', song='Dias azules'),\n",
       " Row(userId='99', firstname='Madison', page='Thumbs Up', song=None),\n",
       " Row(userId='99', firstname='Madison', page='NextSong', song='Yah Mo Be There'),\n",
       " Row(userId='99', firstname='Madison', page='NextSong', song='SoÃ\\x83Â±ador Eterno'),\n",
       " Row(userId='99', firstname='Madison', page='Roll Advert', song=None),\n",
       " Row(userId='99', firstname='Madison', page='NextSong', song='Het Laatste Wonder'),\n",
       " Row(userId='99', firstname='Madison', page='NextSong', song=\"Learo_ You're A Hole\"),\n",
       " Row(userId='99', firstname='Madison', page='Upgrade', song=None),\n",
       " Row(userId='99', firstname='Madison', page='NextSong', song='Sing Our Own Song'),\n",
       " Row(userId='99', firstname='Madison', page='NextSong', song='Trenches'),\n",
       " Row(userId='99', firstname='Madison', page='Thumbs Down', song=None),\n",
       " Row(userId='99', firstname='Madison', page='NextSong', song='What You Know'),\n",
       " Row(userId='99', firstname='Madison', page='NextSong', song='The News from Your Bed'),\n",
       " Row(userId='99', firstname='Madison', page='NextSong', song='Alerion (feat. NO)'),\n",
       " Row(userId='99', firstname='Madison', page='NextSong', song='The Grease Mega-Mix'),\n",
       " Row(userId='99', firstname='Madison', page='NextSong', song='Long Cool Woman In A Black Dress'),\n",
       " Row(userId='99', firstname='Madison', page='NextSong', song='Untold'),\n",
       " Row(userId='99', firstname='Madison', page='NextSong', song='Boten Anna [Radio edit]'),\n",
       " Row(userId='99', firstname='Madison', page='NextSong', song='Mercy Mercy Me (The Ecology)'),\n",
       " Row(userId='99', firstname='Madison', page='NextSong', song='The Way He Was Raised'),\n",
       " Row(userId='99', firstname='Madison', page='Thumbs Up', song=None),\n",
       " Row(userId='99', firstname='Madison', page='NextSong', song='The Scientist'),\n",
       " Row(userId='99', firstname='Madison', page='NextSong', song='Talk Of The Town'),\n",
       " Row(userId='99', firstname='Madison', page='NextSong', song='Where You From?'),\n",
       " Row(userId='99', firstname='Madison', page='NextSong', song='Surrender'),\n",
       " Row(userId='99', firstname='Madison', page='NextSong', song='Pocket Porn (1990)'),\n",
       " Row(userId='99', firstname='Madison', page='Roll Advert', song=None),\n",
       " Row(userId='99', firstname='Madison', page='NextSong', song='Bad Day'),\n",
       " Row(userId='99', firstname='Madison', page='NextSong', song='Street Lights'),\n",
       " Row(userId='99', firstname='Madison', page='NextSong', song='Make Love To Your Mind'),\n",
       " Row(userId='99', firstname='Madison', page='Upgrade', song=None),\n",
       " Row(userId='99', firstname='Madison', page='Submit Upgrade', song=None),\n",
       " Row(userId='99', firstname='Madison', page='Home', song=None),\n",
       " Row(userId='99', firstname='Madison', page='NextSong', song=\"Hips Don't Lie\"),\n",
       " Row(userId='99', firstname='Madison', page='Thumbs Up', song=None),\n",
       " Row(userId='99', firstname='Madison', page='NextSong', song='Rock A My Soul'),\n",
       " Row(userId='99', firstname='Madison', page='NextSong', song='Luvstruck'),\n",
       " Row(userId='99', firstname='Madison', page='NextSong', song=\"Don't Stop The Music\"),\n",
       " Row(userId='99', firstname='Madison', page='NextSong', song='Blacks'),\n",
       " Row(userId='99', firstname='Madison', page='Thumbs Up', song=None),\n",
       " Row(userId='99', firstname='Madison', page='NextSong', song='Shoplifters Of The World Unite'),\n",
       " Row(userId='99', firstname='Madison', page='NextSong', song='Moonshadow'),\n",
       " Row(userId='99', firstname='Madison', page='Settings', song=None),\n",
       " Row(userId='99', firstname='Madison', page='NextSong', song=\"This Ain't A Scene_ It's An Arms Race\"),\n",
       " Row(userId='99', firstname='Madison', page='NextSong', song='The Downfall Of Us All'),\n",
       " Row(userId='99', firstname='Madison', page='About', song=None),\n",
       " Row(userId='99', firstname='Madison', page='NextSong', song='Aerodynamite'),\n",
       " Row(userId='99', firstname='Madison', page='NextSong', song='Stuck Between'),\n",
       " Row(userId='99', firstname='Madison', page='NextSong', song='Ride Of Life'),\n",
       " Row(userId='99', firstname='Madison', page='NextSong', song='We Major'),\n",
       " Row(userId='99', firstname='Madison', page='NextSong', song=\"You Be The Anchor That Keeps My Feet On The Ground_ I'll Be The Wings That Keep Your Heart In The Clouds (Album)\"),\n",
       " Row(userId='99', firstname='Madison', page='NextSong', song='Victoria (LP Version)'),\n",
       " Row(userId='99', firstname='Madison', page='NextSong', song='Almaz'),\n",
       " Row(userId='99', firstname='Madison', page='NextSong', song=\"Still Ballin'\"),\n",
       " Row(userId='99', firstname='Madison', page='NextSong', song=\"I'll Write A Song For You\"),\n",
       " Row(userId='99', firstname='Madison', page='NextSong', song='San Francisco Days (Remastered Album Version)'),\n",
       " Row(userId='99', firstname='Madison', page='NextSong', song='Amish Paradise (Parody of \"Gangsta\\'s Paradise\" by Coolio)'),\n",
       " Row(userId='99', firstname='Madison', page='NextSong', song=\"Rollin' & Scratchin'\"),\n",
       " Row(userId='99', firstname='Madison', page='NextSong', song=\"Jazz (We've Got)\"),\n",
       " Row(userId='99', firstname='Madison', page='Add Friend', song=None),\n",
       " Row(userId='99', firstname='Madison', page='NextSong', song='A Nightmare To Remember (Album Version)'),\n",
       " Row(userId='99', firstname='Madison', page='NextSong', song='Changes'),\n",
       " Row(userId='99', firstname='Madison', page='NextSong', song='Heartbreak Warfare'),\n",
       " Row(userId='99', firstname='Madison', page='Thumbs Up', song=None),\n",
       " Row(userId='99', firstname='Madison', page='NextSong', song='Palestina'),\n",
       " Row(userId='99', firstname='Madison', page='Add Friend', song=None),\n",
       " Row(userId='99', firstname='Madison', page='Home', song=None),\n",
       " Row(userId='99', firstname='Madison', page='NextSong', song='Times Like These'),\n",
       " Row(userId='99', firstname='Madison', page='NextSong', song='Mother In-Law'),\n",
       " Row(userId='99', firstname='Madison', page='NextSong', song='Stand To The Side'),\n",
       " Row(userId='99', firstname='Madison', page='NextSong', song='That\\x19s All I Need To Know (Digitally Remastered)'),\n",
       " Row(userId='99', firstname='Madison', page='NextSong', song='Smile'),\n",
       " Row(userId='99', firstname='Madison', page='Thumbs Up', song=None),\n",
       " Row(userId='99', firstname='Madison', page='NextSong', song='Quiero Quererte Querer'),\n",
       " Row(userId='99', firstname='Madison', page='NextSong', song='Just Dance'),\n",
       " Row(userId='99', firstname='Madison', page='NextSong', song='The Damage In Your Heart'),\n",
       " Row(userId='99', firstname='Madison', page='NextSong', song='Simple Things (Work It Out)'),\n",
       " Row(userId='99', firstname='Madison', page='NextSong', song='Perfect Crime'),\n",
       " Row(userId='99', firstname='Madison', page='NextSong', song='Que voy a hacer con mi amor'),\n",
       " Row(userId='99', firstname='Madison', page='Thumbs Up', song=None),\n",
       " Row(userId='99', firstname='Madison', page='NextSong', song='Quasar'),\n",
       " Row(userId='99', firstname='Madison', page='NextSong', song='Canada'),\n",
       " Row(userId='99', firstname='Madison', page='NextSong', song=\"I CAN'T GET STARTED\"),\n",
       " Row(userId='99', firstname='Madison', page='NextSong', song='The Fox (Live from The Freight and Salvage_ Nov. 16_ 2000)'),\n",
       " Row(userId='99', firstname='Madison', page='NextSong', song='Somatically Incorrect'),\n",
       " Row(userId='99', firstname='Madison', page='NextSong', song='DÃ\\x83Â©senchantÃ\\x83Â©e'),\n",
       " Row(userId='99', firstname='Madison', page='NextSong', song=\"You're So Last Summer (Album Version)\"),\n",
       " Row(userId='99', firstname='Madison', page='NextSong', song='In My Secret Life'),\n",
       " Row(userId='99', firstname='Madison', page='NextSong', song='The Arms of Sorrow (Album Version)'),\n",
       " Row(userId='99', firstname='Madison', page='NextSong', song='W'),\n",
       " Row(userId='99', firstname='Madison', page='NextSong', song='Spaceman'),\n",
       " Row(userId='99', firstname='Madison', page='NextSong', song='Gritarle Al Viento'),\n",
       " Row(userId='99', firstname='Madison', page='NextSong', song=\"Prodigal Son (Harvey's A Star In Your Own Mind Mix)\"),\n",
       " Row(userId='99', firstname='Madison', page='NextSong', song='My Little Man'),\n",
       " Row(userId='99', firstname='Madison', page='NextSong', song=\"Don't Cry\"),\n",
       " Row(userId='99', firstname='Madison', page='NextSong', song='My Name Is'),\n",
       " Row(userId='99', firstname='Madison', page='NextSong', song='Right Right Now Now'),\n",
       " Row(userId='99', firstname='Madison', page='NextSong', song='Que dira el santo padre'),\n",
       " Row(userId='99', firstname='Madison', page='NextSong', song='Bleak'),\n",
       " Row(userId='99', firstname='Madison', page='NextSong', song='Get Up And Go'),\n",
       " Row(userId='99', firstname='Madison', page='NextSong', song='143'),\n",
       " Row(userId='99', firstname='Madison', page='NextSong', song='One Minute To Midnight'),\n",
       " Row(userId='99', firstname='Madison', page='NextSong', song='If I Had You'),\n",
       " Row(userId='99', firstname='Madison', page='NextSong', song='Soil To The Sun'),\n",
       " Row(userId='99', firstname='Madison', page='NextSong', song=\"Can't You See\"),\n",
       " Row(userId='99', firstname='Madison', page='NextSong', song='M79 (Album)'),\n",
       " Row(userId='99', firstname='Madison', page='NextSong', song='In Brooklyn After Dark'),\n",
       " Row(userId='99', firstname='Madison', page='NextSong', song='I Still Remember'),\n",
       " Row(userId='99', firstname='Madison', page='NextSong', song='Anniversary Song (Album Version)'),\n",
       " Row(userId='99', firstname='Madison', page='NextSong', song='Aerials'),\n",
       " Row(userId='99', firstname='Madison', page='NextSong', song='Satellite'),\n",
       " Row(userId='99', firstname='Madison', page='NextSong', song=\"Everything's Magic\"),\n",
       " Row(userId='99', firstname='Madison', page='NextSong', song=\"It's My Life\"),\n",
       " Row(userId='99', firstname='Madison', page='NextSong', song='Piano Smasher'),\n",
       " Row(userId='99', firstname='Madison', page='NextSong', song=\"Moar Ghosts 'n' Stuff\"),\n",
       " Row(userId='99', firstname='Madison', page='NextSong', song='Give Me Your Eyes'),\n",
       " Row(userId='99', firstname='Madison', page='NextSong', song=\"Can't Stand Me Now\"),\n",
       " Row(userId='99', firstname='Madison', page='NextSong', song='Pitas Sorrow'),\n",
       " Row(userId='99', firstname='Madison', page='Logout', song=None),\n",
       " Row(userId='99', firstname='Madison', page='Home', song=None),\n",
       " Row(userId='99', firstname='Madison', page='NextSong', song='In The Presence Of Enemies Pt. 2'),\n",
       " Row(userId='99', firstname='Madison', page='NextSong', song='Mr. Crowley'),\n",
       " Row(userId='99', firstname='Madison', page='Settings', song=None),\n",
       " Row(userId='99', firstname='Madison', page='Add Friend', song=None),\n",
       " Row(userId='99', firstname='Madison', page='Add Friend', song=None),\n",
       " Row(userId='99', firstname='Madison', page='NextSong', song='All I Could Bleed (LP Version)'),\n",
       " Row(userId='99', firstname='Madison', page='NextSong', song='Speed Of Sound'),\n",
       " Row(userId='99', firstname='Madison', page='NextSong', song='The Bakery'),\n",
       " Row(userId='99', firstname='Madison', page='NextSong', song='Fools'),\n",
       " Row(userId='99', firstname='Madison', page='NextSong', song='Mother In-Law'),\n",
       " Row(userId='99', firstname='Madison', page='NextSong', song='Your Bones'),\n",
       " Row(userId='99', firstname='Madison', page='NextSong', song='No Brainer'),\n",
       " Row(userId='99', firstname='Madison', page='NextSong', song='Like A Boss'),\n",
       " Row(userId='99', firstname='Madison', page='NextSong', song='Broken Man'),\n",
       " Row(userId='99', firstname='Madison', page='NextSong', song='Nah!'),\n",
       " Row(userId='99', firstname='Madison', page='NextSong', song=\"Stay With Me [Everybody's Free] [MySparks Edit]\"),\n",
       " Row(userId='99', firstname='Madison', page='NextSong', song='The News'),\n",
       " Row(userId='99', firstname='Madison', page='NextSong', song='Jesus & Bartenders'),\n",
       " Row(userId='99', firstname='Madison', page='NextSong', song='Your Body is a temple'),\n",
       " Row(userId='99', firstname='Madison', page='NextSong', song='Welcome Home (Sanitarium)'),\n",
       " Row(userId='99', firstname='Madison', page='NextSong', song='Walk A Little Straighter'),\n",
       " Row(userId='99', firstname='Madison', page='NextSong', song='Smoking On Purple (feat. Webbie) (amended album version)'),\n",
       " Row(userId='99', firstname='Madison', page='NextSong', song=\"Say It Ain't So\"),\n",
       " Row(userId='99', firstname='Madison', page='NextSong', song='Empty Baseball Park'),\n",
       " Row(userId='99', firstname='Madison', page='NextSong', song='Divorce Song'),\n",
       " Row(userId='99', firstname='Madison', page='NextSong', song='East L.A. (LP Version)'),\n",
       " Row(userId='99', firstname='Madison', page='NextSong', song='Bent (LP Version)'),\n",
       " Row(userId='99', firstname='Madison', page='NextSong', song='Nothing'),\n",
       " Row(userId='99', firstname='Madison', page='NextSong', song='Something (Album Version)'),\n",
       " Row(userId='99', firstname='Madison', page='NextSong', song='ICH TU DIR WEH'),\n",
       " Row(userId='99', firstname='Madison', page='NextSong', song='Bodies'),\n",
       " Row(userId='99', firstname='Madison', page='NextSong', song='Home'),\n",
       " Row(userId='99', firstname='Madison', page='NextSong', song='Welcome To The Black Parade (Album Version)'),\n",
       " Row(userId='99', firstname='Madison', page='NextSong', song='Go To Sleep'),\n",
       " Row(userId='99', firstname='Madison', page='NextSong', song='Sugar Box'),\n",
       " Row(userId='99', firstname='Madison', page='Roll Advert', song=None),\n",
       " Row(userId='99', firstname='Madison', page='NextSong', song='Baby Blue'),\n",
       " Row(userId='99', firstname='Madison', page='NextSong', song='Dark eternity'),\n",
       " Row(userId='99', firstname='Madison', page='NextSong', song=\"I'm In The House\"),\n",
       " Row(userId='99', firstname='Madison', page='NextSong', song=\"Hang 'Em High (Album Version)\"),\n",
       " Row(userId='99', firstname='Madison', page='NextSong', song='Hunger Strike'),\n",
       " Row(userId='99', firstname='Madison', page='NextSong', song='Slash Dot Dash'),\n",
       " Row(userId='99', firstname='Madison', page='NextSong', song='The Fling'),\n",
       " Row(userId='99', firstname='Madison', page='NextSong', song='Bubble Toes'),\n",
       " Row(userId='99', firstname='Madison', page='NextSong', song='Ice'),\n",
       " Row(userId='99', firstname='Madison', page='NextSong', song='Propane Nightmares [Celldweller remix]'),\n",
       " Row(userId='99', firstname='Madison', page='NextSong', song='Microphones in the Trees'),\n",
       " Row(userId='99', firstname='Madison', page='NextSong', song='Interstate Love Song (LP Version)'),\n",
       " Row(userId='99', firstname='Madison', page='NextSong', song='Dog Days Are Over (Radio Edit)'),\n",
       " Row(userId='99', firstname='Madison', page='NextSong', song='Crack A Bottle'),\n",
       " Row(userId='99', firstname='Madison', page='NextSong', song='Empire Ants (Feat. Little Dragon)'),\n",
       " Row(userId='99', firstname='Madison', page='NextSong', song='La Fokin Moda'),\n",
       " Row(userId='99', firstname='Madison', page='NextSong', song='Teach Me How To Dougie'),\n",
       " Row(userId='99', firstname='Madison', page='NextSong', song='Superman'),\n",
       " Row(userId='99', firstname='Madison', page='NextSong', song='Where Would I Be (The Question)'),\n",
       " Row(userId='99', firstname='Madison', page='Thumbs Up', song=None),\n",
       " Row(userId='99', firstname='Madison', page='NextSong', song=\"I'm Every Woman\"),\n",
       " Row(userId='99', firstname='Madison', page='NextSong', song='Half Of My Heart'),\n",
       " Row(userId='99', firstname='Madison', page='NextSong', song='Baby M'),\n",
       " Row(userId='99', firstname='Madison', page='NextSong', song='ReprÃ\\x83Â©sente'),\n",
       " Row(userId='99', firstname='Madison', page='NextSong', song='Billionaire [feat. Bruno Mars]  (Explicit Album Version)'),\n",
       " Row(userId='99', firstname='Madison', page='NextSong', song='Paris_ Tokyo (Explicit Album Version)'),\n",
       " Row(userId='99', firstname='Madison', page='NextSong', song='Una Confusion'),\n",
       " Row(userId='99', firstname='Madison', page='Add Friend', song=None),\n",
       " Row(userId='99', firstname='Madison', page='NextSong', song=\"You're The One\"),\n",
       " Row(userId='99', firstname='Madison', page='NextSong', song='Turn The Page'),\n",
       " Row(userId='99', firstname='Madison', page='Home', song=None),\n",
       " Row(userId='99', firstname='Madison', page='NextSong', song='Tighten Up'),\n",
       " Row(userId='99', firstname='Madison', page='NextSong', song='Anyone Else But You'),\n",
       " Row(userId='99', firstname='Madison', page='NextSong', song='The Disconnect'),\n",
       " Row(userId='99', firstname='Madison', page='Add to Playlist', song=None),\n",
       " Row(userId='99', firstname='Madison', page='NextSong', song='Boulder Holder'),\n",
       " Row(userId='99', firstname='Madison', page='NextSong', song='Robot Rock'),\n",
       " Row(userId='99', firstname='Madison', page='NextSong', song='Try To Forget'),\n",
       " Row(userId='99', firstname='Madison', page='NextSong', song='A Message To You Rudy'),\n",
       " Row(userId='99', firstname='Madison', page='NextSong', song='Sleep In The Garden'),\n",
       " Row(userId='99', firstname='Madison', page='NextSong', song='Creil City'),\n",
       " Row(userId='99', firstname='Madison', page='NextSong', song='In My Place'),\n",
       " Row(userId='99', firstname='Madison', page='NextSong', song='The Middle'),\n",
       " Row(userId='99', firstname='Madison', page='NextSong', song='Something (Album Version)'),\n",
       " Row(userId='99', firstname='Madison', page='NextSong', song='Favorite Girl'),\n",
       " Row(userId='99', firstname='Madison', page='NextSong', song='Le Courage Des Oiseaux'),\n",
       " Row(userId='99', firstname='Madison', page='NextSong', song='Dance With Me'),\n",
       " Row(userId='99', firstname='Madison', page='Logout', song=None),\n",
       " Row(userId='99', firstname='Madison', page='Home', song=None),\n",
       " Row(userId='99', firstname='Madison', page='NextSong', song='Luv Me_ Luv Me'),\n",
       " Row(userId='99', firstname='Madison', page='NextSong', song='Human After All (The Juan Mclean Remix )'),\n",
       " Row(userId='99', firstname='Madison', page='NextSong', song='Bucci Bag'),\n",
       " Row(userId='99', firstname='Madison', page='Home', song=None),\n",
       " Row(userId='99', firstname='Madison', page='NextSong', song='Crumbs Off The Table (Feat. Aaron Livingston)'),\n",
       " Row(userId='99', firstname='Madison', page='NextSong', song='Enjoying Myself'),\n",
       " Row(userId='99', firstname='Madison', page='About', song=None),\n",
       " Row(userId='99', firstname='Madison', page='NextSong', song=\"I'm Her Slave (Album)\"),\n",
       " Row(userId='99', firstname='Madison', page='Thumbs Up', song=None),\n",
       " Row(userId='99', firstname='Madison', page='Add to Playlist', song=None),\n",
       " Row(userId='99', firstname='Madison', page='NextSong', song='Nasty'),\n",
       " Row(userId='99', firstname='Madison', page='NextSong', song='Situations'),\n",
       " Row(userId='99', firstname='Madison', page='NextSong', song='Vanilla Sex'),\n",
       " Row(userId='99', firstname='Madison', page='Thumbs Up', song=None),\n",
       " Row(userId='99', firstname='Madison', page='NextSong', song='SinceritÃ\\x83Â© Et Jalousie'),\n",
       " Row(userId='99', firstname='Madison', page='NextSong', song='GO!'),\n",
       " Row(userId='99', firstname='Madison', page='NextSong', song='Oceanside'),\n",
       " Row(userId='99', firstname='Madison', page='NextSong', song='Playground'),\n",
       " Row(userId='99', firstname='Madison', page='NextSong', song='Mockingbird'),\n",
       " Row(userId='99', firstname='Madison', page='NextSong', song='Ether (Album Version)'),\n",
       " Row(userId='99', firstname='Madison', page='NextSong', song='No Surprise'),\n",
       " Row(userId='99', firstname='Madison', page='NextSong', song='Have You Ever Seen The Rain'),\n",
       " Row(userId='99', firstname='Madison', page='NextSong', song='4321'),\n",
       " Row(userId='99', firstname='Madison', page='Home', song=None),\n",
       " Row(userId='99', firstname='Madison', page='NextSong', song='A Song For Sleeping (LP Version)'),\n",
       " Row(userId='99', firstname='Madison', page='Logout', song=None),\n",
       " Row(userId='99', firstname='Madison', page='Home', song=None),\n",
       " Row(userId='99', firstname='Madison', page='NextSong', song='Conversation At the Theatre'),\n",
       " Row(userId='99', firstname='Madison', page='NextSong', song='On/Off'),\n",
       " Row(userId='99', firstname='Madison', page='Thumbs Up', song=None),\n",
       " Row(userId='99', firstname='Madison', page='NextSong', song='U Already Know'),\n",
       " Row(userId='99', firstname='Madison', page='NextSong', song='The Warning'),\n",
       " Row(userId='99', firstname='Madison', page='NextSong', song='Brandenburg'),\n",
       " Row(userId='99', firstname='Madison', page='Thumbs Down', song=None),\n",
       " Row(userId='99', firstname='Madison', page='NextSong', song='Perfectly Lonely'),\n",
       " Row(userId='99', firstname='Madison', page='NextSong', song='One More Time (Short Radio Edit)'),\n",
       " Row(userId='99', firstname='Madison', page='NextSong', song='Like A Pen'),\n",
       " Row(userId='99', firstname='Madison', page='NextSong', song='Story # 1'),\n",
       " Row(userId='99', firstname='Madison', page='NextSong', song=\"Where's Jack The Ripper?\"),\n",
       " Row(userId='99', firstname='Madison', page='NextSong', song='Good Bye Earl'),\n",
       " Row(userId='99', firstname='Madison', page='NextSong', song='Holding Out For A Hero'),\n",
       " Row(userId='99', firstname='Madison', page='NextSong', song='DDT'),\n",
       " Row(userId='99', firstname='Madison', page='NextSong', song='Hochmah (Interlude)'),\n",
       " Row(userId='99', firstname='Madison', page='NextSong', song='Between The Bars'),\n",
       " Row(userId='99', firstname='Madison', page='NextSong', song='Un Dia Gris'),\n",
       " Row(userId='99', firstname='Madison', page='Home', song=None),\n",
       " Row(userId='99', firstname='Madison', page='NextSong', song='The Scientist'),\n",
       " Row(userId='99', firstname='Madison', page='Add to Playlist', song=None),\n",
       " Row(userId='99', firstname='Madison', page='NextSong', song='Satellites'),\n",
       " Row(userId='99', firstname='Madison', page='NextSong', song='Cosmic Love'),\n",
       " Row(userId='99', firstname='Madison', page='Add to Playlist', song=None),\n",
       " Row(userId='99', firstname='Madison', page='NextSong', song='Odd One (Radio Edit)'),\n",
       " Row(userId='99', firstname='Madison', page='NextSong', song=\"What I've Done\"),\n",
       " Row(userId='99', firstname='Madison', page='NextSong', song=\"You're The One\"),\n",
       " Row(userId='99', firstname='Madison', page='NextSong', song='Diner'),\n",
       " Row(userId='99', firstname='Madison', page='NextSong', song='Let It Go'),\n",
       " Row(userId='99', firstname='Madison', page='NextSong', song='I Wonder'),\n",
       " Row(userId='99', firstname='Madison', page='NextSong', song=\"Stumblin'\"),\n",
       " Row(userId='99', firstname='Madison', page='NextSong', song='Pearl Vision'),\n",
       " Row(userId='99', firstname='Madison', page='NextSong', song='Real Thing'),\n",
       " Row(userId='99', firstname='Madison', page='NextSong', song='Revelry'),\n",
       " Row(userId='99', firstname='Madison', page='NextSong', song='Insecto Urbano'),\n",
       " Row(userId='99', firstname='Madison', page='Thumbs Up', song=None),\n",
       " Row(userId='99', firstname='Madison', page='NextSong', song='Lovebug'),\n",
       " Row(userId='99', firstname='Madison', page='Thumbs Up', song=None),\n",
       " Row(userId='99', firstname='Madison', page='NextSong', song='Dress Me Like a Clown'),\n",
       " Row(userId='99', firstname='Madison', page='NextSong', song='Undo'),\n",
       " Row(userId='99', firstname='Madison', page='NextSong', song='Canada'),\n",
       " Row(userId='99', firstname='Madison', page='NextSong', song=\"I'd Rather Go Blind\"),\n",
       " Row(userId='99', firstname='Madison', page='NextSong', song=\"'Til We Die (Album Version)\"),\n",
       " Row(userId='99', firstname='Madison', page='NextSong', song='Up To Zion (Low Key-Premiere Performance Plus w/o Background Vocals)'),\n",
       " Row(userId='99', firstname='Madison', page='NextSong', song='Thrills'),\n",
       " Row(userId='99', firstname='Madison', page='NextSong', song='Hell Breaks Loose'),\n",
       " Row(userId='99', firstname='Madison', page='NextSong', song='Crossroads'),\n",
       " Row(userId='99', firstname='Madison', page='NextSong', song='Pretty'),\n",
       " Row(userId='99', firstname='Madison', page='NextSong', song='Over And Over (Maurice Fulton Dub)'),\n",
       " Row(userId='99', firstname='Madison', page='NextSong', song='Poison (Album Version)'),\n",
       " Row(userId='99', firstname='Madison', page='NextSong', song=\"My Love Hasn't Grown Cold\"),\n",
       " Row(userId='99', firstname='Madison', page='NextSong', song='Behave'),\n",
       " Row(userId='99', firstname='Madison', page='NextSong', song='I Kissed A Girl'),\n",
       " Row(userId='99', firstname='Madison', page='NextSong', song='Lady Marmalade'),\n",
       " Row(userId='99', firstname='Madison', page='Home', song=None),\n",
       " Row(userId='99', firstname='Madison', page='NextSong', song='Absinthe And Rue'),\n",
       " Row(userId='99', firstname='Madison', page='NextSong', song='The Worst Idea'),\n",
       " Row(userId='99', firstname='Madison', page='NextSong', song='Come Close'),\n",
       " Row(userId='99', firstname='Madison', page='Downgrade', song=None),\n",
       " Row(userId='99', firstname='Madison', page='NextSong', song='Glamour Girl'),\n",
       " Row(userId='99', firstname='Madison', page='NextSong', song='Photographs'),\n",
       " Row(userId='99', firstname='Madison', page='NextSong', song='Walk Away'),\n",
       " Row(userId='99', firstname='Madison', page='NextSong', song='Velouria'),\n",
       " Row(userId='99', firstname='Madison', page='Logout', song=None),\n",
       " Row(userId='99', firstname='Madison', page='Home', song=None),\n",
       " Row(userId='99', firstname='Madison', page='NextSong', song='Naturally'),\n",
       " Row(userId='99', firstname='Madison', page='NextSong', song='Fell In Love With A Girl'),\n",
       " Row(userId='99', firstname='Madison', page='NextSong', song=\"God's Snake\"),\n",
       " Row(userId='99', firstname='Madison', page='NextSong', song='Atomic Clock'),\n",
       " Row(userId='99', firstname='Madison', page='NextSong', song='Seven Nation Army'),\n",
       " Row(userId='99', firstname='Madison', page='NextSong', song='Hasta Que Te Conoci'),\n",
       " Row(userId='99', firstname='Madison', page='Thumbs Up', song=None),\n",
       " Row(userId='99', firstname='Madison', page='NextSong', song='Save The Best For Last'),\n",
       " Row(userId='99', firstname='Madison', page='NextSong', song='Leave House'),\n",
       " Row(userId='99', firstname='Madison', page='NextSong', song='Green'),\n",
       " Row(userId='99', firstname='Madison', page='NextSong', song=\"The Zookeeper's Boy\"),\n",
       " Row(userId='99', firstname='Madison', page='NextSong', song='Hotel California'),\n",
       " Row(userId='99', firstname='Madison', page='NextSong', song='New Soul'),\n",
       " Row(userId='99', firstname='Madison', page='NextSong', song='Bodies'),\n",
       " Row(userId='99', firstname='Madison', page='NextSong', song=\"You're Sensational\"),\n",
       " Row(userId='99', firstname='Madison', page='NextSong', song='Walk In The Park'),\n",
       " Row(userId='99', firstname='Madison', page='NextSong', song='Like A Boss'),\n",
       " Row(userId='99', firstname='Madison', page='NextSong', song='Waters Of Nazareth (album version)'),\n",
       " Row(userId='99', firstname='Madison', page='NextSong', song='Wake Me Up'),\n",
       " Row(userId='99', firstname='Madison', page='NextSong', song='Tablespoon of Codeine'),\n",
       " Row(userId='99', firstname='Madison', page='NextSong', song=\"When I Get Home You're So Dead (New Version) (Album)\"),\n",
       " Row(userId='99', firstname='Madison', page='Add Friend', song=None),\n",
       " Row(userId='99', firstname='Madison', page='NextSong', song='Hello Morning'),\n",
       " Row(userId='99', firstname='Madison', page='Logout', song=None),\n",
       " Row(userId='99', firstname='Madison', page='Home', song=None),\n",
       " Row(userId='99', firstname='Madison', page='NextSong', song='Blaze It Pt II'),\n",
       " Row(userId='99', firstname='Madison', page='NextSong', song='God Of Wonders'),\n",
       " Row(userId='99', firstname='Madison', page='Add Friend', song=None),\n",
       " Row(userId='99', firstname='Madison', page='Add Friend', song=None),\n",
       " Row(userId='99', firstname='Madison', page='NextSong', song='Poetas'),\n",
       " Row(userId='99', firstname='Madison', page='NextSong', song=\"Back In '64\"),\n",
       " Row(userId='99', firstname='Madison', page='Help', song=None),\n",
       " Row(userId='99', firstname='Madison', page='NextSong', song='More Than Anyone'),\n",
       " Row(userId='99', firstname='Madison', page='NextSong', song='Taj Mahal'),\n",
       " Row(userId='99', firstname='Madison', page='Add to Playlist', song=None),\n",
       " Row(userId='99', firstname='Madison', page='NextSong', song='Paper Planes'),\n",
       " Row(userId='99', firstname='Madison', page='NextSong', song='The Whole World'),\n",
       " Row(userId='99', firstname='Madison', page='NextSong', song='Slow Jamz (Feat. Kanye West & Jamie Foxx) (Edited Album Version)'),\n",
       " Row(userId='99', firstname='Madison', page='NextSong', song='Bukowski'),\n",
       " Row(userId='99', firstname='Madison', page='NextSong', song='Before I Forget (Album Version)'),\n",
       " Row(userId='99', firstname='Madison', page='NextSong', song='Fighters (feat. Matthew Santos) (Amended Album Version)'),\n",
       " Row(userId='99', firstname='Madison', page='NextSong', song='American Nightmare'),\n",
       " Row(userId='99', firstname='Madison', page='NextSong', song='God Gave Me Everything'),\n",
       " Row(userId='99', firstname='Madison', page='NextSong', song='Everlong'),\n",
       " Row(userId='99', firstname='Madison', page='NextSong', song='Heiterkeit'),\n",
       " Row(userId='99', firstname='Madison', page='NextSong', song='Bad Apples'),\n",
       " Row(userId='99', firstname='Madison', page='Thumbs Up', song=None),\n",
       " Row(userId='99', firstname='Madison', page='Add to Playlist', song=None),\n",
       " Row(userId='99', firstname='Madison', page='NextSong', song='Hope'),\n",
       " Row(userId='99', firstname='Madison', page='NextSong', song=\"We'll Cross the River Together\"),\n",
       " Row(userId='99', firstname='Madison', page='NextSong', song='OMG'),\n",
       " Row(userId='99', firstname='Madison', page='NextSong', song='A Never Ending Dream'),\n",
       " Row(userId='99', firstname='Madison', page='NextSong', song=\"My World View (Don't Censor Me Album Version)\"),\n",
       " Row(userId='99', firstname='Madison', page='Thumbs Up', song=None),\n",
       " Row(userId='99', firstname='Madison', page='NextSong', song='Drive'),\n",
       " Row(userId='99', firstname='Madison', page='NextSong', song='Dream On'),\n",
       " Row(userId='99', firstname='Madison', page='NextSong', song='Dimelo Tu'),\n",
       " Row(userId='99', firstname='Madison', page='NextSong', song=\"Help Me_ I'm In Need\"),\n",
       " Row(userId='99', firstname='Madison', page='NextSong', song='Your Song'),\n",
       " Row(userId='99', firstname='Madison', page='NextSong', song='Short Skirt/Long Jacket'),\n",
       " Row(userId='99', firstname='Madison', page='NextSong', song='Run (LP Version)'),\n",
       " Row(userId='99', firstname='Madison', page='NextSong', song='Big Bad Bill (Is Sweet William Now) (Album Version)'),\n",
       " Row(userId='99', firstname='Madison', page='NextSong', song=\"Let's Go Away For Awhile (Highlights From Tracking Date)\"),\n",
       " Row(userId='99', firstname='Madison', page='NextSong', song='Try Jah Love'),\n",
       " Row(userId='99', firstname='Madison', page='NextSong', song=\"I'm Good_ I'm Gone\"),\n",
       " Row(userId='99', firstname='Madison', page='NextSong', song='The Brainwasher'),\n",
       " Row(userId='99', firstname='Madison', page='NextSong', song='Gonna Make You Sweat  (Everybody Dance Now)'),\n",
       " Row(userId='99', firstname='Madison', page='NextSong', song='Biggest Mistake'),\n",
       " Row(userId='99', firstname='Madison', page='NextSong', song='My Band'),\n",
       " Row(userId='99', firstname='Madison', page='NextSong', song='Lucky (Album Version)'),\n",
       " Row(userId='99', firstname='Madison', page='NextSong', song='Barbie Girl'),\n",
       " Row(userId='99', firstname='Madison', page='NextSong', song='Feel So Numb'),\n",
       " Row(userId='99', firstname='Madison', page='NextSong', song=\"It's A Fire\"),\n",
       " Row(userId='99', firstname='Madison', page='NextSong', song='Loaded'),\n",
       " Row(userId='99', firstname='Madison', page='NextSong', song='Flashing Lights'),\n",
       " Row(userId='99', firstname='Madison', page='Add Friend', song=None),\n",
       " Row(userId='99', firstname='Madison', page='NextSong', song='Taxi Driver (Album Version)'),\n",
       " Row(userId='99', firstname='Madison', page='Thumbs Up', song=None),\n",
       " Row(userId='99', firstname='Madison', page='NextSong', song='I Love You'),\n",
       " Row(userId='99', firstname='Madison', page='NextSong', song='Are You Hurting The One You Love?'),\n",
       " Row(userId='99', firstname='Madison', page='NextSong', song='Leave The World Behind'),\n",
       " Row(userId='99', firstname='Madison', page='Thumbs Up', song=None),\n",
       " Row(userId='99', firstname='Madison', page='NextSong', song='Ride The Lightning'),\n",
       " Row(userId='99', firstname='Madison', page='NextSong', song='HA HA HA HA HA HA!'),\n",
       " Row(userId='99', firstname='Madison', page='NextSong', song='Never Let Her Slip Away'),\n",
       " Row(userId='99', firstname='Madison', page='NextSong', song='Song 4 Mutya (Out Of Control)'),\n",
       " Row(userId='99', firstname='Madison', page='NextSong', song='Soy Hombre (feat. Arturo Sandoval)'),\n",
       " Row(userId='99', firstname='Madison', page='NextSong', song='On my way'),\n",
       " Row(userId='99', firstname='Madison', page='NextSong', song='ReprÃ\\x83Â©sente'),\n",
       " Row(userId='99', firstname='Madison', page='Downgrade', song=None),\n",
       " Row(userId='99', firstname='Madison', page='NextSong', song='I Believe (DJ Tandu Mix)'),\n",
       " Row(userId='99', firstname='Madison', page='NextSong', song='Sweet Jane'),\n",
       " Row(userId='99', firstname='Madison', page='NextSong', song='Sina'),\n",
       " Row(userId='99', firstname='Madison', page='NextSong', song=\"Fingerlickin' Good\"),\n",
       " Row(userId='99', firstname='Madison', page='NextSong', song='Missing'),\n",
       " Row(userId='99', firstname='Madison', page='NextSong', song='Let It Last'),\n",
       " Row(userId='99', firstname='Madison', page='NextSong', song='Take It Or Leave It'),\n",
       " Row(userId='99', firstname='Madison', page='NextSong', song='Lost In Adeline'),\n",
       " Row(userId='99', firstname='Madison', page='NextSong', song='Entering White Cecilia'),\n",
       " Row(userId='99', firstname='Madison', page='NextSong', song='Hey_ Soul Sister'),\n",
       " Row(userId='99', firstname='Madison', page='NextSong', song='This Afternoon (Album Version)'),\n",
       " Row(userId='99', firstname='Madison', page='NextSong', song='Never Alone (Acoustic Version)'),\n",
       " Row(userId='99', firstname='Madison', page='NextSong', song='Stuck In The Moment'),\n",
       " Row(userId='99', firstname='Madison', page='NextSong', song='Two Worlds (Phil Version)'),\n",
       " Row(userId='99', firstname='Madison', page='Logout', song=None),\n",
       " Row(userId='99', firstname='Madison', page='Home', song=None),\n",
       " Row(userId='99', firstname='Madison', page='NextSong', song='CAFO'),\n",
       " Row(userId='99', firstname='Madison', page='Thumbs Up', song=None),\n",
       " Row(userId='99', firstname='Madison', page='NextSong', song='Just An Illusion'),\n",
       " Row(userId='99', firstname='Madison', page='NextSong', song='No Diggity'),\n",
       " Row(userId='99', firstname='Madison', page='NextSong', song='Monsters Slapen Nooit'),\n",
       " Row(userId='99', firstname='Madison', page='NextSong', song='Are You Gonna Be My Girl (Album Version)'),\n",
       " Row(userId='99', firstname='Madison', page='NextSong', song='Purity (Album Version)'),\n",
       " Row(userId='99', firstname='Madison', page='NextSong', song='Let Me Come On Home ( LP Version )'),\n",
       " Row(userId='99', firstname='Madison', page='NextSong', song='Alternative Baby'),\n",
       " Row(userId='99', firstname='Madison', page='NextSong', song='Nah!'),\n",
       " Row(userId='99', firstname='Madison', page='NextSong', song=\"Mother's Sick\"),\n",
       " Row(userId='99', firstname='Madison', page='Add to Playlist', song=None),\n",
       " Row(userId='99', firstname='Madison', page='NextSong', song='Amused to Death'),\n",
       " Row(userId='99', firstname='Madison', page='NextSong', song='La Perla'),\n",
       " Row(userId='99', firstname='Madison', page='NextSong', song='Dead & Bloated (LP Version)'),\n",
       " Row(userId='99', firstname='Madison', page='NextSong', song='Billionaire [feat. Bruno Mars]  (Explicit Album Version)'),\n",
       " Row(userId='99', firstname='Madison', page='NextSong', song='All Night Long (All Night)'),\n",
       " Row(userId='99', firstname='Madison', page='NextSong', song='Touchy! (Album Version)'),\n",
       " Row(userId='99', firstname='Madison', page='NextSong', song=\"Kissin' Ears [feat. The-Dream] (Explicit Album Version)\"),\n",
       " Row(userId='99', firstname='Madison', page='Thumbs Up', song=None),\n",
       " Row(userId='99', firstname='Madison', page='NextSong', song='Undo'),\n",
       " Row(userId='99', firstname='Madison', page='NextSong', song='Hold My Heart'),\n",
       " Row(userId='99', firstname='Madison', page='NextSong', song='Some Unholy War'),\n",
       " Row(userId='99', firstname='Madison', page='NextSong', song=\"Don't Look Back\"),\n",
       " Row(userId='99', firstname='Madison', page='NextSong', song='Erotic City ( LP Version)'),\n",
       " Row(userId='99', firstname='Madison', page='NextSong', song=\"Devil's Answer\"),\n",
       " Row(userId='99', firstname='Madison', page='NextSong', song='Ashes In The Fall'),\n",
       " Row(userId='99', firstname='Madison', page='NextSong', song='None Shall Pass (Main)'),\n",
       " Row(userId='99', firstname='Madison', page='NextSong', song='Crawling With Idiot'),\n",
       " Row(userId='99', firstname='Madison', page='Thumbs Up', song=None),\n",
       " Row(userId='99', firstname='Madison', page='NextSong', song='Baobabs (Bonus Album Version)'),\n",
       " Row(userId='99', firstname='Madison', page='NextSong', song='Your Song (Alternate Take 10)'),\n",
       " Row(userId='99', firstname='Madison', page='NextSong', song='The Man Who Sold The World'),\n",
       " Row(userId='99', firstname='Madison', page='Home', song=None),\n",
       " Row(userId='99', firstname='Madison', page='NextSong', song='Hoy Te Deje De Amar (copia)'),\n",
       " Row(userId='99', firstname='Madison', page='NextSong', song='Midnight Groovin\\' (7\" Version) (2006 Digital Remaster)'),\n",
       " Row(userId='99', firstname='Madison', page='NextSong', song=\"You'll Be In My Heart\"),\n",
       " Row(userId='99', firstname='Madison', page='NextSong', song='Tell Me Baby (Album Version)'),\n",
       " Row(userId='99', firstname='Madison', page='NextSong', song='All My Stars Aligned'),\n",
       " Row(userId='99', firstname='Madison', page='NextSong', song='All For Swinging You Around'),\n",
       " Row(userId='99', firstname='Madison', page='Thumbs Down', song=None),\n",
       " Row(userId='99', firstname='Madison', page='NextSong', song='Dans Ma Bulle (Edit Radio - Live 2006)'),\n",
       " Row(userId='99', firstname='Madison', page='NextSong', song='Come On'),\n",
       " Row(userId='99', firstname='Madison', page='NextSong', song='Down In The Dive'),\n",
       " Row(userId='99', firstname='Madison', page='NextSong', song='Blues In The Night'),\n",
       " Row(userId='99', firstname='Madison', page='Thumbs Up', song=None),\n",
       " Row(userId='99', firstname='Madison', page='NextSong', song='All The Right Moves'),\n",
       " Row(userId='99', firstname='Madison', page='NextSong', song='Stay Too Long'),\n",
       " Row(userId='99', firstname='Madison', page='NextSong', song='The Weirdness'),\n",
       " Row(userId='99', firstname='Madison', page='NextSong', song=\"don't say you don't\"),\n",
       " Row(userId='99', firstname='Madison', page='NextSong', song='The District Sleeps Alone Tonight (Album)'),\n",
       " Row(userId='99', firstname='Madison', page='NextSong', song='You Have To Come Back To Me'),\n",
       " Row(userId='99', firstname='Madison', page='NextSong', song='Alive'),\n",
       " Row(userId='99', firstname='Madison', page='NextSong', song='Almaz'),\n",
       " Row(userId='99', firstname='Madison', page='Thumbs Up', song=None),\n",
       " Row(userId='99', firstname='Madison', page='NextSong', song='Mamma'),\n",
       " Row(userId='99', firstname='Madison', page='Logout', song=None),\n",
       " Row(userId='99', firstname='Madison', page='Home', song=None),\n",
       " Row(userId='99', firstname='Madison', page='NextSong', song='Lord Over All (Album)'),\n",
       " Row(userId='99', firstname='Madison', page='NextSong', song='Sugar Sugar'),\n",
       " Row(userId='99', firstname='Madison', page='NextSong', song=\"Big S**t Poppin' [Do It] (Explicit Album Version)\"),\n",
       " Row(userId='99', firstname='Madison', page='NextSong', song=\"Bigger Isn't Better\"),\n",
       " Row(userId='99', firstname='Madison', page='Thumbs Up', song=None),\n",
       " Row(userId='99', firstname='Madison', page='NextSong', song='Teddy Picker (Explicit)'),\n",
       " Row(userId='99', firstname='Madison', page='NextSong', song='The Traffic Jam'),\n",
       " Row(userId='99', firstname='Madison', page='NextSong', song='Party In The U.S.A.'),\n",
       " Row(userId='99', firstname='Madison', page='Add Friend', song=None),\n",
       " Row(userId='99', firstname='Madison', page='NextSong', song='Shepherd Moons (Remastered 2009)'),\n",
       " Row(userId='99', firstname='Madison', page='NextSong', song='Krwlng'),\n",
       " Row(userId='99', firstname='Madison', page='NextSong', song='Welcome'),\n",
       " Row(userId='99', firstname='Madison', page='Add Friend', song=None),\n",
       " Row(userId='99', firstname='Madison', page='NextSong', song='Untitled #5'),\n",
       " Row(userId='99', firstname='Madison', page='NextSong', song='Daft Punk Is Playing At My House'),\n",
       " Row(userId='99', firstname='Madison', page='NextSong', song='Trouble'),\n",
       " Row(userId='99', firstname='Madison', page='NextSong', song='Spark My Soul (feat. Substantial)'),\n",
       " Row(userId='99', firstname='Madison', page='NextSong', song='The Scientist'),\n",
       " Row(userId='99', firstname='Madison', page='NextSong', song='Sehr kosmisch'),\n",
       " Row(userId='99', firstname='Madison', page='NextSong', song='Revelry'),\n",
       " Row(userId='99', firstname='Madison', page='NextSong', song='Donde Estas Corazon'),\n",
       " Row(userId='99', firstname='Madison', page='NextSong', song='Bombat'),\n",
       " Row(userId='99', firstname='Madison', page='NextSong', song=\"Erik's Song\"),\n",
       " Row(userId='99', firstname='Madison', page='NextSong', song='A Marshmallow World'),\n",
       " Row(userId='99', firstname='Madison', page='NextSong', song='Lake Flora'),\n",
       " Row(userId='99', firstname='Madison', page='Add to Playlist', song=None),\n",
       " Row(userId='99', firstname='Madison', page='NextSong', song='Up Up & Away'),\n",
       " Row(userId='99', firstname='Madison', page='NextSong', song='So far so long'),\n",
       " Row(userId='99', firstname='Madison', page='NextSong', song='You Learn (Album Version)'),\n",
       " Row(userId='99', firstname='Madison', page='NextSong', song='Lil Love'),\n",
       " Row(userId='99', firstname='Madison', page='NextSong', song='In and Out of Love'),\n",
       " Row(userId='99', firstname='Madison', page='NextSong', song='This Time'),\n",
       " Row(userId='99', firstname='Madison', page='NextSong', song='Guess Who'),\n",
       " Row(userId='99', firstname='Madison', page='NextSong', song='There Is'),\n",
       " Row(userId='99', firstname='Madison', page='NextSong', song='True To Myself'),\n",
       " Row(userId='99', firstname='Madison', page='NextSong', song='Danger (Been So Long)'),\n",
       " Row(userId='99', firstname='Madison', page='NextSong', song=\"Do You Think I'm Spooky?\"),\n",
       " Row(userId='99', firstname='Madison', page='NextSong', song='Rayando el sol'),\n",
       " Row(userId='99', firstname='Madison', page='Thumbs Up', song=None),\n",
       " Row(userId='99', firstname='Madison', page='NextSong', song='Something (Radio Edit)'),\n",
       " Row(userId='99', firstname='Madison', page='NextSong', song='Have Faith In Me'),\n",
       " Row(userId='99', firstname='Madison', page='NextSong', song=\"Sugar_ We're Goin Down\"),\n",
       " Row(userId='99', firstname='Madison', page='NextSong', song=\"We Are Nowhere and It's Now\"),\n",
       " Row(userId='99', firstname='Madison', page='NextSong', song='Besame'),\n",
       " Row(userId='99', firstname='Madison', page='Add to Playlist', song=None)]"
      ]
     },
     "execution_count": 21,
     "metadata": {},
     "output_type": "execute_result"
    }
   ],
   "source": [
    "df_clean.select([\"userId\", \"firstname\", \"page\", \"song\"]).where(df_clean.userId == \"99\").collect()"
   ]
  },
  {
   "cell_type": "markdown",
   "metadata": {},
   "source": [
    "## Downgrades by Hour\n",
    "Let's have a look at how many downgrades we have per hour."
   ]
  },
  {
   "cell_type": "code",
   "execution_count": 22,
   "metadata": {},
   "outputs": [],
   "source": [
    "# user defined function to calculate hour from timestamp\n",
    "get_hour = udf(lambda x: datetime.datetime.fromtimestamp(x / 1000.0).hour)"
   ]
  },
  {
   "cell_type": "code",
   "execution_count": 23,
   "metadata": {},
   "outputs": [],
   "source": [
    "\n",
    "def page_access_per_hour(df, page: str):\n",
    "    '''Plots statistics about visits of page per hour\n",
    "    \n",
    "        Args:\n",
    "            df: a Pyspark dataframe\n",
    "            page: value representing an event like 'Add to playlist' or \"NextSong\"\n",
    "            \n",
    "        Returns:\n",
    "            nothing, prints and plots some statistics\n",
    "    '''\n",
    " \n",
    "    page_in_hour = df.filter(df.page == page).groupby(df.hour).count().orderBy(df.hour.cast(\"float\"))\n",
    "    print('#####################################################################')\n",
    "    print(f'# Visits to \"{page}\" in hour')\n",
    "    print('#####################################################################')\n",
    "    page_in_hour.show(24)\n",
    "    \n",
    "    # now plot this\n",
    "    page_in_hour_pd = page_in_hour.toPandas()\n",
    "    page_in_hour_pd[\"hour\"] = pd.to_numeric(page_in_hour_pd[\"hour\"])\n",
    "    page_in_hour_pd[\"count\"] = pd.to_numeric(page_in_hour_pd[\"count\"])\n",
    "    plt.scatter(page_in_hour_pd[\"hour\"], page_in_hour_pd[\"count\"])\n",
    "    plt.xlim(-1, 24);\n",
    "    plt.ylim(0, int(1.2 * page_in_hour_pd[\"count\"].max()))\n",
    "    plt.xlabel(\"Hour\")\n",
    "    plt.ylabel(f'visits to {page}');\n",
    "    \n"
   ]
  },
  {
   "cell_type": "code",
   "execution_count": 24,
   "metadata": {},
   "outputs": [],
   "source": [
    "# Add hour col to dataset\n",
    "df_clean = df_clean.withColumn(\"hour\", get_hour(df_clean.ts))"
   ]
  },
  {
   "cell_type": "code",
   "execution_count": 25,
   "metadata": {},
   "outputs": [
    {
     "name": "stdout",
     "output_type": "stream",
     "text": [
      "#####################################################################\n",
      "# Visits to \"Submit Downgrade\" in hour\n",
      "#####################################################################\n",
      "+----+-----+\n",
      "|hour|count|\n",
      "+----+-----+\n",
      "|   0|    1|\n",
      "|   1|    2|\n",
      "|   2|    1|\n",
      "|   5|    3|\n",
      "|   6|    3|\n",
      "|   7|    1|\n",
      "|   8|    2|\n",
      "|   9|    5|\n",
      "|  11|    2|\n",
      "|  12|    2|\n",
      "|  13|    3|\n",
      "|  14|    7|\n",
      "|  15|    5|\n",
      "|  16|    1|\n",
      "|  17|    4|\n",
      "|  18|    4|\n",
      "|  19|    3|\n",
      "|  20|    3|\n",
      "|  21|    4|\n",
      "|  22|    4|\n",
      "|  23|    3|\n",
      "+----+-----+\n",
      "\n"
     ]
    },
    {
     "data": {
      "image/png": "[encoded data removed]",
      "text/plain": [
       "<Figure size 640x480 with 1 Axes>"
      ]
     },
     "metadata": {},
     "output_type": "display_data"
    }
   ],
   "source": [
    "page_access_per_hour(df_clean, DOWNGRADE_EVENT)"
   ]
  },
  {
   "cell_type": "markdown",
   "metadata": {},
   "source": [
    "## Cancellation Confirmations by Hour\n",
    "Let's have a look at how cancellations are confirmed per hour."
   ]
  },
  {
   "cell_type": "code",
   "execution_count": 26,
   "metadata": {},
   "outputs": [
    {
     "name": "stdout",
     "output_type": "stream",
     "text": [
      "#####################################################################\n",
      "# Visits to \"Cancellation Confirmation\" in hour\n",
      "#####################################################################\n",
      "+----+-----+\n",
      "|hour|count|\n",
      "+----+-----+\n",
      "|   0|    2|\n",
      "|   1|    2|\n",
      "|   2|    3|\n",
      "|   4|    1|\n",
      "|   5|    3|\n",
      "|   6|    2|\n",
      "|   8|    2|\n",
      "|   9|    5|\n",
      "|  11|    1|\n",
      "|  12|    2|\n",
      "|  13|    1|\n",
      "|  14|    2|\n",
      "|  15|    1|\n",
      "|  16|    1|\n",
      "|  17|    5|\n",
      "|  18|    2|\n",
      "|  19|    3|\n",
      "|  20|    5|\n",
      "|  21|    3|\n",
      "|  22|    3|\n",
      "|  23|    3|\n",
      "+----+-----+\n",
      "\n"
     ]
    },
    {
     "data": {
      "image/png": "[encoded data removed]",
      "text/plain": [
       "<Figure size 640x480 with 1 Axes>"
      ]
     },
     "metadata": {},
     "output_type": "display_data"
    }
   ],
   "source": [
    "page_access_per_hour(df_clean, CHURN_EVENT)"
   ]
  },
  {
   "cell_type": "markdown",
   "metadata": {},
   "source": [
    "## Songs played by Hour\n",
    "Let's have a look at how many songs we have per hour.\n"
   ]
  },
  {
   "cell_type": "code",
   "execution_count": 27,
   "metadata": {},
   "outputs": [
    {
     "name": "stdout",
     "output_type": "stream",
     "text": [
      "#####################################################################\n",
      "# Visits to \"NextSong\" in hour\n",
      "#####################################################################\n",
      "+----+-----+\n",
      "|hour|count|\n",
      "+----+-----+\n",
      "|   0| 9908|\n",
      "|   1| 9327|\n",
      "|   2| 8895|\n",
      "|   3| 8339|\n",
      "|   4| 8359|\n",
      "|   5| 8229|\n",
      "|   6| 7979|\n",
      "|   7| 8114|\n",
      "|   8| 8119|\n",
      "|   9| 8225|\n",
      "|  10| 8359|\n",
      "|  11| 8602|\n",
      "|  12| 8653|\n",
      "|  13| 9225|\n",
      "|  14| 9479|\n",
      "|  15|10047|\n",
      "|  16|11036|\n",
      "|  17|11381|\n",
      "|  18|11568|\n",
      "|  19|11346|\n",
      "|  20|10940|\n",
      "|  21|10893|\n",
      "|  22|10823|\n",
      "|  23|10262|\n",
      "+----+-----+\n",
      "\n"
     ]
    },
    {
     "data": {
      "image/png": "[encoded data removed]",
      "text/plain": [
       "<Figure size 640x480 with 1 Axes>"
      ]
     },
     "metadata": {},
     "output_type": "display_data"
    }
   ],
   "source": [
    "page_access_per_hour(df_clean, 'NextSong')"
   ]
  },
  {
   "cell_type": "markdown",
   "metadata": {},
   "source": [
    "## Downgrade and Churn\n",
    "Let's add additional columns to our dataset describing the downgrade \"Submit Downgrade\" and churn \"Cancellation Confirmation\" events. We are interested in the following events."
   ]
  },
  {
   "cell_type": "code",
   "execution_count": 28,
   "metadata": {},
   "outputs": [
    {
     "name": "stdout",
     "output_type": "stream",
     "text": [
      "############################################################\n",
      "# Submit Downgrade event\n",
      "############################################################\n",
      "+------+---------+---------+------+-------------+---------+------+-----+--------------------+------+----------------+-------------+---------+----+------+-------------+--------------------+------+----+\n",
      "|artist|     auth|firstName|gender|itemInSession| lastName|length|level|            location|method|            page| registration|sessionId|song|status|           ts|           userAgent|userId|hour|\n",
      "+------+---------+---------+------+-------------+---------+------+-----+--------------------+------+----------------+-------------+---------+----+------+-------------+--------------------+------+----+\n",
      "|  null|Logged In|     Kael|     M|           47|    Baker|  null| paid|Kingsport-Bristol...|   PUT|Submit Downgrade|1533102330000|      249|null|   307|1538393619000|\"Mozilla/5.0 (Mac...|   131|  13|\n",
      "|  null|Logged In|   Calvin|     M|           17| Marshall|  null| paid|      Pittsburgh, PA|   PUT|Submit Downgrade|1537120757000|      313|null|   307|1538516445000|\"Mozilla/5.0 (Mac...|    38|  23|\n",
      "|  null|Logged In|  Kaylenn|     F|          354|  Jenkins|  null| paid|           Price, UT|   PUT|Submit Downgrade|1535903878000|      479|null|   307|1538835479000|\"Mozilla/5.0 (Mac...|   141|  16|\n",
      "|  null|Logged In|    Colin|     M|          214|  Freeman|  null| paid|     Bakersfield, CA|   PUT|Submit Downgrade|1538173362000|      532|null|   307|1538995454000|Mozilla/5.0 (Wind...|    30|  12|\n",
      "|  null|Logged In|  Destiny|     F|            2|  Herring|  null| paid|Miami-Fort Lauder...|   PUT|Submit Downgrade|1536844410000|      378|null|   307|1538997356000|\"Mozilla/5.0 (Win...|    20|  13|\n",
      "|  null|Logged In|   Sophia|     F|           42|    Perry|  null| paid|Los Angeles-Long ...|   PUT|Submit Downgrade|1533885783000|      632|null|   307|1539144047000|Mozilla/5.0 (Wind...|    12|   6|\n",
      "|  null|Logged In|      Zoe|     F|           23|    Patel|  null| paid|Providence-Warwic...|   PUT|Submit Downgrade|1532554781000|      487|null|   307|1539239742000|Mozilla/5.0 (Wind...|    11|   8|\n",
      "|  null|Logged In|   Parker|     M|          636| Williams|  null| paid|San Francisco-Oak...|   PUT|Submit Downgrade|1537188538000|      529|null|   307|1539244188000|\"Mozilla/5.0 (iPh...|    61|   9|\n",
      "|  null|Logged In|   Oliver|     M|           89|  Gilbert|  null| paid|Philadelphia-Camd...|   PUT|Submit Downgrade|1535093367000|      725|null|   307|1539264337000|\"Mozilla/5.0 (Mac...|    81|  15|\n",
      "|  null|Logged In|  Brayden|     M|          113|   Thomas|  null| paid|Los Angeles-Long ...|   PUT|Submit Downgrade|1534133898000|      734|null|   307|1539335599000|\"Mozilla/5.0 (Mac...|    85|  11|\n",
      "|  null|Logged In|   Lucero|     F|           19|     Reed|  null| paid|Louisville/Jeffer...|   PUT|Submit Downgrade|1536642109000|      753|null|   307|1539337383000|\"Mozilla/5.0 (Win...|   140|  11|\n",
      "|  null|Logged In|     Lily|     F|           69|  Barnett|  null| paid|Washington-Arling...|   PUT|Submit Downgrade|1537053412000|      812|null|   307|1539467798000|\"Mozilla/5.0 (Mac...|    35|  23|\n",
      "|  null|Logged In|    Alexi|     F|           41|   Warren|  null| paid|Spokane-Spokane V...|   PUT|Submit Downgrade|1532482662000|      859|null|   307|1539608060000|Mozilla/5.0 (Wind...|    54|  14|\n",
      "|  null|Logged In|   Autumn|     F|           53|   Martin|  null| paid|     Gainesville, FL|   PUT|Submit Downgrade|1537749786000|      688|null|   307|1539608338000|\"Mozilla/5.0 (Win...|    77|  14|\n",
      "|  null|Logged In|   Jaleel|     M|          180|Maldonado|  null| paid|         Boulder, CO|   PUT|Submit Downgrade|1537890437000|      510|null|   307|1539633167000|Mozilla/5.0 (Wind...|    59|  21|\n",
      "|  null|Logged In|    Piper|     F|          210|  Nielsen|  null| paid|New York-Newark-J...|   PUT|Submit Downgrade|1537699856000|      865|null|   307|1539647785000|\"Mozilla/5.0 (Mac...|   103|   1|\n",
      "|  null|Logged In|    Faigy|     F|          101|     Howe|  null| paid|Phoenix-Mesa-Scot...|   PUT|Submit Downgrade|1538211832000|      826|null|   307|1539675894000|Mozilla/5.0 (Maci...|    95|   9|\n",
      "|  null|Logged In|  Ashlynn|     F|          303| Williams|  null| paid|     Tallahassee, FL|   PUT|Submit Downgrade|1537365219000|     1101|null|   307|1540235073000|\"Mozilla/5.0 (Mac...|    74|  21|\n",
      "|  null|Logged In|  Brayden|     M|          105|   Thomas|  null| paid|Los Angeles-Long ...|   PUT|Submit Downgrade|1534133898000|     1183|null|   307|1540383285000|\"Mozilla/5.0 (Mac...|    85|  14|\n",
      "|  null|Logged In|    Micah|     M|           11|     Long|  null| paid|Boston-Cambridge-...|   PUT|Submit Downgrade|1538331630000|     1276|null|   307|1540706007000|\"Mozilla/5.0 (Win...|     9|   6|\n",
      "+------+---------+---------+------+-------------+---------+------+-----+--------------------+------+----------------+-------------+---------+----+------+-------------+--------------------+------+----+\n",
      "only showing top 20 rows\n",
      "\n",
      "############################################################\n",
      "# Cancellation Confirmation event\n",
      "############################################################\n",
      "+------+---------+---------+------+-------------+---------+------+-----+--------------------+------+--------------------+-------------+---------+----+------+-------------+--------------------+------+----+\n",
      "|artist|     auth|firstName|gender|itemInSession| lastName|length|level|            location|method|                page| registration|sessionId|song|status|           ts|           userAgent|userId|hour|\n",
      "+------+---------+---------+------+-------------+---------+------+-----+--------------------+------+--------------------+-------------+---------+----+------+-------------+--------------------+------+----+\n",
      "|  null|Cancelled|   Adriel|     M|          104|  Mendoza|  null| paid|  Kansas City, MO-KS|   GET|Cancellation Conf...|1535623466000|      514|null|   200|1538943990000|\"Mozilla/5.0 (Mac...|    18|  22|\n",
      "|  null|Cancelled|    Diego|     M|           56|    Mckee|  null| paid|Phoenix-Mesa-Scot...|   GET|Cancellation Conf...|1537167593000|      540|null|   200|1539033046000|\"Mozilla/5.0 (iPh...|    32|  23|\n",
      "|  null|Cancelled|    Mason|     M|           10|     Hart|  null| free|  Corpus Christi, TX|   GET|Cancellation Conf...|1533157139000|      174|null|   200|1539318918000|\"Mozilla/5.0 (Mac...|   125|   6|\n",
      "|  null|Cancelled|Alexander|     M|          332|   Garcia|  null| paid|Indianapolis-Carm...|   GET|Cancellation Conf...|1536817381000|      508|null|   200|1539375441000|Mozilla/5.0 (Wind...|   105|  22|\n",
      "|  null|Cancelled|    Kayla|     F|          273|  Johnson|  null| paid|Philadelphia-Camd...|   GET|Cancellation Conf...|1538333829000|      797|null|   200|1539465584000|Mozilla/5.0 (Wind...|    17|  23|\n",
      "|  null|Cancelled|    Molly|     F|           29| Harrison|  null| free|Virginia Beach-No...|   GET|Cancellation Conf...|1534255113000|      843|null|   200|1539588854000|\"Mozilla/5.0 (Mac...|   143|   9|\n",
      "|  null|Cancelled|     Alex|     M|          145|    Hogan|  null| paid|Denver-Aurora-Lak...|   GET|Cancellation Conf...|1535066380000|      842|null|   200|1539729037000|Mozilla/5.0 (Wind...|   101|   0|\n",
      "|  null|Cancelled|    Davis|     M|           34|     Wang|  null| paid|           Flint, MI|   GET|Cancellation Conf...|1538289776000|      802|null|   200|1539736161000|\"Mozilla/5.0 (Win...|   129|   2|\n",
      "|  null|Cancelled|  Nikolas|     M|          287|    Olsen|  null| paid|Oxnard-Thousand O...|   GET|Cancellation Conf...|1528403713000|      881|null|   200|1539759749000|Mozilla/5.0 (X11;...|   121|   9|\n",
      "|  null|Cancelled|    Ethan|     M|          176|  Johnson|  null| paid|Lexington-Fayette...|   GET|Cancellation Conf...|1538080987000|      934|null|   200|1539761972000|\"Mozilla/5.0 (Win...|    51|   9|\n",
      "|  null|Cancelled|Christian|     M|          100| Robinson|  null| paid|       Quincy, IL-MO|   GET|Cancellation Conf...|1534942082000|     1092|null|   200|1540050556000|\"Mozilla/5.0 (Win...|    87|  17|\n",
      "|  null|Cancelled|    Molly|     F|           43|Patterson|  null| paid|   Memphis, TN-MS-AR|   GET|Cancellation Conf...|1535498705000|     1029|null|   200|1540062068000|Mozilla/5.0 (X11;...|   122|  21|\n",
      "|  null|Cancelled|   Sophia|     F|           72|    Perry|  null| paid|Los Angeles-Long ...|   GET|Cancellation Conf...|1533885783000|     1072|null|   200|1540193374000|Mozilla/5.0 (Wind...|    12|   9|\n",
      "|  null|Cancelled|    Erick|     M|           48|   Brooks|  null| paid|           Selma, AL|   GET|Cancellation Conf...|1537956751000|     1112|null|   200|1540223006000|\"Mozilla/5.0 (Win...|    58|  17|\n",
      "|  null|Cancelled|   Rachel|     F|           11|   Bailey|  null| paid|Albany-Schenectad...|   GET|Cancellation Conf...|1536102943000|     1059|null|   200|1540402387000|Mozilla/5.0 (Wind...|    73|  19|\n",
      "|  null|Cancelled|  Jeffery|     M|           46|  Wheeler|  null| paid|         Bozeman, MT|   GET|Cancellation Conf...|1533886191000|     1324|null|   200|1540875543000|\"Mozilla/5.0 (Win...|     3|   5|\n",
      "|  null|Cancelled|   Sophia|     F|           18|      Key|  null| paid|Los Angeles-Long ...|   GET|Cancellation Conf...|1537679535000|     1383|null|   200|1541166424000|\"Mozilla/5.0 (Mac...|   106|  14|\n",
      "|  null|Cancelled|    Piper|     F|            8|  Nielsen|  null| paid|New York-Newark-J...|   GET|Cancellation Conf...|1537699856000|     1583|null|   200|1541340091000|\"Mozilla/5.0 (Mac...|   103|  15|\n",
      "|  null|Cancelled|   Teagan|     F|          306|  Roberts|  null| paid|New Philadelphia-...|   GET|Cancellation Conf...|1537634865000|     1519|null|   200|1541463632000|Mozilla/5.0 (Wind...|    28|   1|\n",
      "|  null|Cancelled|    Alexi|     F|           42|   Warren|  null| paid|Spokane-Spokane V...|   GET|Cancellation Conf...|1532482662000|     1819|null|   200|1542051608000|Mozilla/5.0 (Wind...|    54|  20|\n",
      "+------+---------+---------+------+-------------+---------+------+-----+--------------------+------+--------------------+-------------+---------+----+------+-------------+--------------------+------+----+\n",
      "only showing top 20 rows\n",
      "\n"
     ]
    }
   ],
   "source": [
    "events = [DOWNGRADE_EVENT, CHURN_EVENT]\n",
    "for event in events:\n",
    "    print('############################################################')\n",
    "    print(f'# {event} event')\n",
    "    print('############################################################')\n",
    "    df_clean.filter(f\"page = '{event}'\").show()"
   ]
  },
  {
   "cell_type": "markdown",
   "metadata": {},
   "source": [
    "Now we will add flags to these."
   ]
  },
  {
   "cell_type": "code",
   "execution_count": 29,
   "metadata": {},
   "outputs": [],
   "source": [
    "# udfs to return the flag\n",
    "flag_downgrade_event = udf(lambda x: 1 if x == DOWNGRADE_EVENT else 0, IntegerType())\n",
    "flag_churn_event = udf(lambda x: 2 if x == CHURN_EVENT else 0, IntegerType())"
   ]
  },
  {
   "cell_type": "code",
   "execution_count": 30,
   "metadata": {},
   "outputs": [],
   "source": [
    "# add the columns for the flags\n",
    "enhanced_df = df_clean.withColumn(\"downgraded\", flag_downgrade_event(\"page\")).\\\n",
    "withColumn(\"churned\", flag_churn_event(\"page\"))"
   ]
  },
  {
   "cell_type": "code",
   "execution_count": 31,
   "metadata": {},
   "outputs": [
    {
     "data": {
      "text/plain": [
       "[Row(artist='Martha Tilston', auth='Logged In', firstName='Colin', gender='M', itemInSession=50, lastName='Freeman', length=277.89016, level='paid', location='Bakersfield, CA', method='PUT', page='NextSong', registration=1538173362000, sessionId=29, song='Rockpools', status=200, ts=1538352117000, userAgent='Mozilla/5.0 (Windows NT 6.1; WOW64; rv:31.0) Gecko/20100101 Firefox/31.0', userId='30', hour='2', downgraded=0, churned=0),\n",
       " Row(artist='Five Iron Frenzy', auth='Logged In', firstName='Micah', gender='M', itemInSession=79, lastName='Long', length=236.09424, level='free', location='Boston-Cambridge-Newton, MA-NH', method='PUT', page='NextSong', registration=1538331630000, sessionId=8, song='Canada', status=200, ts=1538352180000, userAgent='\"Mozilla/5.0 (Windows NT 6.1; WOW64) AppleWebKit/537.36 (KHTML, like Gecko) Chrome/37.0.2062.103 Safari/537.36\"', userId='9', hour='2', downgraded=0, churned=0),\n",
       " Row(artist='Adam Lambert', auth='Logged In', firstName='Colin', gender='M', itemInSession=51, lastName='Freeman', length=282.8273, level='paid', location='Bakersfield, CA', method='PUT', page='NextSong', registration=1538173362000, sessionId=29, song='Time For Miracles', status=200, ts=1538352394000, userAgent='Mozilla/5.0 (Windows NT 6.1; WOW64; rv:31.0) Gecko/20100101 Firefox/31.0', userId='30', hour='2', downgraded=0, churned=0),\n",
       " Row(artist='Enigma', auth='Logged In', firstName='Micah', gender='M', itemInSession=80, lastName='Long', length=262.71302, level='free', location='Boston-Cambridge-Newton, MA-NH', method='PUT', page='NextSong', registration=1538331630000, sessionId=8, song='Knocking On Forbidden Doors', status=200, ts=1538352416000, userAgent='\"Mozilla/5.0 (Windows NT 6.1; WOW64) AppleWebKit/537.36 (KHTML, like Gecko) Chrome/37.0.2062.103 Safari/537.36\"', userId='9', hour='2', downgraded=0, churned=0),\n",
       " Row(artist='Daft Punk', auth='Logged In', firstName='Colin', gender='M', itemInSession=52, lastName='Freeman', length=223.60771, level='paid', location='Bakersfield, CA', method='PUT', page='NextSong', registration=1538173362000, sessionId=29, song='Harder Better Faster Stronger', status=200, ts=1538352676000, userAgent='Mozilla/5.0 (Windows NT 6.1; WOW64; rv:31.0) Gecko/20100101 Firefox/31.0', userId='30', hour='2', downgraded=0, churned=0)]"
      ]
     },
     "execution_count": 31,
     "metadata": {},
     "output_type": "execute_result"
    }
   ],
   "source": [
    "enhanced_df.head(5)"
   ]
  },
  {
   "cell_type": "markdown",
   "metadata": {},
   "source": [
    "#### Plausibility check of the flags\n",
    "Let us have a look at one user who downgraded and cancelled the subscription. Does the data with the added flags look fine?\n",
    "To check this we will also introduce an addition \"phase\" column and use a window partitioned by\"userId\" and sorted by timestamp \"ts\""
   ]
  },
  {
   "cell_type": "code",
   "execution_count": 32,
   "metadata": {},
   "outputs": [],
   "source": [
    "windowval = Window.partitionBy(\"userId\").orderBy(asc(\"ts\")).rangeBetween(Window.unboundedPreceding, 0)\n",
    "# thisline of code is creating a window specification for a PySpark program. \n",
    "# This window specification defines a window that is partitioned by the \"userId\" column, \n",
    "#   ordered within each partition by the \"ts\" column in descending order, \n",
    "#   and includes all rows from the start of the partition up to and including the current row."
   ]
  },
  {
   "cell_type": "code",
   "execution_count": 33,
   "metadata": {},
   "outputs": [],
   "source": [
    "# user_log_valid = enhanced_df.withColumn(\"phase\", Fsum(\"churned\").over(windowval))\n",
    "enhanced_df = enhanced_df.withColumn(\"phase\", Fsum(col(\"downgraded\")).over(windowval) + Fsum(col(\"churned\")).over(windowval))"
   ]
  },
  {
   "cell_type": "code",
   "execution_count": 34,
   "metadata": {},
   "outputs": [],
   "source": [
    "# chech this for one user\n",
    "filtered_df = enhanced_df.select([\"userId\", \"firstname\", \"ts\", \"page\", \"level\", \"downgraded\", \"churned\", \"phase\"]).where(enhanced_df.userId == \"103\").sort(\"ts\")\n",
    "# filtered_df.collect()"
   ]
  },
  {
   "cell_type": "code",
   "execution_count": 35,
   "metadata": {},
   "outputs": [],
   "source": [
    "# Write the DataFrame to a CSV file\n",
    "# filtered_df.write.json(\"filtered_df.json\")"
   ]
  },
  {
   "cell_type": "markdown",
   "metadata": {},
   "source": [
    "We can see, we have now three phases visible within our data. \n",
    "* Phase 0: user is not downgraded\n",
    "* Phase 1: user downgraded\n",
    "* Phase 3: user churned\n",
    "\n",
    "```\n",
    "{\"userId\":\"103\",\"firstname\":\"Piper\",\"ts\":1538648520000,\"page\":\"NextSong\",\"level\":\"free\",\"downgraded\":0,\"churned\":0,\"phase\":0}\n",
    "{\"userId\":\"103\",\"firstname\":\"Piper\",\"ts\":1538648521000,\"page\":\"Thumbs Up\",\"level\":\"free\",\"downgraded\":0,\"churned\":0,\"phase\":0}\n",
    "{\"userId\":\"103\",\"firstname\":\"Piper\",\"ts\":1538648734000,\"page\":\"NextSong\",\"level\":\"free\",\"downgraded\":0,\"churned\":0,\"phase\":0}\n",
    "...\n",
    "{\"userId\":\"103\",\"firstname\":\"Piper\",\"ts\":1539647784000,\"page\":\"Downgrade\",\"level\":\"paid\",\"downgraded\":0,\"churned\":0,\"phase\":0}\n",
    "{\"userId\":\"103\",\"firstname\":\"Piper\",\"ts\":1539647785000,\"page\":\"Submit Downgrade\",\"level\":\"paid\",\"downgraded\":1,\"churned\":0,\"phase\":1}\n",
    "{\"userId\":\"103\",\"firstname\":\"Piper\",\"ts\":1539647788000,\"page\":\"Home\",\"level\":\"free\",\"downgraded\":0,\"churned\":0,\"phase\":1}\n",
    "...\n",
    "{\"userId\":\"103\",\"firstname\":\"Piper\",\"ts\":1541340075000,\"page\":\"Downgrade\",\"level\":\"paid\",\"downgraded\":0,\"churned\":0,\"phase\":1}\n",
    "{\"userId\":\"103\",\"firstname\":\"Piper\",\"ts\":1541340076000,\"page\":\"Cancel\",\"level\":\"paid\",\"downgraded\":0,\"churned\":0,\"phase\":1}\n",
    "{\"userId\":\"103\",\"firstname\":\"Piper\",\"ts\":1541340091000,\"page\":\"Cancellation Confirmation\",\"level\":\"paid\",\"downgraded\":0,\"churned\":2,\"phase\":3}\n",
    "```\n",
    "\n",
    "Complete data for this user can be seen [here](data/filtered_df.json/part-00000-c95a20b0-3e35-4723-b063-0ec6a4313dd7-c000.json). "
   ]
  },
  {
   "cell_type": "markdown",
   "metadata": {},
   "source": [
    "#### Function to add churn and downgrade cols to the dataset"
   ]
  },
  {
   "cell_type": "code",
   "execution_count": 36,
   "metadata": {},
   "outputs": [],
   "source": [
    "def add_churn_and_downgrade_and_phase_cols(df):\n",
    "    '''Adds additional columns for downgrade and churn events and also the phase in user lifecyle to our dataset\n",
    "    \n",
    "        Args:\n",
    "            df: a Pyspark dataframe\n",
    "            \n",
    "        Returns:\n",
    "            same df but with three additional columns for downgraded, churned and phase\n",
    "    '''\n",
    "    # udfs to return the flags for downgrade and chunk\n",
    "    flag_downgrade_event = udf(lambda x: 1 if x == DOWNGRADE_EVENT else 0, IntegerType())\n",
    "    flag_churn_event = udf(lambda x: 2 if x == CHURN_EVENT else 0, IntegerType())\n",
    "\n",
    "    # add downgraded and churned columns\n",
    "    enhanced_df = df.withColumn(\"downgraded\", flag_downgrade_event(\"page\")).\\\n",
    "    withColumn(\"churned\", flag_churn_event(\"page\"))\n",
    "\n",
    "    # add also phase column\n",
    "    windowval = Window.partitionBy(\"userId\").orderBy(asc(\"ts\")).rangeBetween(Window.unboundedPreceding, 0)\n",
    "    # user_log_valid = enhanced_df.withColumn(\"phase\", Fsum(\"churned\").over(windowval))\n",
    "    enhanced_df = enhanced_df.withColumn(\"phase\", Fsum(col(\"downgraded\")).over(windowval) + Fsum(col(\"churned\")).over(windowval))\n",
    "\n",
    "    return enhanced_df\n",
    "    "
   ]
  },
  {
   "cell_type": "markdown",
   "metadata": {},
   "source": [
    "# Feature Engineering"
   ]
  },
  {
   "cell_type": "markdown",
   "metadata": {},
   "source": [
    "We will use some of the attributes from the original dataset as well as newly constructed features.\n",
    "\n",
    "Features from the dataset which might have an impact on quitting behavior might be:\n",
    "* gender - maybe male users are more likely to quit (or maybe female)?\n",
    "* location - maybe rural users are more likely to quit?\n",
    "\n",
    "Additional features that could be derived from the dataset and might be useful:\n",
    "* usage of playlists - are users with only few playlists/playlist entries more likely to quit?\n",
    "* number of friends added - are users with more friends less likely to quit?\n",
    "* songs per day - users which use the service more frequently might be less likely to quit \n",
    "\n"
   ]
  },
  {
   "cell_type": "markdown",
   "metadata": {},
   "source": [
    "## Categorical features from original dataset"
   ]
  },
  {
   "cell_type": "code",
   "execution_count": 37,
   "metadata": {},
   "outputs": [
    {
     "name": "stdout",
     "output_type": "stream",
     "text": [
      "+------+------+--------------------+\n",
      "|userId|gender|            location|\n",
      "+------+------+--------------------+\n",
      "|100021|     M|Dallas-Fort Worth...|\n",
      "|   139|     M|Los Angeles-Long ...|\n",
      "|    41|     F|Manchester-Nashua...|\n",
      "|    72|     F|  Port St. Lucie, FL|\n",
      "|200016|     F|Baltimore-Columbi...|\n",
      "+------+------+--------------------+\n",
      "only showing top 5 rows\n",
      "\n"
     ]
    }
   ],
   "source": [
    "result_df = enhanced_df.select(\"userId\", \"gender\", \"location\").distinct()\n",
    "result_df.show(5)"
   ]
  },
  {
   "cell_type": "markdown",
   "metadata": {},
   "source": [
    "#### Function to extract categorical features"
   ]
  },
  {
   "cell_type": "code",
   "execution_count": 38,
   "metadata": {},
   "outputs": [],
   "source": [
    "def get_df_for_categorical_features(df, cat_feature_names: list):\n",
    "    '''Builds dataframe for categorical feature\n",
    "    \n",
    "        Args:\n",
    "            df: a Pyspark dataframe\n",
    "            cat_feature_names: list of attributes for which categorical features shall be constructed\n",
    "            \n",
    "        Returns:\n",
    "            result_df: a new dataframe with userId as identifier and columns for only the categorical \n",
    "            features from cat_feature_names\n",
    "    '''\n",
    "    \n",
    "    # Create a list of aggregation expressions\n",
    "    agg_exprs = [first(f\"{feature}\").alias(f\"{feature}\") for feature in cat_feature_names]\n",
    "\n",
    "    # Group by \"userId\" and apply the aggregation expressions\n",
    "    result_df = df.groupBy(\"userId\").agg(*agg_exprs)\n",
    "\n",
    "    return result_df\n"
   ]
  },
  {
   "cell_type": "code",
   "execution_count": 39,
   "metadata": {},
   "outputs": [
    {
     "name": "stdout",
     "output_type": "stream",
     "text": [
      "+------+------+--------------------+\n",
      "|userId|gender|            location|\n",
      "+------+------+--------------------+\n",
      "|    10|     M|          Laurel, MS|\n",
      "|   100|     M|Dallas-Fort Worth...|\n",
      "|100001|     F|Miami-Fort Lauder...|\n",
      "|100002|     F|Santa Maria-Santa...|\n",
      "|100003|     F|Miami-Fort Lauder...|\n",
      "|100004|     F|        Syracuse, NY|\n",
      "|100005|     M|          Monroe, LA|\n",
      "|100006|     F|           Flint, MI|\n",
      "|100007|     F|Little Rock-North...|\n",
      "|100008|     F|Los Angeles-Long ...|\n",
      "|100009|     M|San Francisco-Oak...|\n",
      "|100010|     F|Bridgeport-Stamfo...|\n",
      "|100011|     M|          Albany, OR|\n",
      "|100012|     M|Chicago-Napervill...|\n",
      "|100013|     F|Cleveland-Elyria, OH|\n",
      "|100014|     M|New York-Newark-J...|\n",
      "|100015|     F|North Wilkesboro, NC|\n",
      "|100016|     M|    St. Louis, MO-IL|\n",
      "|100017|     M|Birmingham-Hoover...|\n",
      "|100018|     M|Dallas-Fort Worth...|\n",
      "|100019|     M|Spokane-Spokane V...|\n",
      "|100021|     M|Dallas-Fort Worth...|\n",
      "|100022|     F|Houston-The Woodl...|\n",
      "|100023|     M|Greenville-Anders...|\n",
      "|100024|     M|New York-Newark-J...|\n",
      "|100025|     F|New York-Newark-J...|\n",
      "|   101|     M|Denver-Aurora-Lak...|\n",
      "|   102|     M|New York-Newark-J...|\n",
      "|   103|     F|New York-Newark-J...|\n",
      "|   104|     F|        Billings, MT|\n",
      "|   105|     M|Indianapolis-Carm...|\n",
      "|   106|     F|Los Angeles-Long ...|\n",
      "|   107|     F|         Pontiac, IL|\n",
      "|   108|     F|Washington-Arling...|\n",
      "|   109|     F|    St. Louis, MO-IL|\n",
      "|    11|     F|Providence-Warwic...|\n",
      "|   110|     M|Chicago-Napervill...|\n",
      "|   111|     F|Detroit-Warren-De...|\n",
      "|   112|     M|          Muncie, IN|\n",
      "|   113|     F|Charlotte-Concord...|\n",
      "|   114|     M|Las Vegas-Henders...|\n",
      "|   115|     F|Los Angeles-Long ...|\n",
      "|   116|     F|Providence-Warwic...|\n",
      "|   117|     F|Buffalo-Cheektowa...|\n",
      "|   118|     F|New York-Newark-J...|\n",
      "|   119|     F|Charlotte-Concord...|\n",
      "|    12|     F|Los Angeles-Long ...|\n",
      "|   120|     F|   Oklahoma City, OK|\n",
      "|   121|     M|Oxnard-Thousand O...|\n",
      "|   122|     F|   Memphis, TN-MS-AR|\n",
      "|   123|     M|Tampa-St. Petersb...|\n",
      "|   124|     F|Vineland-Bridgeto...|\n",
      "|   125|     M|  Corpus Christi, TX|\n",
      "|   126|     M|New York-Newark-J...|\n",
      "|   127|     F|Dallas-Fort Worth...|\n",
      "|   128|     M|       Fairbanks, AK|\n",
      "|   129|     M|           Flint, MI|\n",
      "|    13|     F|Philadelphia-Camd...|\n",
      "|   131|     M|Kingsport-Bristol...|\n",
      "|   132|     F|Denver-Aurora-Lak...|\n",
      "|   133|     M|San Diego-Carlsba...|\n",
      "|   134|     M|Indianapolis-Carm...|\n",
      "|   135|     F|Las Vegas-Henders...|\n",
      "|   136|     F|Charlotte-Concord...|\n",
      "|   137|     M|New York-Newark-J...|\n",
      "|   138|     M|New York-Newark-J...|\n",
      "|   139|     M|Los Angeles-Long ...|\n",
      "|    14|     M|        Syracuse, NY|\n",
      "|   140|     F|Louisville/Jeffer...|\n",
      "|   141|     F|           Price, UT|\n",
      "|   142|     M|New York-Newark-J...|\n",
      "|   143|     F|Virginia Beach-No...|\n",
      "|   144|     M|      Montgomery, AL|\n",
      "|   145|     F|      Pittsburgh, PA|\n",
      "|   146|     M|Myrtle Beach-Conw...|\n",
      "|   147|     M|Charlotte-Concord...|\n",
      "|   148|     M|Miami-Fort Lauder...|\n",
      "|   149|     M|Dallas-Fort Worth...|\n",
      "|    15|     M|      Morgantown, WV|\n",
      "|   150|     M|Phoenix-Mesa-Scot...|\n",
      "|   151|     M|Washington-Arling...|\n",
      "|   152|     M|Los Angeles-Long ...|\n",
      "|   153|     M|Greensboro-High P...|\n",
      "|   154|     F|New York-Newark-J...|\n",
      "|   155|     F|Boston-Cambridge-...|\n",
      "|   156|     M|Scranton--Wilkes-...|\n",
      "|    16|     F|   Winston-Salem, NC|\n",
      "|    17|     F|Philadelphia-Camd...|\n",
      "|    18|     M|  Kansas City, MO-KS|\n",
      "|    19|     F|          Dayton, OH|\n",
      "|     2|     F|         Raleigh, NC|\n",
      "|    20|     F|Miami-Fort Lauder...|\n",
      "|200001|     M|Washington-Arling...|\n",
      "|200002|     M|Chicago-Napervill...|\n",
      "|200003|     F|Chicago-Napervill...|\n",
      "|200004|     M|    Jacksonville, NC|\n",
      "|200005|     M|Greenville-Anders...|\n",
      "|200006|     F|Los Angeles-Long ...|\n",
      "|200007|     F|New York-Newark-J...|\n",
      "|200008|     F|Charlotte-Concord...|\n",
      "+------+------+--------------------+\n",
      "only showing top 100 rows\n",
      "\n"
     ]
    }
   ],
   "source": [
    "cat_features = get_df_for_categorical_features(enhanced_df, ['gender', 'location'])\n",
    "cat_features.show(100)"
   ]
  },
  {
   "cell_type": "markdown",
   "metadata": {},
   "source": [
    "## Number of playlist entries and number of friends\n",
    "For these we will only need to sum up the according events per userId"
   ]
  },
  {
   "cell_type": "code",
   "execution_count": 40,
   "metadata": {},
   "outputs": [
    {
     "name": "stdout",
     "output_type": "stream",
     "text": [
      "+------+---------------+\n",
      "|userId|Add to Playlist|\n",
      "+------+---------------+\n",
      "|200002|              8|\n",
      "|100010|              7|\n",
      "|   125|              0|\n",
      "|    51|             52|\n",
      "|   124|            118|\n",
      "|     7|              5|\n",
      "|    54|             72|\n",
      "|    15|             59|\n",
      "|   155|             24|\n",
      "|   132|             38|\n",
      "|100014|              7|\n",
      "|   154|              1|\n",
      "|    11|             20|\n",
      "|   101|             61|\n",
      "|   138|             67|\n",
      "|300017|            113|\n",
      "|    29|             89|\n",
      "|100021|              7|\n",
      "|    69|             33|\n",
      "|    42|            104|\n",
      "+------+---------------+\n",
      "only showing top 20 rows\n",
      "\n"
     ]
    }
   ],
   "source": [
    "page_counts = enhanced_df.groupBy(\"userId\", \"page\").agg(count(\"*\").alias(\"count\"))\n",
    "\n",
    "# Pivot the table to have 'page' values as columns\n",
    "pivot_table = page_counts.groupBy(\"userId\").pivot(\"page\").sum(\"count\")\n",
    "\n",
    "# Fill any null values with 0\n",
    "pivot_table = pivot_table.na.fill(0)\n",
    "\n",
    "# Show the resulting DataFrame\n",
    "# pivot_table.show()\n",
    "wanted_cols = ['userId', 'Add to Playlist']\n",
    "\n",
    "pivot_table.select(wanted_cols).show()"
   ]
  },
  {
   "cell_type": "code",
   "execution_count": 41,
   "metadata": {},
   "outputs": [],
   "source": [
    "def df_with_totals_per_user(df, events: list):\n",
    "    '''Builds dataframe for features which contain totals per event\n",
    "    \n",
    "        Args:\n",
    "            df: a Pyspark dataframe\n",
    "            events: list of attributes for which new features shall be constructed\n",
    "            \n",
    "        Returns:\n",
    "            pivot_table: a new dataframe with userId as identifier and columns for the new features \n",
    "    '''\n",
    "    \n",
    "    page_counts = df.groupBy(\"userId\", \"page\").agg(count(\"*\").alias(\"count\"))\n",
    "\n",
    "    # Pivot the table to have 'page' values as columns\n",
    "    pivot_table = page_counts.groupBy(\"userId\").pivot(\"page\").sum(\"count\")\n",
    "\n",
    "    # Fill any null values with 0\n",
    "    pivot_table = pivot_table.na.fill(0)\n",
    "\n",
    "    # Strip all columns but the wanted\n",
    "    events.append('userId')\n",
    "\n",
    "    # Return the resulting DataFrame\n",
    "    return pivot_table.select(events)\n"
   ]
  },
  {
   "cell_type": "code",
   "execution_count": 42,
   "metadata": {},
   "outputs": [
    {
     "name": "stdout",
     "output_type": "stream",
     "text": [
      "+---------------+----------+------+\n",
      "|Add to Playlist|Add Friend|userId|\n",
      "+---------------+----------+------+\n",
      "|              8|         4|200002|\n",
      "|              7|         4|100010|\n",
      "|              0|         0|   125|\n",
      "|             52|        28|    51|\n",
      "|            118|        74|   124|\n",
      "|              5|         1|     7|\n",
      "|             72|        33|    54|\n",
      "|             59|        31|    15|\n",
      "|             24|        11|   155|\n",
      "|             38|        41|   132|\n",
      "|              7|         6|100014|\n",
      "|              1|         3|   154|\n",
      "|             20|         6|    11|\n",
      "|             61|        29|   101|\n",
      "|             67|        41|   138|\n",
      "|            113|        63|300017|\n",
      "|             89|        47|    29|\n",
      "|              7|         7|100021|\n",
      "|             33|        12|    69|\n",
      "|            104|        52|    42|\n",
      "+---------------+----------+------+\n",
      "only showing top 20 rows\n",
      "\n"
     ]
    }
   ],
   "source": [
    "totals_df = df_with_totals_per_user(enhanced_df, ['Add to Playlist', 'Add Friend'])\n",
    "totals_df.show()"
   ]
  },
  {
   "cell_type": "markdown",
   "metadata": {},
   "source": [
    "## Songs per Day"
   ]
  },
  {
   "cell_type": "code",
   "execution_count": 43,
   "metadata": {},
   "outputs": [],
   "source": [
    "# for the events per day we will only need page, timestamp and userId\n",
    "events_df = enhanced_df.select([\"userId\",  \"ts\", \"page\"])"
   ]
  },
  {
   "cell_type": "code",
   "execution_count": 44,
   "metadata": {},
   "outputs": [],
   "source": [
    "# Add new columns for year, month, and day\n",
    "events_df = events_df.withColumn(\"ts_sec\", events_df[\"ts\"] / 1000)  # Convert milliseconds to seconds\n",
    "events_df = events_df.withColumn(\"year\", year(events_df[\"ts_sec\"].cast(\"timestamp\")))\n",
    "events_df = events_df.withColumn(\"month\", month(events_df[\"ts_sec\"].cast(\"timestamp\")))\n",
    "events_df = events_df.withColumn(\"day\", dayofmonth(events_df[\"ts_sec\"].cast(\"timestamp\")))\n",
    "events_df = events_df.withColumn(\"year_month\", concat_ws(\"_\", events_df[\"year\"], events_df[\"month\"]))\n",
    "events_df = events_df.withColumn(\"year_month_day\", concat_ws(\"_\", events_df.year, events_df.month, events_df.day))"
   ]
  },
  {
   "cell_type": "code",
   "execution_count": 45,
   "metadata": {},
   "outputs": [
    {
     "data": {
      "text/plain": [
       "[Row(userId='124', ts=1538407030000, page='Home', ts_sec=1538407030.0, year=2018, month=10, day=1, year_month='2018_10', year_month_day='2018_10_1'),\n",
       " Row(userId='124', ts=1538407032000, page='NextSong', ts_sec=1538407032.0, year=2018, month=10, day=1, year_month='2018_10', year_month_day='2018_10_1'),\n",
       " Row(userId='124', ts=1538407259000, page='NextSong', ts_sec=1538407259.0, year=2018, month=10, day=1, year_month='2018_10', year_month_day='2018_10_1'),\n",
       " Row(userId='124', ts=1538407482000, page='NextSong', ts_sec=1538407482.0, year=2018, month=10, day=1, year_month='2018_10', year_month_day='2018_10_1'),\n",
       " Row(userId='124', ts=1538407677000, page='NextSong', ts_sec=1538407677.0, year=2018, month=10, day=1, year_month='2018_10', year_month_day='2018_10_1'),\n",
       " Row(userId='124', ts=1538407946000, page='NextSong', ts_sec=1538407946.0, year=2018, month=10, day=1, year_month='2018_10', year_month_day='2018_10_1'),\n",
       " Row(userId='124', ts=1538408150000, page='NextSong', ts_sec=1538408150.0, year=2018, month=10, day=1, year_month='2018_10', year_month_day='2018_10_1'),\n",
       " Row(userId='124', ts=1538408162000, page='Home', ts_sec=1538408162.0, year=2018, month=10, day=1, year_month='2018_10', year_month_day='2018_10_1'),\n",
       " Row(userId='124', ts=1538408362000, page='NextSong', ts_sec=1538408362.0, year=2018, month=10, day=1, year_month='2018_10', year_month_day='2018_10_1'),\n",
       " Row(userId='124', ts=1538408568000, page='NextSong', ts_sec=1538408568.0, year=2018, month=10, day=1, year_month='2018_10', year_month_day='2018_10_1'),\n",
       " Row(userId='124', ts=1538408867000, page='NextSong', ts_sec=1538408867.0, year=2018, month=10, day=1, year_month='2018_10', year_month_day='2018_10_1'),\n",
       " Row(userId='124', ts=1538409051000, page='NextSong', ts_sec=1538409051.0, year=2018, month=10, day=1, year_month='2018_10', year_month_day='2018_10_1'),\n",
       " Row(userId='124', ts=1538409202000, page='NextSong', ts_sec=1538409202.0, year=2018, month=10, day=1, year_month='2018_10', year_month_day='2018_10_1'),\n",
       " Row(userId='124', ts=1538409203000, page='Logout', ts_sec=1538409203.0, year=2018, month=10, day=1, year_month='2018_10', year_month_day='2018_10_1'),\n",
       " Row(userId='124', ts=1538409364000, page='Home', ts_sec=1538409364.0, year=2018, month=10, day=1, year_month='2018_10', year_month_day='2018_10_1'),\n",
       " Row(userId='124', ts=1538409538000, page='NextSong', ts_sec=1538409538.0, year=2018, month=10, day=1, year_month='2018_10', year_month_day='2018_10_1'),\n",
       " Row(userId='124', ts=1538409717000, page='NextSong', ts_sec=1538409717.0, year=2018, month=10, day=1, year_month='2018_10', year_month_day='2018_10_1'),\n",
       " Row(userId='124', ts=1538410030000, page='NextSong', ts_sec=1538410030.0, year=2018, month=10, day=1, year_month='2018_10', year_month_day='2018_10_1'),\n",
       " Row(userId='124', ts=1538410036000, page='Home', ts_sec=1538410036.0, year=2018, month=10, day=1, year_month='2018_10', year_month_day='2018_10_1'),\n",
       " Row(userId='124', ts=1538410189000, page='NextSong', ts_sec=1538410189.0, year=2018, month=10, day=1, year_month='2018_10', year_month_day='2018_10_1')]"
      ]
     },
     "execution_count": 45,
     "metadata": {},
     "output_type": "execute_result"
    }
   ],
   "source": [
    "# look at the rows for one concrete user\n",
    "events_df[events_df['userId']==124].head(20)\n",
    "# enhanced_df.head(5)"
   ]
  },
  {
   "cell_type": "code",
   "execution_count": 46,
   "metadata": {},
   "outputs": [],
   "source": [
    "# create new df for the entries for one concrete usr\n",
    "usr_124_df = events_df.where(events_df['userId']==124)"
   ]
  },
  {
   "cell_type": "code",
   "execution_count": 47,
   "metadata": {},
   "outputs": [
    {
     "name": "stdout",
     "output_type": "stream",
     "text": [
      "+--------------+\n",
      "|year_month_day|\n",
      "+--------------+\n",
      "|    2018_11_13|\n",
      "|    2018_11_19|\n",
      "|     2018_11_2|\n",
      "|    2018_10_24|\n",
      "|    2018_11_11|\n",
      "|    2018_10_29|\n",
      "|    2018_10_31|\n",
      "|    2018_10_17|\n",
      "|    2018_10_30|\n",
      "|    2018_11_28|\n",
      "|     2018_10_5|\n",
      "|     2018_10_1|\n",
      "|    2018_11_27|\n",
      "|     2018_11_3|\n",
      "|    2018_11_10|\n",
      "|    2018_10_22|\n",
      "|    2018_11_30|\n",
      "|     2018_10_8|\n",
      "|    2018_10_23|\n",
      "|    2018_11_15|\n",
      "+--------------+\n",
      "only showing top 20 rows\n",
      "\n"
     ]
    }
   ],
   "source": [
    "# for which days do we have timestamps for this user?\n",
    "usr_124_df.select(\"year_month_day\").distinct().show()"
   ]
  },
  {
   "cell_type": "code",
   "execution_count": 48,
   "metadata": {},
   "outputs": [
    {
     "name": "stdout",
     "output_type": "stream",
     "text": [
      "+------+--------------+-----+\n",
      "|userId|year_month_day|count|\n",
      "+------+--------------+-----+\n",
      "|   141|     2018_10_8|   27|\n",
      "|    37|    2018_10_29|  112|\n",
      "|   109|     2018_11_5|   11|\n",
      "|    34|    2018_11_21|   19|\n",
      "|     8|    2018_11_23|    9|\n",
      "|200023|     2018_10_1|  115|\n",
      "|200023|    2018_11_14|   45|\n",
      "|300005|    2018_10_11|  180|\n",
      "|    15|     2018_10_7|   94|\n",
      "|     9|     2018_10_7|  246|\n",
      "|    40|    2018_10_10|   38|\n",
      "|   120|    2018_10_15|   49|\n",
      "|    66|    2018_10_17|   31|\n",
      "|   142|    2018_10_20|   30|\n",
      "|    71|    2018_10_22|   59|\n",
      "|    35|    2018_10_25|   60|\n",
      "|   118|    2018_10_27|  115|\n",
      "|    74|    2018_10_31|   15|\n",
      "|   118|    2018_11_21|   32|\n",
      "|    61|    2018_11_24|   18|\n",
      "+------+--------------+-----+\n",
      "only showing top 20 rows\n",
      "\n"
     ]
    }
   ],
   "source": [
    "# how many entries for these days do we have for this user?\n",
    "events_df.groupby('userId','year_month_day').count().show()"
   ]
  },
  {
   "cell_type": "code",
   "execution_count": 49,
   "metadata": {},
   "outputs": [],
   "source": [
    "# create new df which aggregates over the different pages (events)\n",
    "agg_df = events_df.groupby('userId','year_month_day', 'page').agg(count(\"*\").alias('count'))"
   ]
  },
  {
   "cell_type": "code",
   "execution_count": 50,
   "metadata": {},
   "outputs": [
    {
     "name": "stdout",
     "output_type": "stream",
     "text": [
      "+------+--------------+---------------+-----+\n",
      "|userId|year_month_day|           page|count|\n",
      "+------+--------------+---------------+-----+\n",
      "|   124|    2018_11_20|    Thumbs Down|    1|\n",
      "|   124|    2018_10_24|         Logout|    1|\n",
      "|   124|    2018_10_30|  Save Settings|    1|\n",
      "|   124|     2018_11_2|Add to Playlist|    2|\n",
      "|   124|     2018_11_7|       NextSong|    7|\n",
      "|   124|    2018_11_16|       NextSong|   12|\n",
      "|   124|     2018_11_2|      Thumbs Up|    5|\n",
      "|   124|     2018_11_8|           Help|    2|\n",
      "|   124|    2018_11_23|       NextSong|   38|\n",
      "|   124|    2018_11_15|Add to Playlist|    5|\n",
      "|   124|     2018_10_9|           Home|    2|\n",
      "|   124|    2018_10_30|           Home|    9|\n",
      "|   124|    2018_10_26|           Home|    9|\n",
      "|   124|    2018_10_30|       NextSong|  348|\n",
      "|   124|    2018_11_27|      Downgrade|    1|\n",
      "|   124|     2018_10_1|       NextSong|   99|\n",
      "|   124|    2018_10_30|      Downgrade|    2|\n",
      "|   124|    2018_11_13|    Thumbs Down|    1|\n",
      "|   124|    2018_11_16|           Home|    1|\n",
      "|   124|    2018_11_29|      Downgrade|    1|\n",
      "+------+--------------+---------------+-----+\n",
      "only showing top 20 rows\n",
      "\n"
     ]
    }
   ],
   "source": [
    "# check this for one concrete user\n",
    "agg_df[agg_df['userId']==124].show()"
   ]
  },
  {
   "cell_type": "code",
   "execution_count": 51,
   "metadata": {},
   "outputs": [
    {
     "name": "stdout",
     "output_type": "stream",
     "text": [
      "+------+--------------+--------+-----+\n",
      "|userId|year_month_day|    page|count|\n",
      "+------+--------------+--------+-----+\n",
      "|   124|     2018_11_7|NextSong|    7|\n",
      "|   124|    2018_11_16|NextSong|   12|\n",
      "|   124|    2018_11_23|NextSong|   38|\n",
      "|   124|    2018_10_30|NextSong|  348|\n",
      "|   124|     2018_10_1|NextSong|   99|\n",
      "|   124|    2018_11_20|NextSong|   50|\n",
      "|   124|    2018_10_17|NextSong|  249|\n",
      "|   124|    2018_10_31|NextSong|    2|\n",
      "|   124|    2018_11_13|NextSong|  100|\n",
      "|   124|    2018_11_19|NextSong|  136|\n",
      "|   124|     2018_11_5|NextSong|   69|\n",
      "|   124|    2018_11_29|NextSong|  109|\n",
      "|   124|     2018_10_8|NextSong|   93|\n",
      "|   124|    2018_10_22|NextSong|   48|\n",
      "|   124|    2018_10_24|NextSong|   85|\n",
      "|   124|     2018_10_9|NextSong|   30|\n",
      "|   124|     2018_11_9|NextSong|  358|\n",
      "|   124|     2018_10_2|NextSong|  166|\n",
      "|   124|    2018_10_23|NextSong|   39|\n",
      "|   124|    2018_11_12|NextSong|   73|\n",
      "+------+--------------+--------+-----+\n",
      "only showing top 20 rows\n",
      "\n"
     ]
    }
   ],
   "source": [
    "# and only the \"NextSong\" events for this user\n",
    "agg_df[(agg_df['userId']==124) & (agg_df['page']=='NextSong')].show()"
   ]
  },
  {
   "cell_type": "markdown",
   "metadata": {},
   "source": [
    "We now add new columns which contain the total number of \"NextSong\" events per day per user"
   ]
  },
  {
   "cell_type": "code",
   "execution_count": 52,
   "metadata": {},
   "outputs": [],
   "source": [
    "\n",
    "pivoted_df = agg_df.groupBy(\"userId\", \"year_month_day\").pivot(\"page\").sum(\"count\")\n",
    "\n",
    "# Fill null values with 0 and rename columns\n",
    "pivoted_df = pivoted_df.na.fill(0)\n",
    "pivoted_df = pivoted_df.withColumnRenamed(\"NextSong\", \"year_month_day_NextSong\")\n"
   ]
  },
  {
   "cell_type": "code",
   "execution_count": 53,
   "metadata": {},
   "outputs": [
    {
     "name": "stdout",
     "output_type": "stream",
     "text": [
      "+------+--------------+-----+----------+---------------+------+-------------------------+---------+-----+----+----+------+-----------------------+-----------+-------------+--------+----------------+--------------+-----------+---------+-------+\n",
      "|userId|year_month_day|About|Add Friend|Add to Playlist|Cancel|Cancellation Confirmation|Downgrade|Error|Help|Home|Logout|year_month_day_NextSong|Roll Advert|Save Settings|Settings|Submit Downgrade|Submit Upgrade|Thumbs Down|Thumbs Up|Upgrade|\n",
      "+------+--------------+-----+----------+---------------+------+-------------------------+---------+-----+----+----+------+-----------------------+-----------+-------------+--------+----------------+--------------+-----------+---------+-------+\n",
      "|   124|    2018_11_19|    0|         0|              1|     0|                        0|        0|    0|   0|   6|     2|                    136|          0|            0|       0|               0|             0|          3|        4|      0|\n",
      "|   124|     2018_10_9|    0|         0|              1|     0|                        0|        2|    0|   0|   2|     2|                     30|          0|            0|       0|               0|             0|          0|        1|      0|\n",
      "|   124|    2018_10_17|    1|         9|              9|     0|                        0|        1|    2|   0|  11|     2|                    249|          0|            0|       0|               0|             0|          3|       13|      0|\n",
      "|   124|    2018_11_10|    0|         0|              3|     0|                        0|        2|    0|   0|   5|     2|                     73|          0|            0|       0|               0|             0|          1|        2|      0|\n",
      "|   124|    2018_10_16|    0|         1|              7|     0|                        0|        1|    0|   0|  11|     5|                    185|          1|            0|       0|               0|             0|          1|        3|      0|\n",
      "|   124|     2018_10_3|    0|         2|              2|     0|                        0|        3|    0|   1|   9|     3|                    148|          0|            0|       0|               0|             0|          1|        5|      0|\n",
      "|   124|    2018_11_30|    0|         0|              0|     0|                        0|        0|    0|   0|   1|     0|                      0|          0|            0|       0|               0|             0|          0|        0|      0|\n",
      "|   124|     2018_11_3|    1|         5|              4|     0|                        0|        1|    0|   2|   4|     0|                    124|          0|            0|       0|               0|             0|          1|        2|      0|\n",
      "|   124|    2018_11_29|    0|         2|              2|     0|                        0|        1|    1|   0|   4|     1|                    109|          0|            0|       0|               0|             0|          1|        8|      0|\n",
      "|   124|    2018_11_11|    2|         8|              8|     0|                        0|        4|    0|   2|  13|     3|                    332|          0|            0|       2|               0|             0|          1|       12|      0|\n",
      "+------+--------------+-----+----------+---------------+------+-------------------------+---------+-----+----+----+------+-----------------------+-----------+-------------+--------+----------------+--------------+-----------+---------+-------+\n",
      "only showing top 10 rows\n",
      "\n"
     ]
    }
   ],
   "source": [
    "# how does this look like for a concrete user\n",
    "pivoted_df[pivoted_df['userId']==124].show(10)"
   ]
  },
  {
   "cell_type": "markdown",
   "metadata": {},
   "source": [
    "#### Function to extract per day features"
   ]
  },
  {
   "cell_type": "code",
   "execution_count": 54,
   "metadata": {},
   "outputs": [],
   "source": [
    "def df_with_event_sum_per_day_and_user(df, events: list):\n",
    "    '''Builds dataframe for features for sum of event per day\n",
    "       Features are per user and per event to sum up the event per day\n",
    "    \n",
    "        Args:\n",
    "            df: a Pyspark dataframe\n",
    "            events: list of attributes for which new features shall be constructed\n",
    "            \n",
    "        Returns:\n",
    "            pivot_table: a new dataframe with userId as identifier and columns for the new features \n",
    "    '''\n",
    "    \n",
    "    # Add new columns for year, month, and day\n",
    "    df = df.withColumn(\"ts_sec\", df[\"ts\"] / 1000)  # Convert milliseconds to seconds\n",
    "    df = df.withColumn(\"year\", year(df[\"ts_sec\"].cast(\"timestamp\")))\n",
    "    df = df.withColumn(\"month\", month(df[\"ts_sec\"].cast(\"timestamp\")))\n",
    "    df = df.withColumn(\"day\", dayofmonth(df[\"ts_sec\"].cast(\"timestamp\")))\n",
    "    df = df.withColumn(\"year_month\", concat_ws(\"_\", df[\"year\"], df[\"month\"]))\n",
    "    df = df.withColumn(\"year_month_day\", concat_ws(\"_\", df.year, df.month, df.day))\n",
    "\n",
    "    # create new df which aggregates over the different pages (events)\n",
    "    agg_df = df.groupby('userId','year_month_day', 'page').agg(count(\"*\").alias('count'))\n",
    "\n",
    "    # creae pivoted df with columns which contain the total number of events per day per user\n",
    "    pivoted_df = agg_df.groupBy(\"userId\", \"year_month_day\").pivot(\"page\").sum(\"count\")\n",
    "\n",
    "    # Fill null values with 0 and rename columns\n",
    "    pivoted_df = pivoted_df.na.fill(0)\n",
    "    for event in events:\n",
    "        pivoted_df = pivoted_df.withColumnRenamed(event, f\"year_month_day_{event}\")\n",
    "    \n",
    "    # Strip all columns but the wanted\n",
    "    wanted_cols = [f\"year_month_day_{event}\" for event in events]\n",
    "    wanted_cols.extend(['userId', 'year_month_day'])\n",
    "\n",
    "    return pivoted_df.select(wanted_cols)\n",
    "\n",
    "    "
   ]
  },
  {
   "cell_type": "code",
   "execution_count": 55,
   "metadata": {},
   "outputs": [
    {
     "name": "stdout",
     "output_type": "stream",
     "text": [
      "+-----------------------+------+--------------+\n",
      "|year_month_day_NextSong|userId|year_month_day|\n",
      "+-----------------------+------+--------------+\n",
      "|                      6|     8|    2018_11_23|\n",
      "|                    103|    37|    2018_10_29|\n",
      "|                     91|200023|     2018_10_1|\n",
      "|                     14|    34|    2018_11_21|\n",
      "|                    147|300005|    2018_10_11|\n",
      "|                     32|200023|    2018_11_14|\n",
      "|                     20|   141|     2018_10_8|\n",
      "|                     10|   109|     2018_11_5|\n",
      "|                     13|    56|    2018_11_28|\n",
      "|                     25|    66|    2018_10_17|\n",
      "|                     80|200006|    2018_11_22|\n",
      "|                      8|200018|     2018_10_7|\n",
      "|                     28|   118|    2018_11_21|\n",
      "|                     44|    52|    2018_11_28|\n",
      "|                    266|    97|    2018_11_26|\n",
      "|                     33|    40|    2018_10_10|\n",
      "|                     23|   142|    2018_10_20|\n",
      "|                     18|300018|    2018_10_19|\n",
      "|                    146|300017|    2018_10_13|\n",
      "|                     16|    61|    2018_11_24|\n",
      "+-----------------------+------+--------------+\n",
      "only showing top 20 rows\n",
      "\n"
     ]
    }
   ],
   "source": [
    "next_song_event_per_day_df = df_with_event_sum_per_day_and_user(enhanced_df, ['NextSong'])\n",
    "next_song_event_per_day_df.show()"
   ]
  },
  {
   "cell_type": "markdown",
   "metadata": {},
   "source": [
    "## Create now the feature dataset\n",
    "\n",
    "We will here use the above defined functions to create a new dataframe containing all of the features we want to train.\n",
    "To play around and add/remove features the variables below maybe used.\n",
    "* cats_to_include: categorical features from the original dataset\n",
    "* sums_to_include: totals per userId over events from page column of the original dataset\n",
    "* per_day_to_include: features for \"sum per day\" over the events from page column of the original dataset\n",
    "\n"
   ]
  },
  {
   "cell_type": "code",
   "execution_count": 56,
   "metadata": {},
   "outputs": [
    {
     "name": "stderr",
     "output_type": "stream",
     "text": [
      "                                                                                \r"
     ]
    },
    {
     "name": "stdout",
     "output_type": "stream",
     "text": [
      "+------+------+--------------------+---------------+----------+-----------------------+--------------+\n",
      "|userId|gender|            location|Add to Playlist|Add Friend|year_month_day_NextSong|year_month_day|\n",
      "+------+------+--------------------+---------------+----------+-----------------------+--------------+\n",
      "|200002|     M|Chicago-Napervill...|              8|         4|                      8|    2018_11_16|\n",
      "|200002|     M|Chicago-Napervill...|              8|         4|                     34|    2018_10_16|\n",
      "|200002|     M|Chicago-Napervill...|              8|         4|                    117|    2018_10_18|\n",
      "|200002|     M|Chicago-Napervill...|              8|         4|                      4|     2018_10_1|\n",
      "|200002|     M|Chicago-Napervill...|              8|         4|                     20|     2018_10_2|\n",
      "|200002|     M|Chicago-Napervill...|              8|         4|                     53|    2018_10_23|\n",
      "|200002|     M|Chicago-Napervill...|              8|         4|                     39|    2018_10_22|\n",
      "|200002|     M|Chicago-Napervill...|              8|         4|                    112|    2018_11_15|\n",
      "|100010|     F|Bridgeport-Stamfo...|              7|         4|                     31|     2018_10_8|\n",
      "|100010|     F|Bridgeport-Stamfo...|              7|         4|                     51|     2018_11_5|\n",
      "|100010|     F|Bridgeport-Stamfo...|              7|         4|                     24|    2018_11_21|\n",
      "|100010|     F|Bridgeport-Stamfo...|              7|         4|                     80|     2018_11_9|\n",
      "|100010|     F|Bridgeport-Stamfo...|              7|         4|                     44|    2018_10_20|\n",
      "|100010|     F|Bridgeport-Stamfo...|              7|         4|                     38|    2018_10_16|\n",
      "|100010|     F|Bridgeport-Stamfo...|              7|         4|                      7|    2018_10_15|\n",
      "|   125|     M|  Corpus Christi, TX|              0|         0|                      8|    2018_10_12|\n",
      "|    51|     M|Lexington-Fayette...|             52|        28|                    150|    2018_10_15|\n",
      "|    51|     M|Lexington-Fayette...|             52|        28|                     16|     2018_10_4|\n",
      "|    51|     M|Lexington-Fayette...|             52|        28|                     20|     2018_10_3|\n",
      "|    51|     M|Lexington-Fayette...|             52|        28|                    209|     2018_10_8|\n",
      "+------+------+--------------------+---------------+----------+-----------------------+--------------+\n",
      "only showing top 20 rows\n",
      "\n"
     ]
    }
   ],
   "source": [
    "cats_to_include = ['gender', 'location']\n",
    "sums_to_include = ['Add to Playlist', 'Add Friend']\n",
    "per_day_to_include = ['NextSong']\n",
    "\n",
    "cat_features = get_df_for_categorical_features(enhanced_df, cats_to_include)\n",
    "sum_features = df_with_totals_per_user(enhanced_df, sums_to_include)\n",
    "per_day_features = df_with_event_sum_per_day_and_user(enhanced_df, per_day_to_include)\n",
    "\n",
    "feature_df = cat_features.join(sum_features, on='userId', how='inner')\\\n",
    "    .join(per_day_features, on='userId', how='inner')\n",
    "\n",
    "feature_df.show()"
   ]
  },
  {
   "cell_type": "markdown",
   "metadata": {},
   "source": [
    "## Add the chunked_label\n",
    "We now want to label all userId datasets for which there is a chunked value of 1."
   ]
  },
  {
   "cell_type": "code",
   "execution_count": 57,
   "metadata": {},
   "outputs": [],
   "source": [
    "def label_df(df):\n",
    "    '''Builds the labels (churned/not churned) \n",
    "    \n",
    "        Args:\n",
    "            df: a Pyspark dataframe\n",
    "            \n",
    "        Returns:\n",
    "            label_df: a new dataframe with userId and label churned\n",
    "    '''\n",
    "    # Aggregate the 'chunked' column to check if there's at least one '1' per user\n",
    "    # Then use the 'when' function to create a new 'chunked_label' column\n",
    "    label_df = df.groupBy('userId').agg(max(when(col('churned') >= 1, 1).otherwise(0)).alias('churned_label'))\n",
    "    return label_df"
   ]
  },
  {
   "cell_type": "code",
   "execution_count": 58,
   "metadata": {},
   "outputs": [
    {
     "name": "stdout",
     "output_type": "stream",
     "text": [
      "+------+-------------+\n",
      "|userId|churned_label|\n",
      "+------+-------------+\n",
      "|   125|            1|\n",
      "|    51|            1|\n",
      "|    54|            1|\n",
      "|100014|            1|\n",
      "|   101|            1|\n",
      "+------+-------------+\n",
      "only showing top 5 rows\n",
      "\n"
     ]
    }
   ],
   "source": [
    "label_df = label_df(enhanced_df)\n",
    "# Filter the DataFrame to keep only rows where 'churned_label' is equal to 1\n",
    "filtered_df = label_df.filter(label_df['churned_label'] == 1)\n",
    "\n",
    "# Show the filtered DataFrame\n",
    "filtered_df.show(5)"
   ]
  },
  {
   "cell_type": "markdown",
   "metadata": {},
   "source": [
    "#### Join feature and label dataframes for the training"
   ]
  },
  {
   "cell_type": "code",
   "execution_count": 59,
   "metadata": {},
   "outputs": [],
   "source": [
    "joined_df = feature_df.join(label_df, 'userId', 'inner')"
   ]
  },
  {
   "cell_type": "code",
   "execution_count": 78,
   "metadata": {},
   "outputs": [
    {
     "name": "stderr",
     "output_type": "stream",
     "text": [
      "                                                                                \r"
     ]
    },
    {
     "name": "stdout",
     "output_type": "stream",
     "text": [
      "+------+------+--------------------+---------------+----------+-----------------------+--------------+-------------+\n",
      "|userId|gender|            location|Add to Playlist|Add Friend|year_month_day_NextSong|year_month_day|churned_label|\n",
      "+------+------+--------------------+---------------+----------+-----------------------+--------------+-------------+\n",
      "|200002|     M|Chicago-Napervill...|              8|         4|                      8|    2018_11_16|            0|\n",
      "|200002|     M|Chicago-Napervill...|              8|         4|                     34|    2018_10_16|            0|\n",
      "|200002|     M|Chicago-Napervill...|              8|         4|                    117|    2018_10_18|            0|\n",
      "|200002|     M|Chicago-Napervill...|              8|         4|                      4|     2018_10_1|            0|\n",
      "|200002|     M|Chicago-Napervill...|              8|         4|                     20|     2018_10_2|            0|\n",
      "|200002|     M|Chicago-Napervill...|              8|         4|                     53|    2018_10_23|            0|\n",
      "|200002|     M|Chicago-Napervill...|              8|         4|                     39|    2018_10_22|            0|\n",
      "|200002|     M|Chicago-Napervill...|              8|         4|                    112|    2018_11_15|            0|\n",
      "|100010|     F|Bridgeport-Stamfo...|              7|         4|                     31|     2018_10_8|            0|\n",
      "|100010|     F|Bridgeport-Stamfo...|              7|         4|                     51|     2018_11_5|            0|\n",
      "|100010|     F|Bridgeport-Stamfo...|              7|         4|                     24|    2018_11_21|            0|\n",
      "|100010|     F|Bridgeport-Stamfo...|              7|         4|                     80|     2018_11_9|            0|\n",
      "|100010|     F|Bridgeport-Stamfo...|              7|         4|                     44|    2018_10_20|            0|\n",
      "|100010|     F|Bridgeport-Stamfo...|              7|         4|                     38|    2018_10_16|            0|\n",
      "|100010|     F|Bridgeport-Stamfo...|              7|         4|                      7|    2018_10_15|            0|\n",
      "|   125|     M|  Corpus Christi, TX|              0|         0|                      8|    2018_10_12|            1|\n",
      "|    51|     M|Lexington-Fayette...|             52|        28|                    150|    2018_10_15|            1|\n",
      "|    51|     M|Lexington-Fayette...|             52|        28|                     16|     2018_10_4|            1|\n",
      "|    51|     M|Lexington-Fayette...|             52|        28|                     20|     2018_10_3|            1|\n",
      "|    51|     M|Lexington-Fayette...|             52|        28|                    209|     2018_10_8|            1|\n",
      "+------+------+--------------------+---------------+----------+-----------------------+--------------+-------------+\n",
      "only showing top 20 rows\n",
      "\n"
     ]
    }
   ],
   "source": [
    "joined_df.show(20)"
   ]
  },
  {
   "cell_type": "code",
   "execution_count": 67,
   "metadata": {},
   "outputs": [
    {
     "data": {
      "text/plain": [
       "3172"
      ]
     },
     "execution_count": 67,
     "metadata": {},
     "output_type": "execute_result"
    }
   ],
   "source": [
    "joined_df.count()"
   ]
  },
  {
   "cell_type": "code",
   "execution_count": 76,
   "metadata": {},
   "outputs": [
    {
     "data": {
      "text/plain": [
       "pyspark.sql.dataframe.DataFrame"
      ]
     },
     "execution_count": 76,
     "metadata": {},
     "output_type": "execute_result"
    }
   ],
   "source": [
    "type(joined_df)"
   ]
  },
  {
   "cell_type": "markdown",
   "metadata": {},
   "source": [
    "Check for plausibility. There should be no user with churned_label both True and False!\n",
    "How many churned/not churned do we have?"
   ]
  },
  {
   "cell_type": "code",
   "execution_count": null,
   "metadata": {},
   "outputs": [],
   "source": [
    "\n",
    "from pyspark.sql import SparkSession\n",
    "from pyspark.sql.functions import col\n",
    "\n",
    "\n",
    "df = joined_df\n",
    "\n",
    "# 1. Get userIds for which churned_label has only True values\n",
    "true_users = df.groupBy(\"userId\").agg({\"churned_label\": \"min\"}).filter(col(\"min(churned_label)\") == True).select(\"userId\")\n",
    "\n",
    "# 2. Get userIds for which churned_label has only False values\n",
    "false_users = df.groupBy(\"userId\").agg({\"churned_label\": \"max\"}).filter(col(\"max(churned_label)\") == False).select(\"userId\")\n",
    "\n",
    "# 3. Get userIds for which churned_label has both False and True values\n",
    "# mixed_users = df.groupBy(\"userId\").agg({\"churned_label\": \"max\", \"churned_label\": \"min\"}).filter((col(\"max(churned_label)\") == False) & (col(\"min(churned_label)\") == True)).select(\"userId\")\n",
    "\n",
    "true_users.show()\n",
    "false_users.show()\n",
    "# mixed_users.sh()\n"
   ]
  },
  {
   "cell_type": "code",
   "execution_count": 86,
   "metadata": {},
   "outputs": [
    {
     "name": "stderr",
     "output_type": "stream",
     "text": [
      "                                                                                \r"
     ]
    },
    {
     "name": "stdout",
     "output_type": "stream",
     "text": [
      "Dataset contains a total of 225 users from which 52 have churned (and 173 are still active).\n"
     ]
    }
   ],
   "source": [
    "print(f'Dataset contains a total of {joined_df.select(\"userId\").distinct().count()} users from which {true_users.count()} have churned (and {false_users.count()} are still active).')"
   ]
  },
  {
   "cell_type": "markdown",
   "metadata": {},
   "source": [
    "### Make catgegorical features numerical"
   ]
  },
  {
   "cell_type": "code",
   "execution_count": null,
   "metadata": {},
   "outputs": [],
   "source": [
    "joined_df.shape"
   ]
  },
  {
   "cell_type": "code",
   "execution_count": null,
   "metadata": {},
   "outputs": [],
   "source": [
    "# Create StringIndexer for gender and location\n",
    "gender_indexer = StringIndexer(inputCol=\"gender\", outputCol=\"gender_index\")\n",
    "location_indexer = StringIndexer(inputCol=\"location\", outputCol=\"location_index\")\n",
    "\n",
    "# Create OneHotEncoder for the indexed gender and location\n",
    "gender_encoder = OneHotEncoder(inputCol=\"gender_index\", outputCol=\"gender_encoded\")\n",
    "location_encoder = OneHotEncoder(inputCol=\"location_index\", outputCol=\"location_encoded\")\n",
    "\n",
    "# Assemble the features into a single vector column\n",
    "feature_cols = [\"Add to Playlist\", \"Add Friend\", \"year_month_day_NextSong\", \"gender_encoded\", \"location_encoded\"]\n",
    "assembler = VectorAssembler(inputCols=feature_cols, outputCol=\"features\")\n",
    "\n",
    "# Create a pipeline for the transformations\n",
    "pipeline = Pipeline(stages=[gender_indexer, location_indexer, gender_encoder, location_encoder, assembler])\n",
    "\n",
    "# Fit and transform the data using the pipeline\n",
    "pipeline_model = pipeline.fit(joined_df)\n",
    "joined_df = pipeline_model.transform(joined_df)\n",
    "\n"
   ]
  },
  {
   "cell_type": "code",
   "execution_count": null,
   "metadata": {},
   "outputs": [],
   "source": [
    "joined_df.show()"
   ]
  },
  {
   "cell_type": "markdown",
   "metadata": {},
   "source": [
    "# Modeling\n",
    "Split the full dataset into train and test sets. We will test out several  machine learning methods. The accuracies of the various models will be evaluated. The winning model will be choosen based on test accuracy and report results on the validation set. As our data is quite unbalanced we will use F1 score for this."
   ]
  },
  {
   "cell_type": "markdown",
   "metadata": {},
   "source": [
    "### Train/Test split"
   ]
  },
  {
   "cell_type": "code",
   "execution_count": null,
   "metadata": {},
   "outputs": [],
   "source": [
    "# Split the data into training and testing sets (e.g., 70% training, 30% testing)\n",
    "train_ratio = 0.7\n",
    "test_ratio = 1.0 - train_ratio\n",
    "seed = 42\n",
    "\n",
    "train_data, test_data = joined_df.randomSplit([train_ratio, test_ratio], seed=seed)\n"
   ]
  },
  {
   "cell_type": "markdown",
   "metadata": {},
   "source": [
    "## Model for Logistic Regression"
   ]
  },
  {
   "cell_type": "code",
   "execution_count": null,
   "metadata": {},
   "outputs": [],
   "source": [
    "# Create a Logistic Regression model\n",
    "lr = LogisticRegression(labelCol=\"churned_label\")\n",
    "\n",
    "# Set up a parameter grid for hyperparameter tuning\n",
    "param_grid = ParamGridBuilder() \\\n",
    "    .addGrid(lr.regParam, [0.01, 0.1, 1.0]) \\\n",
    "    .addGrid(lr.elasticNetParam, [0.0, 0.1, 0.5, 1.0]) \\\n",
    "    .build()"
   ]
  },
  {
   "cell_type": "markdown",
   "metadata": {},
   "source": [
    "#### Use cross-validation"
   ]
  },
  {
   "cell_type": "code",
   "execution_count": null,
   "metadata": {},
   "outputs": [],
   "source": [
    "# Create a cross-validator\n",
    "evaluator = BinaryClassificationEvaluator(labelCol=\"churned_label\")\n",
    "cross_val = CrossValidator(estimator=lr, estimatorParamMaps=param_grid, evaluator=evaluator, numFolds=5, seed=42)\n",
    "\n",
    "# Fit the cross-validator to the training data\n",
    "cv_model = cross_val.fit(train_data)\n"
   ]
  },
  {
   "cell_type": "markdown",
   "metadata": {},
   "source": [
    "##### Evaluate\n",
    "As data is quite unbalanced with relatively few churned entries we will use F1 for our model evaluation. F1-score as the evaluation metric is a good choice, as it takes both precision and recall into account and is suitable for imbalanced datasets."
   ]
  },
  {
   "cell_type": "code",
   "execution_count": null,
   "metadata": {},
   "outputs": [],
   "source": [
    "\n",
    "# Make predictions on the test data\n",
    "predictions = cv_model.transform(test_data)\n",
    "\n",
    "# Create a MulticlassClassificationEvaluator with metric \"f1\"\n",
    "f1_evaluator = MulticlassClassificationEvaluator(labelCol=\"churned_label\", metricName=\"f1\")\n",
    "\n",
    "# Calculate the F1-score on the test data\n",
    "f1_score = f1_evaluator.evaluate(predictions)\n",
    "print(\"F1-score: {:.2f}\".format(f1_score))\n"
   ]
  },
  {
   "cell_type": "code",
   "execution_count": null,
   "metadata": {},
   "outputs": [],
   "source": [
    "## Model for Random Forest Classifier"
   ]
  },
  {
   "cell_type": "code",
   "execution_count": null,
   "metadata": {},
   "outputs": [],
   "source": [
    "# Create a RandomForest classifier\n",
    "rf = RandomForestClassifier(labelCol=\"churned_label\", featuresCol=\"features\")\n",
    "\n",
    "# Train the RandomForest model\n",
    "rf_model = rf.fit(train_data)\n",
    "\n",
    "\n",
    "## for maybe later usage of k-fold x-validation\n",
    "\n",
    "# # Set up a parameter grid for hyperparameter tuning\n",
    "# param_grid = ParamGridBuilder() \\\n",
    "#     .addGrid(rf.numTrees, [10, 20, 30, 50]) \\\n",
    "#     .addGrid(rf.maxDepth, [5, 10, 15]) \\\n",
    "#     .addGrid(rf.maxBins, [16, 32, 64]) \\\n",
    "#     .addGrid(rf.impurity, [\"gini\", \"entropy\"]) \\\n",
    "#     .addGrid(rf.featureSubsetStrategy, [\"auto\", \"sqrt\", \"log2\"]) \\\n",
    "#     .addGrid(rf.subsamplingRate, [0.6, 0.7, 0.8, 0.9, 1.0]) \\\n",
    "#     .build()\n",
    "\n",
    "# # Train the RandomForest model\n",
    "# cross_val = CrossValidator(estimator=rf, estimatorParamMaps=param_grid, evaluator=evaluator, numFolds=5, seed=42)\n",
    "\n",
    "# # Fit the cross-validator to the training data\n",
    "# rf_model = cross_val.fit(train_data)\n",
    "\n",
    "# Make predictions on the test data\n",
    "predictions = rf_model.transform(test_data)\n",
    "\n",
    "# Create a MulticlassClassificationEvaluator with metric \"f1\"\n",
    "f1_evaluator = MulticlassClassificationEvaluator(labelCol=\"churned_label\", metricName=\"f1\")\n",
    "\n",
    "# Calculate the F1-score on the test data\n",
    "f1_score = f1_evaluator.evaluate(predictions)\n",
    "print(\"F1-score: {:.2f}\".format(f1_score))"
   ]
  },
  {
   "cell_type": "code",
   "execution_count": null,
   "metadata": {},
   "outputs": [],
   "source": [
    "## Model for Gradient Boosted Trees"
   ]
  },
  {
   "cell_type": "code",
   "execution_count": null,
   "metadata": {},
   "outputs": [],
   "source": [
    "# Create a GBT classifier\n",
    "gbt = GBTClassifier(labelCol=\"churned_label\", featuresCol=\"features\")\n",
    "evaluator = BinaryClassificationEvaluator(labelCol=\"churned_label\")\n",
    "\n",
    "# Train the GBT model\n",
    "gbt_model = gbt.fit(train_data)\n",
    "\n",
    "# Make predictions on the test data\n",
    "predictions = gbt_model.transform(test_data)\n",
    "\n",
    "# Create a MulticlassClassificationEvaluator with metric \"f1\"\n",
    "f1_evaluator = MulticlassClassificationEvaluator(labelCol=\"churned_label\", metricName=\"f1\")\n",
    "\n",
    "# Calculate the F1-score on the test data\n",
    "f1_score = f1_evaluator.evaluate(predictions)\n",
    "print(\"F1-score: {:.2f}\".format(f1_score))"
   ]
  },
  {
   "cell_type": "markdown",
   "metadata": {},
   "source": [
    "K-Fold X-Validation for Gradient Boosted Trees"
   ]
  },
  {
   "cell_type": "code",
   "execution_count": null,
   "metadata": {},
   "outputs": [],
   "source": [
    "# Create a GBT classifier\n",
    "gbt = GBTClassifier(labelCol=\"churned_label\", featuresCol=\"features\")\n",
    "evaluator = BinaryClassificationEvaluator(labelCol=\"churned_label\")\n",
    "\n",
    "\n",
    "# Set up a parameter grid for hyperparameter tuning\n",
    "param_grid = ParamGridBuilder() \\\n",
    "    .addGrid(gbt.maxIter, [10, 25, 50]) \\\n",
    "    .addGrid(gbt.maxDepth, [5,  15]) \\\n",
    "    .addGrid(gbt.maxBins, [16, 64]) \\\n",
    "    .addGrid(gbt.stepSize, [0.01, 0.25, 0.5]) \\\n",
    "    .build()\n",
    "\n",
    "# Train the RandomForest model\n",
    "cross_val = CrossValidator(estimator=gbt, estimatorParamMaps=param_grid, evaluator=evaluator, numFolds=5, seed=42)\n",
    "\n",
    "# Fit the cross-validator to the training data\n",
    "gbt_model = cross_val.fit(train_data)\n",
    "\n",
    "# Make predictions on the test data\n",
    "predictions = gbt_model.transform(test_data)\n",
    "\n",
    "# Create a MulticlassClassificationEvaluator with metric \"f1\"\n",
    "f1_evaluator = MulticlassClassificationEvaluator(labelCol=\"churned_label\", metricName=\"f1\")\n",
    "\n",
    "# Calculate the F1-score on the test data\n",
    "f1_score = f1_evaluator.evaluate(predictions)\n",
    "print(\"F1-score: {:.2f}\".format(f1_score))"
   ]
  },
  {
   "cell_type": "code",
   "execution_count": null,
   "metadata": {},
   "outputs": [],
   "source": [
    "# Save the best model\n",
    "best_model_path = \"gbt_model.md\"  # Replace with your desired path\n",
    "gbt_model.bestModel.save(best_model_path)"
   ]
  },
  {
   "cell_type": "code",
   "execution_count": null,
   "metadata": {},
   "outputs": [],
   "source": []
  },
  {
   "cell_type": "code",
   "execution_count": null,
   "metadata": {},
   "outputs": [],
   "source": [
    "## Model for Support Vector Machine "
   ]
  },
  {
   "cell_type": "code",
   "execution_count": null,
   "metadata": {},
   "outputs": [],
   "source": [
    "# Create a LinearSVC classifier\n",
    "svm = LinearSVC(labelCol=\"churned_label\", featuresCol=\"features\")\n",
    "\n",
    "# Train the SVM model\n",
    "svm_model = svm.fit(train_data)\n",
    "\n",
    "# for later k-fold x-validation\n",
    "\n",
    "# # Set up a parameter grid for hyperparameter tuning\n",
    "# param_grid = ParamGridBuilder() \\\n",
    "#     .addGrid(linear_svc.regParam, [0.01, 0.1, 1.0, 10.0]) \\\n",
    "#     .addGrid(linear_svc.maxIter, [10, 50, 100, 200]) \\\n",
    "#     .addGrid(linear_svc.tol, [1e-6, 1e-5, 1e-4]) \\\n",
    "#     .addGrid(linear_svc.standardization, [True, False]) \\\n",
    "#     .addGrid(linear_svc.fitIntercept, [True, False]) \\\n",
    "#     .build()\n",
    "\n",
    "# # Train the RandomForest model\n",
    "# cross_val = CrossValidator(estimator=svm, estimatorParamMaps=param_grid, evaluator=evaluator, numFolds=5, seed=42)\n",
    "\n",
    "# # Fit the cross-validator to the training data\n",
    "# svm_model = cross_val.fit(train_data)\n",
    "\n",
    "# Make predictions on the test data\n",
    "predictions = svm_model.transform(test_data)\n",
    "\n",
    "# Create a MulticlassClassificationEvaluator with metric \"f1\"\n",
    "f1_evaluator = MulticlassClassificationEvaluator(labelCol=\"churned_label\", metricName=\"f1\")\n",
    "\n",
    "# Calculate the F1-score on the test data\n",
    "f1_score = f1_evaluator.evaluate(predictions)\n",
    "print(\"F1-score: {:.2f}\".format(f1_score))"
   ]
  },
  {
   "cell_type": "markdown",
   "metadata": {},
   "source": [
    "SVM can be sensitive to feature scales, so it's generally a good practice to scale the features. Maybe we could improve model even further with doing this."
   ]
  },
  {
   "cell_type": "code",
   "execution_count": null,
   "metadata": {},
   "outputs": [],
   "source": [
    "## Model for Naive Bayes"
   ]
  },
  {
   "cell_type": "code",
   "execution_count": null,
   "metadata": {},
   "outputs": [],
   "source": [
    "# Create a NaiveBayes classifier\n",
    "nb = NaiveBayes(labelCol=\"churned_label\", featuresCol=\"features\")\n",
    "\n",
    "# Train the Naive Bayes model\n",
    "nb_model = nb.fit(train_data)\n",
    "\n",
    "\n",
    "# for later k-fold x-validation\n",
    "\n",
    "# # Set up a parameter grid for hyperparameter tuning\n",
    "# param_grid = ParamGridBuilder() \\\n",
    "#     .addGrid(linear_svc.regParam, [0.01, 0.1, 1.0, 10.0]) \\\n",
    "#     .addGrid(linear_svc.maxIter, [10, 50, 100, 200]) \\\n",
    "#     .addGrid(linear_svc.tol, [1e-6, 1e-5, 1e-4]) \\\n",
    "#     .addGrid(linear_svc.standardization, [True, False]) \\\n",
    "#     .addGrid(linear_svc.fitIntercept, [True, False]) \\\n",
    "#     .build()\n",
    "\n",
    "# # Train the  model\n",
    "# cross_val = CrossValidator(estimator=nb, estimatorParamMaps=param_grid, evaluator=evaluator, numFolds=5, seed=42)\n",
    "\n",
    "# # Fit the cross-validator to the training data\n",
    "# nb_model = cross_val.fit(train_data)\n",
    "\n",
    "# Make predictions on the test data\n",
    "predictions = nb_model.transform(test_data)\n",
    "\n",
    "# Create a MulticlassClassificationEvaluator with metric \"f1\"\n",
    "f1_evaluator = MulticlassClassificationEvaluator(labelCol=\"churned_label\", metricName=\"f1\")\n",
    "\n",
    "# Calculate the F1-score on the test data\n",
    "f1_score = f1_evaluator.evaluate(predictions)\n",
    "print(\"F1-score: {:.2f}\".format(f1_score))"
   ]
  },
  {
   "cell_type": "code",
   "execution_count": null,
   "metadata": {},
   "outputs": [],
   "source": [
    "# Conclusions"
   ]
  },
  {
   "cell_type": "code",
   "execution_count": null,
   "metadata": {},
   "outputs": [],
   "source": []
  },
  {
   "cell_type": "code",
   "execution_count": null,
   "metadata": {},
   "outputs": [],
   "source": []
  }
 ],
 "metadata": {
  "kernelspec": {
   "display_name": "Python 3",
   "language": "python",
   "name": "python3"
  },
  "language_info": {
   "codemirror_mode": {
    "name": "ipython",
    "version": 3
   },
   "file_extension": ".py",
   "mimetype": "text/x-python",
   "name": "python",
   "nbconvert_exporter": "python",
   "pygments_lexer": "ipython3",
   "version": "3.9.18"
  }
 },
 "nbformat": 4,
 "nbformat_minor": 2
}
