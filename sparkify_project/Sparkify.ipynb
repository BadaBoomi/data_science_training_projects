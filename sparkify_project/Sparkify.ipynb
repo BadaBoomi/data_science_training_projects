{
 "cells": [
  {
   "cell_type": "markdown",
   "metadata": {},
   "source": [
    "# Sparkify Project Workspace\n",
    "This workspace uses a [subset]('data/mini_sparkify_event_data.json') (128MB) of the full dataset available (12GB). Within this workspace we will create and evaluate different versions of a model to predict user churns. The best resulting model will then be used to evaluate on a larger dataset within IBM cloud."
   ]
  },
  {
   "cell_type": "code",
   "execution_count": 1,
   "metadata": {},
   "outputs": [],
   "source": [
    "# import libraries\n",
    "from pyspark.sql import SparkSession, Window, Column\n",
    "from pyspark.sql.functions import  asc, desc, udf, col, lit, first, max\n",
    "from pyspark.sql.functions import sum as Fsum\n",
    "from pyspark.sql.functions import expr as expr\n",
    "from pyspark.sql.functions import year, month, dayofmonth, concat_ws, count\n",
    "from pyspark.sql.functions import max, when\n",
    "from pyspark.sql.types import IntegerType\n",
    "from pyspark.ml.feature import  VectorAssembler, Normalizer, StandardScaler\n",
    "from pyspark.ml.feature import StringIndexer, OneHotEncoder\n",
    "from pyspark.ml.classification import LogisticRegression, RandomForestClassifier,\\\n",
    "    GBTClassifier, LinearSVC, NaiveBayes\n",
    "from pyspark.ml.evaluation import MulticlassClassificationEvaluator, BinaryClassificationEvaluator\n",
    "\n",
    "from pyspark.ml.tuning import ParamGridBuilder, CrossValidator\n",
    "from pyspark.ml import Pipeline\n",
    "\n",
    "\n",
    "\n",
    "import datetime\n",
    "import pandas as pd\n",
    "import seaborn as sns\n",
    "\n",
    "%matplotlib inline\n",
    "import matplotlib.pyplot as plt"
   ]
  },
  {
   "cell_type": "code",
   "execution_count": 2,
   "metadata": {},
   "outputs": [
    {
     "name": "stderr",
     "output_type": "stream",
     "text": [
      "your 131072x1 screen size is bogus. expect trouble\n",
      "23/11/07 14:03:53 WARN Utils: Your hostname, Pinocchio resolves to a loopback address: 127.0.1.1; using 172.18.43.111 instead (on interface eth0)\n",
      "23/11/07 14:03:53 WARN Utils: Set SPARK_LOCAL_IP if you need to bind to another address\n",
      "Setting default log level to \"WARN\".\n",
      "To adjust logging level use sc.setLogLevel(newLevel). For SparkR, use setLogLevel(newLevel).\n",
      "23/11/07 14:03:54 WARN NativeCodeLoader: Unable to load native-hadoop library for your platform... using builtin-java classes where applicable\n"
     ]
    }
   ],
   "source": [
    "# create a Spark session\n",
    "spark = SparkSession.builder \\\n",
    "    .master(\"local\") \\\n",
    "    .appName(\"Sparkify Project\") \\\n",
    "    .getOrCreate()\n"
   ]
  },
  {
   "cell_type": "markdown",
   "metadata": {},
   "source": [
    "# Load and Clean Dataset\n",
    "Load and clean the dataset, checking for invalid or missing data - for example, records without userids or sessionids. "
   ]
  },
  {
   "cell_type": "markdown",
   "metadata": {},
   "source": [
    "### Load Dataset"
   ]
  },
  {
   "cell_type": "code",
   "execution_count": 3,
   "metadata": {},
   "outputs": [],
   "source": [
    "\n",
    "sparkify_data = 'data/mini_sparkify_event_data.json'"
   ]
  },
  {
   "cell_type": "code",
   "execution_count": 4,
   "metadata": {},
   "outputs": [
    {
     "name": "stderr",
     "output_type": "stream",
     "text": [
      "                                                                                \r"
     ]
    },
    {
     "data": {
      "text/plain": [
       "DataFrame[artist: string, auth: string, firstName: string, gender: string, itemInSession: bigint, lastName: string, length: double, level: string, location: string, method: string, page: string, registration: bigint, sessionId: bigint, song: string, status: bigint, ts: bigint, userAgent: string, userId: string]"
      ]
     },
     "execution_count": 4,
     "metadata": {},
     "output_type": "execute_result"
    }
   ],
   "source": [
    "df = spark.read.json(sparkify_data)\n",
    "df.persist()"
   ]
  },
  {
   "cell_type": "markdown",
   "metadata": {},
   "source": [
    "### Analyse the Dataset\n",
    "Check how many rows and columns we have, what the structure of the data is and how the content looks in terms of values and completeness."
   ]
  },
  {
   "cell_type": "code",
   "execution_count": 5,
   "metadata": {},
   "outputs": [
    {
     "data": {
      "text/plain": [
       "pyspark.sql.dataframe.DataFrame"
      ]
     },
     "execution_count": 5,
     "metadata": {},
     "output_type": "execute_result"
    }
   ],
   "source": [
    "type(df)"
   ]
  },
  {
   "cell_type": "code",
   "execution_count": 6,
   "metadata": {},
   "outputs": [
    {
     "name": "stderr",
     "output_type": "stream",
     "text": [
      "[Stage 1:>                                                          (0 + 1) / 1]\r"
     ]
    },
    {
     "name": "stdout",
     "output_type": "stream",
     "text": [
      "dataset contains 286500 rows with 18 columns\n"
     ]
    },
    {
     "name": "stderr",
     "output_type": "stream",
     "text": [
      "                                                                                \r"
     ]
    }
   ],
   "source": [
    "# num_rows = pd_df.shape[0] #Provide the number of rows in the dataset\n",
    "# num_cols = pd_df.shape[1] #Provide the number of columns in the dataset\n",
    "num_rows = df.count()\n",
    "num_cols = len(df.columns)\n",
    "print(f'dataset contains {num_rows} rows with {num_cols} columns')"
   ]
  },
  {
   "cell_type": "code",
   "execution_count": 7,
   "metadata": {},
   "outputs": [
    {
     "name": "stdout",
     "output_type": "stream",
     "text": [
      "root\n",
      " |-- artist: string (nullable = true)\n",
      " |-- auth: string (nullable = true)\n",
      " |-- firstName: string (nullable = true)\n",
      " |-- gender: string (nullable = true)\n",
      " |-- itemInSession: long (nullable = true)\n",
      " |-- lastName: string (nullable = true)\n",
      " |-- length: double (nullable = true)\n",
      " |-- level: string (nullable = true)\n",
      " |-- location: string (nullable = true)\n",
      " |-- method: string (nullable = true)\n",
      " |-- page: string (nullable = true)\n",
      " |-- registration: long (nullable = true)\n",
      " |-- sessionId: long (nullable = true)\n",
      " |-- song: string (nullable = true)\n",
      " |-- status: long (nullable = true)\n",
      " |-- ts: long (nullable = true)\n",
      " |-- userAgent: string (nullable = true)\n",
      " |-- userId: string (nullable = true)\n",
      "\n"
     ]
    }
   ],
   "source": [
    "df.printSchema()"
   ]
  },
  {
   "cell_type": "code",
   "execution_count": 8,
   "metadata": {},
   "outputs": [
    {
     "data": {
      "text/plain": [
       "[Row(artist='Martha Tilston', auth='Logged In', firstName='Colin', gender='M', itemInSession=50, lastName='Freeman', length=277.89016, level='paid', location='Bakersfield, CA', method='PUT', page='NextSong', registration=1538173362000, sessionId=29, song='Rockpools', status=200, ts=1538352117000, userAgent='Mozilla/5.0 (Windows NT 6.1; WOW64; rv:31.0) Gecko/20100101 Firefox/31.0', userId='30'),\n",
       " Row(artist='Five Iron Frenzy', auth='Logged In', firstName='Micah', gender='M', itemInSession=79, lastName='Long', length=236.09424, level='free', location='Boston-Cambridge-Newton, MA-NH', method='PUT', page='NextSong', registration=1538331630000, sessionId=8, song='Canada', status=200, ts=1538352180000, userAgent='\"Mozilla/5.0 (Windows NT 6.1; WOW64) AppleWebKit/537.36 (KHTML, like Gecko) Chrome/37.0.2062.103 Safari/537.36\"', userId='9'),\n",
       " Row(artist='Adam Lambert', auth='Logged In', firstName='Colin', gender='M', itemInSession=51, lastName='Freeman', length=282.8273, level='paid', location='Bakersfield, CA', method='PUT', page='NextSong', registration=1538173362000, sessionId=29, song='Time For Miracles', status=200, ts=1538352394000, userAgent='Mozilla/5.0 (Windows NT 6.1; WOW64; rv:31.0) Gecko/20100101 Firefox/31.0', userId='30')]"
      ]
     },
     "execution_count": 8,
     "metadata": {},
     "output_type": "execute_result"
    }
   ],
   "source": [
    "df.take(3)"
   ]
  },
  {
   "cell_type": "code",
   "execution_count": 9,
   "metadata": {},
   "outputs": [
    {
     "name": "stderr",
     "output_type": "stream",
     "text": [
      "23/11/07 14:04:07 WARN package: Truncated the string representation of a plan since it was too large. This behavior can be adjusted by setting 'spark.sql.debug.maxToStringFields'.\n",
      "                                                                                \r"
     ]
    },
    {
     "name": "stdout",
     "output_type": "stream",
     "text": [
      "+-------+------------------+----------+---------+------+------------------+--------+-----------------+------+-----------------+------+-------+--------------------+-----------------+--------------------+------------------+--------------------+--------------------+-----------------+\n",
      "|summary|            artist|      auth|firstName|gender|     itemInSession|lastName|           length| level|         location|method|   page|        registration|        sessionId|                song|            status|                  ts|           userAgent|           userId|\n",
      "+-------+------------------+----------+---------+------+------------------+--------+-----------------+------+-----------------+------+-------+--------------------+-----------------+--------------------+------------------+--------------------+--------------------+-----------------+\n",
      "|  count|            228108|    286500|   278154|278154|            286500|  278154|           228108|286500|           278154|286500| 286500|              278154|           286500|              228108|            286500|              286500|              278154|           286500|\n",
      "|   mean| 551.0852017937219|      null|     null|  null|114.41421291448516|    null|249.1171819778458|  null|             null|  null|   null|1.535358834084427...|1041.526554973822|            Infinity|210.05459685863875|1.540956889810483...|                null|59682.02278593872|\n",
      "| stddev|1217.7693079161374|      null|     null|  null|129.76726201140994|    null|99.23517921058361|  null|             null|  null|   null| 3.291321616327586E9|726.7762634630741|                 NaN| 31.50507848842214|1.5075439608226302E9|                null|109091.9499991047|\n",
      "|    min|               !!!| Cancelled| Adelaida|     F|                 0|   Adams|          0.78322|  free|       Albany, OR|   GET|  About|       1521380675000|                1|\u001cÃÂg ÃÂtti Gr...|               200|       1538352117000|\"Mozilla/5.0 (Mac...|                 |\n",
      "|    max| ÃÂlafur Arnalds|Logged Out|   Zyonna|     M|              1321|  Wright|       3024.66567|  paid|Winston-Salem, NC|   PUT|Upgrade|       1543247354000|             2474|ÃÂau hafa slopp...|               404|       1543799476000|Mozilla/5.0 (comp...|               99|\n",
      "+-------+------------------+----------+---------+------+------------------+--------+-----------------+------+-----------------+------+-------+--------------------+-----------------+--------------------+------------------+--------------------+--------------------+-----------------+\n",
      "\n"
     ]
    }
   ],
   "source": [
    "df.describe().show()"
   ]
  },
  {
   "cell_type": "markdown",
   "metadata": {},
   "source": [
    "How complete is the data?"
   ]
  },
  {
   "cell_type": "code",
   "execution_count": 10,
   "metadata": {},
   "outputs": [
    {
     "name": "stdout",
     "output_type": "stream",
     "text": [
      "+-------------+-----------------------------+\n",
      "|  Column_Name|Percentage_of_Existing_Values|\n",
      "+-------------+-----------------------------+\n",
      "|         auth|                        100.0|\n",
      "|itemInSession|                        100.0|\n",
      "|        level|                        100.0|\n",
      "|       method|                        100.0|\n",
      "|         page|                        100.0|\n",
      "|    sessionId|                        100.0|\n",
      "|       status|                        100.0|\n",
      "|           ts|                        100.0|\n",
      "|       userId|                        100.0|\n",
      "|    firstName|             97.0869109947644|\n",
      "|       gender|             97.0869109947644|\n",
      "|     lastName|             97.0869109947644|\n",
      "|     location|             97.0869109947644|\n",
      "| registration|             97.0869109947644|\n",
      "|    userAgent|             97.0869109947644|\n",
      "|       artist|            79.61884816753927|\n",
      "|       length|            79.61884816753927|\n",
      "|         song|            79.61884816753927|\n",
      "+-------------+-----------------------------+\n",
      "\n"
     ]
    }
   ],
   "source": [
    "column_percentages = []\n",
    "\n",
    "for column in df.columns:\n",
    "    count = df.filter(df[column].isNotNull()).count()\n",
    "    percentage = (count / df.count()) * 100\n",
    "    column_percentages.append((column, percentage))\n",
    "\n",
    "# Create a summary DataFrame\n",
    "from pyspark.sql import Row\n",
    "summary_rdd = spark.sparkContext.parallelize([Row(Column_Name=item[0], Percentage_of_Existing_Values=item[1]) for item in column_percentages])\n",
    "summary_df = spark.createDataFrame(summary_rdd)\n",
    "\n",
    "# Sort the summary DataFrame by the percentage in descending order\n",
    "summary_df = summary_df.orderBy(summary_df[\"Percentage_of_Existing_Values\"].desc())\n",
    "\n",
    "# Display the summary\n",
    "summary_df.show()"
   ]
  },
  {
   "cell_type": "markdown",
   "metadata": {},
   "source": [
    "From the information of the tables of the tables above we may draw some conclusions. Basically the data is structured in the parts related to the \n",
    "* user (name, gender , location, ...)\n",
    "* the user session (page, method, status, ...)\n",
    "* played songs (artist, length, ...)\n",
    "\n",
    "\n",
    "|Column|Percentage Filled|Comment|\n",
    "|------|-------|-------|\n",
    "|         auth|                        100.0|authorization status of user for this activity|\n",
    "|itemInSession|                        100.0|not sure what this is|\n",
    "|        level|                        100.0|user's account level (from free to paid)|\n",
    "|       method|                        100.0|how the website was accessed from browser|\n",
    "|         page|                        100.0|page user visited|\n",
    "|    sessionId|                        100.0|id of the session with which user is currently identified (browser session)|\n",
    "|       status|                        100.0|status of the current web request from browser|\n",
    "|           ts|                        100.0|a timestamp|\n",
    "|       userId|                        100.0|user's unique id. We see a strange min value here and will care about it within the data cleaning.|\n",
    "|    firstName|             97.0869109947644| user's firstname|\n",
    "|       gender|             97.0869109947644|user's gender|\n",
    "|     lastName|             97.0869109947644|user's lastName|\n",
    "|     location|             97.0869109947644| user's location|\n",
    "| registration|             97.0869109947644|not sure what this is. Might be the timestamp of when user registered.|\n",
    "|    userAgent|             97.0869109947644| user's browser|\n",
    "|       artist|            79.61884816753927|artist of the song played|\n",
    "|       length|            79.61884816753927|length of played song|\n",
    "|         song|            79.61884816753927|title of the song played|\n",
    "\n",
    "\n"
   ]
  },
  {
   "cell_type": "markdown",
   "metadata": {},
   "source": [
    "Are there userIds for which we do not have information about name, gender aso?"
   ]
  },
  {
   "cell_type": "code",
   "execution_count": 11,
   "metadata": {},
   "outputs": [
    {
     "name": "stderr",
     "output_type": "stream",
     "text": [
      "23/11/07 14:04:21 WARN SparkSession: Using an existing Spark session; only runtime SQL configurations will take effect.\n"
     ]
    },
    {
     "name": "stdout",
     "output_type": "stream",
     "text": [
      "+------+\n",
      "|userId|\n",
      "+------+\n",
      "|      |\n",
      "+------+\n",
      "\n"
     ]
    }
   ],
   "source": [
    "from pyspark.sql.functions import col, count, when\n",
    "\n",
    "# Initialize a Spark session\n",
    "spark = SparkSession.builder.appName(\"FindUsersWithMissingInfo\").getOrCreate()\n",
    "\n",
    "# Assuming your DataFrame is named df\n",
    "result = df.groupBy(\"userId\") \\\n",
    "    .agg(\n",
    "        count(when(col(\"gender\").isNotNull(), 1)).alias(\"gender_count\"),\n",
    "        count(when(col(\"lastName\").isNotNull(), 1)).alias(\"lastName_count\"),\n",
    "        count(when(col(\"location\").isNotNull(), 1)).alias(\"location_count\")\n",
    "    ) \\\n",
    "    .filter((col(\"gender_count\") == 0 ) | (col(\"lastName_count\") == 0) | (col(\"location_count\") == 0)) \\\n",
    "    .select(\"userId\")\n",
    "\n",
    "result.show()"
   ]
  },
  {
   "cell_type": "markdown",
   "metadata": {},
   "source": [
    "So, looks like user information is complete for all userIds!"
   ]
  },
  {
   "cell_type": "markdown",
   "metadata": {},
   "source": [
    "We will at least need userId, sessionId and also page (representing our events) for all further evaluations, so let us first check and clean on them.\n",
    "#### Clean on userId, page and sessionId\n",
    "drop all rows where we have no sessionId or page"
   ]
  },
  {
   "cell_type": "code",
   "execution_count": 12,
   "metadata": {},
   "outputs": [],
   "source": [
    "df_clean = df.dropna(how = \"any\", subset = [ \"sessionId\", \"page\"])"
   ]
  },
  {
   "cell_type": "markdown",
   "metadata": {},
   "source": [
    "Now let us have a deeper llook at the actual values, starting with userId."
   ]
  },
  {
   "cell_type": "code",
   "execution_count": 13,
   "metadata": {},
   "outputs": [
    {
     "name": "stdout",
     "output_type": "stream",
     "text": [
      "+-------+-----------------+\n",
      "|summary|           userId|\n",
      "+-------+-----------------+\n",
      "|  count|           286500|\n",
      "|   mean|59682.02278593872|\n",
      "| stddev|109091.9499991047|\n",
      "|    min|                 |\n",
      "|    max|               99|\n",
      "+-------+-----------------+\n",
      "\n"
     ]
    }
   ],
   "source": [
    "df_clean.describe(\"userId\").show()"
   ]
  },
  {
   "cell_type": "markdown",
   "metadata": {},
   "source": [
    "As we already observed before there is at least one strange value for the userId in our dataset. We will remove this also.\n"
   ]
  },
  {
   "cell_type": "code",
   "execution_count": 14,
   "metadata": {},
   "outputs": [],
   "source": [
    "df_clean = df_clean.filter(df_clean[\"userId\"] != \"\")"
   ]
  },
  {
   "cell_type": "markdown",
   "metadata": {},
   "source": [
    "So we had some userIds which contain only empty string. What about the sessionIds?"
   ]
  },
  {
   "cell_type": "code",
   "execution_count": 15,
   "metadata": {},
   "outputs": [
    {
     "name": "stdout",
     "output_type": "stream",
     "text": [
      "+-------+------------------+\n",
      "|summary|         sessionId|\n",
      "+-------+------------------+\n",
      "|  count|            278154|\n",
      "|   mean|1042.5616241362698|\n",
      "| stddev| 726.5010362219813|\n",
      "|    min|                 1|\n",
      "|    max|              2474|\n",
      "+-------+------------------+\n",
      "\n"
     ]
    }
   ],
   "source": [
    "df_clean.describe(\"sessionId\").show()"
   ]
  },
  {
   "cell_type": "code",
   "execution_count": 16,
   "metadata": {},
   "outputs": [
    {
     "name": "stdout",
     "output_type": "stream",
     "text": [
      "+---------+\n",
      "|sessionId|\n",
      "+---------+\n",
      "|        1|\n",
      "|        2|\n",
      "|        3|\n",
      "|        4|\n",
      "|        5|\n",
      "+---------+\n",
      "only showing top 5 rows\n",
      "\n"
     ]
    }
   ],
   "source": [
    "df_clean.select(\"sessionId\").dropDuplicates().sort(\"sessionId\").show(5)"
   ]
  },
  {
   "cell_type": "code",
   "execution_count": 17,
   "metadata": {},
   "outputs": [
    {
     "name": "stdout",
     "output_type": "stream",
     "text": [
      "+---------+\n",
      "|sessionId|\n",
      "+---------+\n",
      "|     2474|\n",
      "|     2464|\n",
      "|     2459|\n",
      "|     2446|\n",
      "|     2444|\n",
      "+---------+\n",
      "only showing top 5 rows\n",
      "\n"
     ]
    }
   ],
   "source": [
    "df_clean.select(\"sessionId\").dropDuplicates().sort(desc(\"sessionId\")).show(5)"
   ]
  },
  {
   "cell_type": "markdown",
   "metadata": {},
   "source": [
    "In this dataset we seem to have perfect sessionId data."
   ]
  },
  {
   "cell_type": "code",
   "execution_count": 18,
   "metadata": {},
   "outputs": [
    {
     "data": {
      "text/plain": [
       "278154"
      ]
     },
     "execution_count": 18,
     "metadata": {},
     "output_type": "execute_result"
    }
   ],
   "source": [
    "df_clean.count()"
   ]
  },
  {
   "cell_type": "markdown",
   "metadata": {},
   "source": [
    "#### Function to clean the dataset\n",
    "All the above cleaning can also be performed at once with below funtion. This we may use in a later pipeline."
   ]
  },
  {
   "cell_type": "code",
   "execution_count": 19,
   "metadata": {},
   "outputs": [],
   "source": [
    "def clean_data(df):\n",
    "    '''Removes rows with no usable userId, sessionId or page.    \n",
    "        Args:\n",
    "            df: a Pyspark dataframe           \n",
    "        Returns:\n",
    "            df with unusable rows removed\n",
    "    '''\n",
    "    df_clean = df.dropna(how = \"any\", subset = [\"userId\", \"sessionId\", \"page\"])\n",
    "    df_clean = df_clean.filter(df_clean[\"userId\"] != \"\")\n",
    "    return df_clean"
   ]
  },
  {
   "cell_type": "markdown",
   "metadata": {},
   "source": [
    "# Exploratory Data Analysis\n",
    "Define additional attributes to show downgrades and churns. Also add an attribute phase to be able to follow the user lifecycle. These attributes are used to get a better understanding of the data. "
   ]
  },
  {
   "cell_type": "markdown",
   "metadata": {},
   "source": [
    "## Pages\n",
    "How many different pages do we have within the data?"
   ]
  },
  {
   "cell_type": "code",
   "execution_count": 20,
   "metadata": {},
   "outputs": [
    {
     "name": "stdout",
     "output_type": "stream",
     "text": [
      "+--------------------+\n",
      "|                page|\n",
      "+--------------------+\n",
      "|               About|\n",
      "|          Add Friend|\n",
      "|     Add to Playlist|\n",
      "|              Cancel|\n",
      "|Cancellation Conf...|\n",
      "|           Downgrade|\n",
      "|               Error|\n",
      "|                Help|\n",
      "|                Home|\n",
      "|              Logout|\n",
      "|            NextSong|\n",
      "|         Roll Advert|\n",
      "|       Save Settings|\n",
      "|            Settings|\n",
      "|    Submit Downgrade|\n",
      "|      Submit Upgrade|\n",
      "|         Thumbs Down|\n",
      "|           Thumbs Up|\n",
      "|             Upgrade|\n",
      "+--------------------+\n",
      "\n"
     ]
    }
   ],
   "source": [
    "df_clean.select(\"page\").dropDuplicates().sort(\"page\").show()"
   ]
  },
  {
   "cell_type": "markdown",
   "metadata": {},
   "source": [
    "## Downgrade and Churn\n",
    "Let's add additional columns to our dataset describing the downgrade \"Submit Downgrade\" and churn \"Cancellation Confirmation\" events. "
   ]
  },
  {
   "cell_type": "markdown",
   "metadata": {},
   "source": [
    "We will recognize downgrade events on the \"Submit Downgrade\" page.\n",
    "An actual churn is recognized on the \"Cancellation Confirmed\" page.\n"
   ]
  },
  {
   "cell_type": "code",
   "execution_count": 21,
   "metadata": {},
   "outputs": [],
   "source": [
    "DOWNGRADE_EVENT = 'Submit Downgrade'\n",
    "CHURN_EVENT = 'Cancellation Confirmation'"
   ]
  },
  {
   "cell_type": "code",
   "execution_count": 22,
   "metadata": {},
   "outputs": [
    {
     "name": "stdout",
     "output_type": "stream",
     "text": [
      "############################################################\n",
      "# Submit Downgrade event\n",
      "############################################################\n",
      "+------+---------+---------+------+-------------+--------+------+-----+--------------------+------+----------------+-------------+---------+----+------+-------------+--------------------+------+\n",
      "|artist|     auth|firstName|gender|itemInSession|lastName|length|level|            location|method|            page| registration|sessionId|song|status|           ts|           userAgent|userId|\n",
      "+------+---------+---------+------+-------------+--------+------+-----+--------------------+------+----------------+-------------+---------+----+------+-------------+--------------------+------+\n",
      "|  null|Logged In|     Kael|     M|           47|   Baker|  null| paid|Kingsport-Bristol...|   PUT|Submit Downgrade|1533102330000|      249|null|   307|1538393619000|\"Mozilla/5.0 (Mac...|   131|\n",
      "|  null|Logged In|   Calvin|     M|           17|Marshall|  null| paid|      Pittsburgh, PA|   PUT|Submit Downgrade|1537120757000|      313|null|   307|1538516445000|\"Mozilla/5.0 (Mac...|    38|\n",
      "|  null|Logged In|  Kaylenn|     F|          354| Jenkins|  null| paid|           Price, UT|   PUT|Submit Downgrade|1535903878000|      479|null|   307|1538835479000|\"Mozilla/5.0 (Mac...|   141|\n",
      "|  null|Logged In|    Colin|     M|          214| Freeman|  null| paid|     Bakersfield, CA|   PUT|Submit Downgrade|1538173362000|      532|null|   307|1538995454000|Mozilla/5.0 (Wind...|    30|\n",
      "|  null|Logged In|  Destiny|     F|            2| Herring|  null| paid|Miami-Fort Lauder...|   PUT|Submit Downgrade|1536844410000|      378|null|   307|1538997356000|\"Mozilla/5.0 (Win...|    20|\n",
      "+------+---------+---------+------+-------------+--------+------+-----+--------------------+------+----------------+-------------+---------+----+------+-------------+--------------------+------+\n",
      "only showing top 5 rows\n",
      "\n",
      "############################################################\n",
      "# Cancellation Confirmation event\n",
      "############################################################\n",
      "+------+---------+---------+------+-------------+--------+------+-----+--------------------+------+--------------------+-------------+---------+----+------+-------------+--------------------+------+\n",
      "|artist|     auth|firstName|gender|itemInSession|lastName|length|level|            location|method|                page| registration|sessionId|song|status|           ts|           userAgent|userId|\n",
      "+------+---------+---------+------+-------------+--------+------+-----+--------------------+------+--------------------+-------------+---------+----+------+-------------+--------------------+------+\n",
      "|  null|Cancelled|   Adriel|     M|          104| Mendoza|  null| paid|  Kansas City, MO-KS|   GET|Cancellation Conf...|1535623466000|      514|null|   200|1538943990000|\"Mozilla/5.0 (Mac...|    18|\n",
      "|  null|Cancelled|    Diego|     M|           56|   Mckee|  null| paid|Phoenix-Mesa-Scot...|   GET|Cancellation Conf...|1537167593000|      540|null|   200|1539033046000|\"Mozilla/5.0 (iPh...|    32|\n",
      "|  null|Cancelled|    Mason|     M|           10|    Hart|  null| free|  Corpus Christi, TX|   GET|Cancellation Conf...|1533157139000|      174|null|   200|1539318918000|\"Mozilla/5.0 (Mac...|   125|\n",
      "|  null|Cancelled|Alexander|     M|          332|  Garcia|  null| paid|Indianapolis-Carm...|   GET|Cancellation Conf...|1536817381000|      508|null|   200|1539375441000|Mozilla/5.0 (Wind...|   105|\n",
      "|  null|Cancelled|    Kayla|     F|          273| Johnson|  null| paid|Philadelphia-Camd...|   GET|Cancellation Conf...|1538333829000|      797|null|   200|1539465584000|Mozilla/5.0 (Wind...|    17|\n",
      "+------+---------+---------+------+-------------+--------+------+-----+--------------------+------+--------------------+-------------+---------+----+------+-------------+--------------------+------+\n",
      "only showing top 5 rows\n",
      "\n"
     ]
    }
   ],
   "source": [
    "events = [DOWNGRADE_EVENT, CHURN_EVENT]\n",
    "for event in events:\n",
    "    print('############################################################')\n",
    "    print(f'# {event} event')\n",
    "    print('############################################################')\n",
    "    df_clean.filter(f\"page = '{event}'\").show(5)"
   ]
  },
  {
   "cell_type": "markdown",
   "metadata": {},
   "source": [
    "Now we will add flags to these."
   ]
  },
  {
   "cell_type": "code",
   "execution_count": 23,
   "metadata": {},
   "outputs": [],
   "source": [
    "# udfs to return the flag\n",
    "flag_downgrade_event = udf(lambda x: 1 if x == DOWNGRADE_EVENT else 0, IntegerType())\n",
    "flag_churn_event = udf(lambda x: 2 if x == CHURN_EVENT else 0, IntegerType())"
   ]
  },
  {
   "cell_type": "code",
   "execution_count": 24,
   "metadata": {},
   "outputs": [],
   "source": [
    "# add the columns for the flags\n",
    "enhanced_df = df_clean.withColumn(\"downgraded\", flag_downgrade_event(\"page\")).\\\n",
    "withColumn(\"churned\", flag_churn_event(\"page\"))"
   ]
  },
  {
   "cell_type": "code",
   "execution_count": 25,
   "metadata": {},
   "outputs": [
    {
     "data": {
      "text/plain": [
       "[Row(artist='Martha Tilston', auth='Logged In', firstName='Colin', gender='M', itemInSession=50, lastName='Freeman', length=277.89016, level='paid', location='Bakersfield, CA', method='PUT', page='NextSong', registration=1538173362000, sessionId=29, song='Rockpools', status=200, ts=1538352117000, userAgent='Mozilla/5.0 (Windows NT 6.1; WOW64; rv:31.0) Gecko/20100101 Firefox/31.0', userId='30', downgraded=0, churned=0),\n",
       " Row(artist='Five Iron Frenzy', auth='Logged In', firstName='Micah', gender='M', itemInSession=79, lastName='Long', length=236.09424, level='free', location='Boston-Cambridge-Newton, MA-NH', method='PUT', page='NextSong', registration=1538331630000, sessionId=8, song='Canada', status=200, ts=1538352180000, userAgent='\"Mozilla/5.0 (Windows NT 6.1; WOW64) AppleWebKit/537.36 (KHTML, like Gecko) Chrome/37.0.2062.103 Safari/537.36\"', userId='9', downgraded=0, churned=0),\n",
       " Row(artist='Adam Lambert', auth='Logged In', firstName='Colin', gender='M', itemInSession=51, lastName='Freeman', length=282.8273, level='paid', location='Bakersfield, CA', method='PUT', page='NextSong', registration=1538173362000, sessionId=29, song='Time For Miracles', status=200, ts=1538352394000, userAgent='Mozilla/5.0 (Windows NT 6.1; WOW64; rv:31.0) Gecko/20100101 Firefox/31.0', userId='30', downgraded=0, churned=0),\n",
       " Row(artist='Enigma', auth='Logged In', firstName='Micah', gender='M', itemInSession=80, lastName='Long', length=262.71302, level='free', location='Boston-Cambridge-Newton, MA-NH', method='PUT', page='NextSong', registration=1538331630000, sessionId=8, song='Knocking On Forbidden Doors', status=200, ts=1538352416000, userAgent='\"Mozilla/5.0 (Windows NT 6.1; WOW64) AppleWebKit/537.36 (KHTML, like Gecko) Chrome/37.0.2062.103 Safari/537.36\"', userId='9', downgraded=0, churned=0),\n",
       " Row(artist='Daft Punk', auth='Logged In', firstName='Colin', gender='M', itemInSession=52, lastName='Freeman', length=223.60771, level='paid', location='Bakersfield, CA', method='PUT', page='NextSong', registration=1538173362000, sessionId=29, song='Harder Better Faster Stronger', status=200, ts=1538352676000, userAgent='Mozilla/5.0 (Windows NT 6.1; WOW64; rv:31.0) Gecko/20100101 Firefox/31.0', userId='30', downgraded=0, churned=0)]"
      ]
     },
     "execution_count": 25,
     "metadata": {},
     "output_type": "execute_result"
    }
   ],
   "source": [
    "enhanced_df.head(5)"
   ]
  },
  {
   "cell_type": "markdown",
   "metadata": {},
   "source": [
    "#### Plausibility check of the flags\n",
    "Let us have a look at one user who downgraded and cancelled the subscription. Does the data with the added flags look fine?\n",
    "To check this we will also introduce an addition \"phase\" column and use a window partitioned by\"userId\" and sorted by timestamp \"ts\""
   ]
  },
  {
   "cell_type": "code",
   "execution_count": 26,
   "metadata": {},
   "outputs": [],
   "source": [
    "windowval = Window.partitionBy(\"userId\").orderBy(asc(\"ts\")).rangeBetween(Window.unboundedPreceding, 0)\n",
    "# thisline of code is creating a window specification for a PySpark program. \n",
    "# This window specification defines a window that is partitioned by the \"userId\" column, \n",
    "#   ordered within each partition by the \"ts\" column in descending order, \n",
    "#   and includes all rows from the start of the partition up to and including the current row."
   ]
  },
  {
   "cell_type": "code",
   "execution_count": 27,
   "metadata": {},
   "outputs": [],
   "source": [
    "# user_log_valid = enhanced_df.withColumn(\"phase\", Fsum(\"churned\").over(windowval))\n",
    "enhanced_df = enhanced_df.withColumn(\"phase\", Fsum(col(\"downgraded\")).over(windowval) + Fsum(col(\"churned\")).over(windowval))"
   ]
  },
  {
   "cell_type": "code",
   "execution_count": 28,
   "metadata": {},
   "outputs": [],
   "source": [
    "# chech this for one user\n",
    "filtered_df = enhanced_df.select([\"userId\", \"firstname\", \"ts\", \"page\", \"level\", \"downgraded\", \"churned\", \"phase\"]).where(enhanced_df.userId == \"103\").sort(\"ts\")\n",
    "# filtered_df.collect()"
   ]
  },
  {
   "cell_type": "code",
   "execution_count": 29,
   "metadata": {},
   "outputs": [],
   "source": [
    "# Write the DataFrame to a CSV file\n",
    "# filtered_df.write.json(\"filtered_df.json\")"
   ]
  },
  {
   "cell_type": "code",
   "execution_count": 30,
   "metadata": {},
   "outputs": [
    {
     "name": "stdout",
     "output_type": "stream",
     "text": [
      "+------+---------+-------------+-----------+-----+----------+-------+-----+\n",
      "|userId|firstname|           ts|       page|level|downgraded|churned|phase|\n",
      "+------+---------+-------------+-----------+-----+----------+-------+-----+\n",
      "|   103|    Piper|1538648520000|   NextSong| free|         0|      0|    0|\n",
      "|   103|    Piper|1538648521000|  Thumbs Up| free|         0|      0|    0|\n",
      "|   103|    Piper|1538648734000|   NextSong| free|         0|      0|    0|\n",
      "|   103|    Piper|1538648970000|   NextSong| free|         0|      0|    0|\n",
      "|   103|    Piper|1538649234000|   NextSong| free|         0|      0|    0|\n",
      "|   103|    Piper|1538649398000|   NextSong| free|         0|      0|    0|\n",
      "|   103|    Piper|1538649610000|   NextSong| free|         0|      0|    0|\n",
      "|   103|    Piper|1538649723000|Roll Advert| free|         0|      0|    0|\n",
      "|   103|    Piper|1538649839000|Roll Advert| free|         0|      0|    0|\n",
      "|   103|    Piper|1538655313000|   NextSong| free|         0|      0|    0|\n",
      "|   103|    Piper|1538655545000|   NextSong| free|         0|      0|    0|\n",
      "|   103|    Piper|1538655587000|    Upgrade| free|         0|      0|    0|\n",
      "|   103|    Piper|1538655619000|    Upgrade| free|         0|      0|    0|\n",
      "|   103|    Piper|1538655772000|   NextSong| free|         0|      0|    0|\n",
      "|   103|    Piper|1538656010000|   NextSong| free|         0|      0|    0|\n",
      "|   103|    Piper|1538656393000|   NextSong| free|         0|      0|    0|\n",
      "|   103|    Piper|1538656569000|   NextSong| free|         0|      0|    0|\n",
      "|   103|    Piper|1538977855000|       Home| free|         0|      0|    0|\n",
      "|   103|    Piper|1538977857000|   NextSong| free|         0|      0|    0|\n",
      "|   103|    Piper|1538977858000|  Thumbs Up| free|         0|      0|    0|\n",
      "+------+---------+-------------+-----------+-----+----------+-------+-----+\n",
      "only showing top 20 rows\n",
      "\n"
     ]
    }
   ],
   "source": [
    "filtered_df.filter(filtered_df.userId == '103').show()"
   ]
  },
  {
   "cell_type": "markdown",
   "metadata": {},
   "source": [
    "We can see, we have now three phases visible within our data. \n",
    "* Phase 0: user is not downgraded\n",
    "* Phase 1: user downgraded\n",
    "* Phase 3: user churned\n",
    "\n",
    "```\n",
    "{\"userId\":\"103\",\"firstname\":\"Piper\",\"ts\":1538648520000,\"page\":\"NextSong\",\"level\":\"free\",\"downgraded\":0,\"churned\":0,\"phase\":0}\n",
    "{\"userId\":\"103\",\"firstname\":\"Piper\",\"ts\":1538648521000,\"page\":\"Thumbs Up\",\"level\":\"free\",\"downgraded\":0,\"churned\":0,\"phase\":0}\n",
    "{\"userId\":\"103\",\"firstname\":\"Piper\",\"ts\":1538648734000,\"page\":\"NextSong\",\"level\":\"free\",\"downgraded\":0,\"churned\":0,\"phase\":0}\n",
    "...\n",
    "{\"userId\":\"103\",\"firstname\":\"Piper\",\"ts\":1539647784000,\"page\":\"Downgrade\",\"level\":\"paid\",\"downgraded\":0,\"churned\":0,\"phase\":0}\n",
    "{\"userId\":\"103\",\"firstname\":\"Piper\",\"ts\":1539647785000,\"page\":\"Submit Downgrade\",\"level\":\"paid\",\"downgraded\":1,\"churned\":0,\"phase\":1}\n",
    "{\"userId\":\"103\",\"firstname\":\"Piper\",\"ts\":1539647788000,\"page\":\"Home\",\"level\":\"free\",\"downgraded\":0,\"churned\":0,\"phase\":1}\n",
    "...\n",
    "{\"userId\":\"103\",\"firstname\":\"Piper\",\"ts\":1541340075000,\"page\":\"Downgrade\",\"level\":\"paid\",\"downgraded\":0,\"churned\":0,\"phase\":1}\n",
    "{\"userId\":\"103\",\"firstname\":\"Piper\",\"ts\":1541340076000,\"page\":\"Cancel\",\"level\":\"paid\",\"downgraded\":0,\"churned\":0,\"phase\":1}\n",
    "{\"userId\":\"103\",\"firstname\":\"Piper\",\"ts\":1541340091000,\"page\":\"Cancellation Confirmation\",\"level\":\"paid\",\"downgraded\":0,\"churned\":2,\"phase\":3}\n",
    "```\n",
    "\n",
    "Complete data for this user can be seen [here](./filtered_df.json/part-00000-b450db16-a53c-498f-b838-2c8f1ac0d810-c000.json). "
   ]
  },
  {
   "cell_type": "markdown",
   "metadata": {},
   "source": [
    "#### Function to add churn and downgrade cols to the dataset\n",
    "We'll put the adding of the flags again into a function which then maybe used in a later pipeline."
   ]
  },
  {
   "cell_type": "code",
   "execution_count": 31,
   "metadata": {},
   "outputs": [],
   "source": [
    "def add_churn_and_downgrade_and_phase_cols(df):\n",
    "    '''Adds additional columns for downgrade and churn events and also the phase in user lifecyle to our dataset\n",
    "    \n",
    "        Args:\n",
    "            df: a Pyspark dataframe\n",
    "            \n",
    "        Returns:\n",
    "            same df but with three additional columns for \n",
    "            downgraded: with value 1 if this a downgrade event, \n",
    "            churned: with value 2 if this is a churned event, \n",
    "            phase: which is sum of churned and downgrade to indicat phase in user lifecycle and \n",
    "            user_churned: which is always true if there is one churned entry for this user (so if user finally churned) \n",
    "    '''\n",
    "    # udfs to return the flags for downgrade and chunk\n",
    "    flag_downgrade_event = udf(lambda x: 1 if x == DOWNGRADE_EVENT else 0, IntegerType())\n",
    "    flag_churn_event = udf(lambda x: 2 if x == CHURN_EVENT else 0, IntegerType())\n",
    "\n",
    "    # add downgraded and churned columns\n",
    "    enhanced_df = df.withColumn(\"downgraded\", flag_downgrade_event(\"page\")).\\\n",
    "    withColumn(\"churned\", flag_churn_event(\"page\"))\n",
    "\n",
    "    # add also phase column \n",
    "    windowval = Window.partitionBy(\"userId\").orderBy(asc(\"ts\")).rangeBetween(Window.unboundedPreceding, 0)\n",
    "    # user_log_valid = enhanced_df.withColumn(\"phase\", Fsum(\"churned\").over(windowval))\n",
    "    enhanced_df = enhanced_df.withColumn(\"phase\", Fsum(col(\"downgraded\")).over(windowval) + Fsum(col(\"churned\")).over(windowval))\n",
    "\n",
    "    # Create a new column \"user_churned\" which is True if there is any \"churned\" column with value 1 for that user\n",
    "    window_spec = Window.partitionBy(\"userId\")\n",
    "    final_df = enhanced_df.withColumn(\"user_churned\", expr(\"max(churned) over (partition by userId) = 2\"))\n",
    "\n",
    "    return enhanced_df\n",
    "    "
   ]
  },
  {
   "cell_type": "markdown",
   "metadata": {},
   "source": [
    "#### user_churned flag\n",
    "I also want to have one column user_churned which is true if there is a churned value (2) for that user. That way we will have the information if that user finally did churn on every line of the log entries."
   ]
  },
  {
   "cell_type": "code",
   "execution_count": 32,
   "metadata": {},
   "outputs": [
    {
     "name": "stderr",
     "output_type": "stream",
     "text": [
      "[Stage 145:>                                                        (0 + 1) / 1]\r"
     ]
    },
    {
     "name": "stdout",
     "output_type": "stream",
     "text": [
      "+--------------------+---------+---------+------+-------------+--------+---------+-----+----------+------+----------+-------------+---------+--------------------+------+-------------+--------------------+------+----------+-------+-----+------------+\n",
      "|              artist|     auth|firstName|gender|itemInSession|lastName|   length|level|  location|method|      page| registration|sessionId|                song|status|           ts|           userAgent|userId|downgraded|churned|phase|user_churned|\n",
      "+--------------------+---------+---------+------+-------------+--------+---------+-----+----------+------+----------+-------------+---------+--------------------+------+-------------+--------------------+------+----------+-------+-----+------------+\n",
      "|            Sea Wolf|Logged In|   Brycen|     M|            0| Bradley|265.53424| paid|Laurel, MS|   PUT|  NextSong|1538159495000|        9|       Ses Monuments|   200|1538965220000|\"Mozilla/5.0 (Mac...|    10|         0|      0|    0|       false|\n",
      "|George Baker Sele...|Logged In|   Brycen|     M|            1| Bradley| 200.4371| paid|Laurel, MS|   PUT|  NextSong|1538159495000|        9|         Morning Sky|   200|1538965485000|\"Mozilla/5.0 (Mac...|    10|         0|      0|    0|       false|\n",
      "|          Klaus Lage|Logged In|   Brycen|     M|            2| Bradley|208.03873| paid|Laurel, MS|   PUT|  NextSong|1538159495000|        9|Du Hast'n Freund ...|   200|1538965685000|\"Mozilla/5.0 (Mac...|    10|         0|      0|    0|       false|\n",
      "|         Dave Grusin|Logged In|   Brycen|     M|            3| Bradley|526.44526| paid|Laurel, MS|   PUT|  NextSong|1538159495000|        9|             Playera|   200|1538965893000|\"Mozilla/5.0 (Mac...|    10|         0|      0|    0|       false|\n",
      "|    Blue Oyster Cult|Logged In|   Brycen|     M|            4| Bradley|272.06485| paid|Laurel, MS|   PUT|  NextSong|1538159495000|        9|     Burnin' For You|   200|1538966419000|\"Mozilla/5.0 (Mac...|    10|         0|      0|    0|       false|\n",
      "|           Lifehouse|Logged In|   Brycen|     M|            5| Bradley|207.01995| paid|Laurel, MS|   PUT|  NextSong|1538159495000|        9|      Sky Is Falling|   200|1538966691000|\"Mozilla/5.0 (Mac...|    10|         0|      0|    0|       false|\n",
      "|Camper Van Beethoven|Logged In|   Brycen|     M|            6| Bradley|106.31791| paid|Laurel, MS|   PUT|  NextSong|1538159495000|        9|      Skinhead Stomp|   200|1538966898000|\"Mozilla/5.0 (Mac...|    10|         0|      0|    0|       false|\n",
      "|                null|Logged In|   Brycen|     M|            7| Bradley|     null| paid|Laurel, MS|   PUT| Thumbs Up|1538159495000|        9|                null|   307|1538966899000|\"Mozilla/5.0 (Mac...|    10|         0|      0|    0|       false|\n",
      "|       Dwight Yoakam|Logged In|   Brycen|     M|            8| Bradley| 239.3073| paid|Laurel, MS|   PUT|  NextSong|1538159495000|        9|      You're The One|   200|1538967004000|\"Mozilla/5.0 (Mac...|    10|         0|      0|    0|       false|\n",
      "|   Matthew Good Band|Logged In|   Brycen|     M|            9| Bradley|264.85506| paid|Laurel, MS|   PUT|  NextSong|1538159495000|        9|        Strange Days|   200|1538967243000|\"Mozilla/5.0 (Mac...|    10|         0|      0|    0|       false|\n",
      "|       Robert Palmer|Logged In|   Brycen|     M|           10| Bradley|363.41506| paid|Laurel, MS|   PUT|  NextSong|1538159495000|        9|    Addicted To Love|   200|1538967507000|\"Mozilla/5.0 (Mac...|    10|         0|      0|    0|       false|\n",
      "|                null|Logged In|   Brycen|     M|           11| Bradley|     null| paid|Laurel, MS|   PUT|Add Friend|1538159495000|        9|                null|   307|1538967508000|\"Mozilla/5.0 (Mac...|    10|         0|      0|    0|       false|\n",
      "|                null|Logged In|   Brycen|     M|           12| Bradley|     null| paid|Laurel, MS|   PUT|Add Friend|1538159495000|        9|                null|   307|1538967509000|\"Mozilla/5.0 (Mac...|    10|         0|      0|    0|       false|\n",
      "|       Beach Fossils|Logged In|   Brycen|     M|           13| Bradley|240.01261| paid|Laurel, MS|   PUT|  NextSong|1538159495000|        9|         Desert Sand|   200|1538967870000|\"Mozilla/5.0 (Mac...|    10|         0|      0|    0|       false|\n",
      "|             MoZella|Logged In|   Brycen|     M|           14| Bradley|206.96771| paid|Laurel, MS|   PUT|  NextSong|1538159495000|        9|Amnesia (Album Ve...|   200|1538968110000|\"Mozilla/5.0 (Mac...|    10|         0|      0|    0|       false|\n",
      "|                null|Logged In|   Brycen|     M|           15| Bradley|     null| paid|Laurel, MS|   PUT| Thumbs Up|1538159495000|        9|                null|   307|1538968111000|\"Mozilla/5.0 (Mac...|    10|         0|      0|    0|       false|\n",
      "|      Chuck Mangione|Logged In|   Brycen|     M|           16| Bradley|432.84853| paid|Laurel, MS|   PUT|  NextSong|1538159495000|        9|       Fun And Games|   200|1538968316000|\"Mozilla/5.0 (Mac...|    10|         0|      0|    0|       false|\n",
      "|             Shakira|Logged In|   Brycen|     M|           17| Bradley|159.05914| paid|Laurel, MS|   PUT|  NextSong|1538159495000|        9|            La Pared|   200|1538968748000|\"Mozilla/5.0 (Mac...|    10|         0|      0|    0|       false|\n",
      "|             Flobots|Logged In|   Brycen|     M|           18| Bradley|233.35138| paid|Laurel, MS|   PUT|  NextSong|1538159495000|        9|The Rhythm Method...|   200|1538968907000|\"Mozilla/5.0 (Mac...|    10|         0|      0|    0|       false|\n",
      "|     The Temper Trap|Logged In|   Brycen|     M|           19| Bradley|222.53669| paid|Laurel, MS|   PUT|  NextSong|1538159495000|        9|                Rest|   200|1538969140000|\"Mozilla/5.0 (Mac...|    10|         0|      0|    0|       false|\n",
      "+--------------------+---------+---------+------+-------------+--------+---------+-----+----------+------+----------+-------------+---------+--------------------+------+-------------+--------------------+------+----------+-------+-----+------------+\n",
      "only showing top 20 rows\n",
      "\n"
     ]
    },
    {
     "name": "stderr",
     "output_type": "stream",
     "text": [
      "                                                                                \r"
     ]
    }
   ],
   "source": [
    "from pyspark.sql.functions import expr as expr\n",
    "# Define a window specification for user-level operations\n",
    "window_spec = Window.partitionBy(\"userId\")\n",
    "\n",
    "# Create a new column \"user_churned\" which is True if there is any \"churned\" column with value 1 for that user\n",
    "final_df = enhanced_df.withColumn(\"user_churned\", expr(\"max(churned) over (partition by userId) = 2\"))\n",
    "\n",
    "# Show the DataFrame with the \"user_churned\" column\n",
    "final_df.show()\n"
   ]
  },
  {
   "cell_type": "code",
   "execution_count": 33,
   "metadata": {},
   "outputs": [
    {
     "name": "stdout",
     "output_type": "stream",
     "text": [
      "+--------------------+---------+---------+------+-------------+--------+---------+-----+--------------------+------+-----------+-------------+---------+--------------------+------+-------------+--------------------+------+----------+-------+-----+------------+\n",
      "|              artist|     auth|firstName|gender|itemInSession|lastName|   length|level|            location|method|       page| registration|sessionId|                song|status|           ts|           userAgent|userId|downgraded|churned|phase|user_churned|\n",
      "+--------------------+---------+---------+------+-------------+--------+---------+-----+--------------------+------+-----------+-------------+---------+--------------------+------+-------------+--------------------+------+----------+-------+-----+------------+\n",
      "|       Avril Lavigne|Logged In|    Piper|     F|            0| Nielsen|214.15138| free|New York-Newark-J...|   PUT|   NextSong|1537699856000|      102|               Alice|   200|1538648520000|\"Mozilla/5.0 (Mac...|   103|         0|      0|    0|        true|\n",
      "|                null|Logged In|    Piper|     F|            1| Nielsen|     null| free|New York-Newark-J...|   PUT|  Thumbs Up|1537699856000|      102|                null|   307|1538648521000|\"Mozilla/5.0 (Mac...|   103|         0|      0|    0|        true|\n",
      "|        Eddie Vedder|Logged In|    Piper|     F|            2| Nielsen|236.30322| free|New York-Newark-J...|   PUT|   NextSong|1537699856000|      102|             Society|   200|1538648734000|\"Mozilla/5.0 (Mac...|   103|         0|      0|    0|        true|\n",
      "|         Jeremy Camp|Logged In|    Piper|     F|            3| Nielsen|264.54159| free|New York-Newark-J...|   PUT|   NextSong|1537699856000|      102|       Give Me Jesus|   200|1538648970000|\"Mozilla/5.0 (Mac...|   103|         0|      0|    0|        true|\n",
      "|         Die Prinzen|Logged In|    Piper|     F|            4| Nielsen|164.70159| free|New York-Newark-J...|   PUT|   NextSong|1537699856000|      102|Was soll ich ihr ...|   200|1538649234000|\"Mozilla/5.0 (Mac...|   103|         0|      0|    0|        true|\n",
      "|       Joe Bonamassa|Logged In|    Piper|     F|            5| Nielsen|212.24444| free|New York-Newark-J...|   PUT|   NextSong|1537699856000|      102|   Never Say Goodbye|   200|1538649398000|\"Mozilla/5.0 (Mac...|   103|         0|      0|    0|        true|\n",
      "|    Jane's Addiction|Logged In|    Piper|     F|            6| Nielsen|253.77914| free|New York-Newark-J...|   PUT|   NextSong|1537699856000|      102|Stop (2006 Remast...|   200|1538649610000|\"Mozilla/5.0 (Mac...|   103|         0|      0|    0|        true|\n",
      "|                null|Logged In|    Piper|     F|            7| Nielsen|     null| free|New York-Newark-J...|   GET|Roll Advert|1537699856000|      102|                null|   200|1538649723000|\"Mozilla/5.0 (Mac...|   103|         0|      0|    0|        true|\n",
      "|                null|Logged In|    Piper|     F|            8| Nielsen|     null| free|New York-Newark-J...|   GET|Roll Advert|1537699856000|      102|                null|   200|1538649839000|\"Mozilla/5.0 (Mac...|   103|         0|      0|    0|        true|\n",
      "|Mark Ronson featu...|Logged In|    Piper|     F|            0| Nielsen|232.95955| free|New York-Newark-J...|   PUT|   NextSong|1537699856000|      441|             Stop Me|   200|1538655313000|\"Mozilla/5.0 (Mac...|   103|         0|      0|    0|        true|\n",
      "|  Charttraxx Karaoke|Logged In|    Piper|     F|            1| Nielsen|227.65669| free|New York-Newark-J...|   PUT|   NextSong|1537699856000|      441|           Jailbreak|   200|1538655545000|\"Mozilla/5.0 (Mac...|   103|         0|      0|    0|        true|\n",
      "|                null|Logged In|    Piper|     F|            2| Nielsen|     null| free|New York-Newark-J...|   GET|    Upgrade|1537699856000|      441|                null|   200|1538655587000|\"Mozilla/5.0 (Mac...|   103|         0|      0|    0|        true|\n",
      "|                null|Logged In|    Piper|     F|            3| Nielsen|     null| free|New York-Newark-J...|   GET|    Upgrade|1537699856000|      441|                null|   200|1538655619000|\"Mozilla/5.0 (Mac...|   103|         0|      0|    0|        true|\n",
      "|          Kanye West|Logged In|    Piper|     F|            4| Nielsen|238.73261| free|New York-Newark-J...|   PUT|   NextSong|1537699856000|      441|            Bad News|   200|1538655772000|\"Mozilla/5.0 (Mac...|   103|         0|      0|    0|        true|\n",
      "|        Bill Withers|Logged In|    Piper|     F|            5| Nielsen|383.73832| free|New York-Newark-J...|   PUT|   NextSong|1537699856000|      441|Make Love To Your...|   200|1538656010000|\"Mozilla/5.0 (Mac...|   103|         0|      0|    0|        true|\n",
      "|Florence + The Ma...|Logged In|    Piper|     F|            6| Nielsen|176.69179| free|New York-Newark-J...|   PUT|   NextSong|1537699856000|      441|My Boy Builds Cof...|   200|1538656393000|\"Mozilla/5.0 (Mac...|   103|         0|      0|    0|        true|\n",
      "|        Zapp & Roger|Logged In|    Piper|     F|            7| Nielsen|215.84934| free|New York-Newark-J...|   PUT|   NextSong|1537699856000|      441|    So Ruff_ So Tuff|   200|1538656569000|\"Mozilla/5.0 (Mac...|   103|         0|      0|    0|        true|\n",
      "|                null|Logged In|    Piper|     F|            0| Nielsen|     null| free|New York-Newark-J...|   GET|       Home|1537699856000|      448|                null|   200|1538977855000|\"Mozilla/5.0 (Mac...|   103|         0|      0|    0|        true|\n",
      "|  Charttraxx Karaoke|Logged In|    Piper|     F|            1| Nielsen|225.17506| free|New York-Newark-J...|   PUT|   NextSong|1537699856000|      448|           Fireflies|   200|1538977857000|\"Mozilla/5.0 (Mac...|   103|         0|      0|    0|        true|\n",
      "|                null|Logged In|    Piper|     F|            2| Nielsen|     null| free|New York-Newark-J...|   PUT|  Thumbs Up|1537699856000|      448|                null|   307|1538977858000|\"Mozilla/5.0 (Mac...|   103|         0|      0|    0|        true|\n",
      "+--------------------+---------+---------+------+-------------+--------+---------+-----+--------------------+------+-----------+-------------+---------+--------------------+------+-------------+--------------------+------+----------+-------+-----+------------+\n",
      "only showing top 20 rows\n",
      "\n"
     ]
    }
   ],
   "source": [
    "final_df.filter(final_df.userId==103).show()"
   ]
  },
  {
   "cell_type": "markdown",
   "metadata": {},
   "source": [
    "show some churned entries"
   ]
  },
  {
   "cell_type": "code",
   "execution_count": 34,
   "metadata": {},
   "outputs": [
    {
     "name": "stderr",
     "output_type": "stream",
     "text": [
      "[Stage 151:>                                                        (0 + 1) / 1]\r"
     ]
    },
    {
     "name": "stdout",
     "output_type": "stream",
     "text": [
      "+--------------------+---------+---------+------+-------------+--------+---------+-----+--------------------+------+-----------+-------------+---------+--------------------+------+-------------+--------------------+------+----------+-------+-----+------------+\n",
      "|              artist|     auth|firstName|gender|itemInSession|lastName|   length|level|            location|method|       page| registration|sessionId|                song|status|           ts|           userAgent|userId|downgraded|churned|phase|user_churned|\n",
      "+--------------------+---------+---------+------+-------------+--------+---------+-----+--------------------+------+-----------+-------------+---------+--------------------+------+-------------+--------------------+------+----------+-------+-----+------------+\n",
      "|                null|Logged In|  Delaney|     F|            0|   Perez|     null| free|Miami-Fort Lauder...|   GET|       Home|1534627466000|        1|                null|   200|1538376504000|\"Mozilla/5.0 (Mac...|100001|         0|      0|    0|        true|\n",
      "|Lady GaGa / Colby...|Logged In|  Delaney|     F|            1|   Perez|238.54975| free|Miami-Fort Lauder...|   PUT|   NextSong|1534627466000|        1|          Just Dance|   200|1538376509000|\"Mozilla/5.0 (Mac...|100001|         0|      0|    0|        true|\n",
      "|                null|Logged In|  Delaney|     F|            2|   Perez|     null| free|Miami-Fort Lauder...|   GET|Roll Advert|1534627466000|        1|                null|   200|1538376542000|\"Mozilla/5.0 (Mac...|100001|         0|      0|    0|        true|\n",
      "|            Gorillaz|Logged In|  Delaney|     F|            3|   Perez|602.17424| free|Miami-Fort Lauder...|   PUT|   NextSong|1534627466000|        1|Kids With Guns (Q...|   200|1538376747000|\"Mozilla/5.0 (Mac...|100001|         0|      0|    0|        true|\n",
      "|                null|Logged In|  Delaney|     F|            4|   Perez|     null| free|Miami-Fort Lauder...|   GET|Roll Advert|1534627466000|        1|                null|   200|1538376783000|\"Mozilla/5.0 (Mac...|100001|         0|      0|    0|        true|\n",
      "|          Far Corner|Logged In|  Delaney|     F|            5|   Perez|  399.882| free|Miami-Fort Lauder...|   PUT|   NextSong|1534627466000|        1|Do You Think I'm ...|   200|1538377349000|\"Mozilla/5.0 (Mac...|100001|         0|      0|    0|        true|\n",
      "|    The Replacements|Logged In|  Delaney|     F|            6|   Perez|184.60689| free|Miami-Fort Lauder...|   PUT|   NextSong|1534627466000|        1|Can't Hardly Wait...|   200|1538377748000|\"Mozilla/5.0 (Mac...|100001|         0|      0|    0|        true|\n",
      "|            Pendulum|Logged In|  Delaney|     F|            7|   Perez|313.86077| free|Miami-Fort Lauder...|   PUT|   NextSong|1534627466000|        1|  Propane Nightmares|   200|1538377932000|\"Mozilla/5.0 (Mac...|100001|         0|      0|    0|        true|\n",
      "|        Tyrone Wells|Logged In|  Delaney|     F|            8|   Perez|238.65424| free|Miami-Fort Lauder...|   PUT|   NextSong|1534627466000|        1|             Falling|   200|1538378245000|\"Mozilla/5.0 (Mac...|100001|         0|      0|    0|        true|\n",
      "|        3 Doors Down|Logged In|  Delaney|     F|            9|   Perez|204.32934| free|Miami-Fort Lauder...|   PUT|   NextSong|1534627466000|        1|             Runaway|   200|1538378483000|\"Mozilla/5.0 (Mac...|100001|         0|      0|    0|        true|\n",
      "|    The Afghan Whigs|Logged In|  Delaney|     F|           10|   Perez|190.82404| free|Miami-Fort Lauder...|   PUT|   NextSong|1534627466000|        1|            My Enemy|   200|1538378687000|\"Mozilla/5.0 (Mac...|100001|         0|      0|    0|        true|\n",
      "|             Misfits|Logged In|  Delaney|     F|           11|   Perez|164.46649| free|Miami-Fort Lauder...|   PUT|   NextSong|1534627466000|        1|Rise Above (Live)...|   200|1538378877000|\"Mozilla/5.0 (Mac...|100001|         0|      0|    0|        true|\n",
      "|     Jimmy Eat World|Logged In|  Delaney|     F|           12|   Perez|166.00771| free|Miami-Fort Lauder...|   PUT|   NextSong|1534627466000|        1|          The Middle|   200|1538379041000|\"Mozilla/5.0 (Mac...|100001|         0|      0|    0|        true|\n",
      "| Rihanna / Sean Paul|Logged In|  Delaney|     F|           13|   Perez|213.34159| free|Miami-Fort Lauder...|   PUT|   NextSong|1534627466000|        1|        Break It Off|   200|1538379207000|\"Mozilla/5.0 (Mac...|100001|         0|      0|    0|        true|\n",
      "|                null|Logged In|  Delaney|     F|           14|   Perez|     null| free|Miami-Fort Lauder...|   GET|Roll Advert|1534627466000|        1|                null|   200|1538379230000|\"Mozilla/5.0 (Mac...|100001|         0|      0|    0|        true|\n",
      "|           LL Cool J|Logged In|  Delaney|     F|           15|   Perez|248.68526| free|Miami-Fort Lauder...|   PUT|   NextSong|1534627466000|        1| Around The Way Girl|   200|1538379420000|\"Mozilla/5.0 (Mac...|100001|         0|      0|    0|        true|\n",
      "|          Basshunter|Logged In|  Delaney|     F|           16|   Perez|332.69506| free|Miami-Fort Lauder...|   PUT|   NextSong|1534627466000|        1|   All I Ever Wanted|   200|1538379668000|\"Mozilla/5.0 (Mac...|100001|         0|      0|    0|        true|\n",
      "|         Mad Caddies|Logged In|  Delaney|     F|           17|   Perez|179.80036| free|Miami-Fort Lauder...|   PUT|   NextSong|1534627466000|        1|              Leavin|   200|1538380000000|\"Mozilla/5.0 (Mac...|100001|         0|      0|    0|        true|\n",
      "|         DevilDriver|Logged In|  Delaney|     F|           18|   Perez|302.31465| free|Miami-Fort Lauder...|   PUT|   NextSong|1534627466000|        1|End Of The Line (...|   200|1538380179000|\"Mozilla/5.0 (Mac...|100001|         0|      0|    0|        true|\n",
      "|                null|Logged In|  Delaney|     F|           19|   Perez|     null| free|Miami-Fort Lauder...|   PUT|     Logout|1534627466000|        1|                null|   307|1538380180000|\"Mozilla/5.0 (Mac...|100001|         0|      0|    0|        true|\n",
      "+--------------------+---------+---------+------+-------------+--------+---------+-----+--------------------+------+-----------+-------------+---------+--------------------+------+-------------+--------------------+------+----------+-------+-----+------------+\n",
      "only showing top 20 rows\n",
      "\n"
     ]
    },
    {
     "name": "stderr",
     "output_type": "stream",
     "text": [
      "                                                                                \r"
     ]
    }
   ],
   "source": [
    "# Filter the DataFrame to show only entries where user_churned is True\n",
    "final_df.filter(final_df.user_churned == True).show()\n"
   ]
  },
  {
   "cell_type": "markdown",
   "metadata": {},
   "source": [
    "## Some statistic of churned vs not churned users "
   ]
  },
  {
   "cell_type": "code",
   "execution_count": 35,
   "metadata": {},
   "outputs": [
    {
     "data": {
      "image/png": "[encoded data removed]",
      "text/plain": [
       "<Figure size 800x600 with 1 Axes>"
      ]
     },
     "metadata": {},
     "output_type": "display_data"
    }
   ],
   "source": [
    "\n",
    "# Group by 'churned' and 'gender', and count the number of users in each group\n",
    "grouped_data = final_df.groupBy(\"user_churned\", \"gender\").count()\n",
    "\n",
    "\n",
    "# Convert the grouped data to a Pandas DataFrame\n",
    "grouped_data_pd = grouped_data.toPandas()\n",
    "\n",
    "# Calculate the percentage of each gender within each group\n",
    "total_counts = grouped_data_pd.groupby(\"user_churned\")[\"count\"].transform(\"sum\")\n",
    "grouped_data_pd[\"percentage\"] = (grouped_data_pd[\"count\"] / total_counts) * 100\n",
    "\n",
    "# Create a box plot based on percentages\n",
    "plt.figure(figsize=(8, 6))\n",
    "sns.boxplot(data=grouped_data_pd, x=\"user_churned\", y=\"percentage\", hue=\"gender\")\n",
    "plt.title(\"Gender Distribution of Churned vs. Not Churned Users (Percentage)\")\n",
    "plt.xlabel(\"Churned\")\n",
    "plt.ylabel(\"Percentage\")\n",
    "plt.show()"
   ]
  },
  {
   "cell_type": "markdown",
   "metadata": {},
   "source": [
    "A bar diagramm might be more suitable to show the gender related differences."
   ]
  },
  {
   "cell_type": "code",
   "execution_count": 36,
   "metadata": {},
   "outputs": [
    {
     "data": {
      "image/png": "[encoded data removed]",
      "text/plain": [
       "<Figure size 800x600 with 1 Axes>"
      ]
     },
     "metadata": {},
     "output_type": "display_data"
    }
   ],
   "source": [
    "# Group by 'user_churned' and 'gender', and calculate the percentages\n",
    "grouped_data = final_df.groupBy(\"user_churned\", \"gender\").count()\n",
    "total_counts = grouped_data.groupBy(\"user_churned\").sum(\"count\").withColumnRenamed(\"sum(count)\", \"total_count\")\n",
    "grouped_data = grouped_data.join(total_counts, on=\"user_churned\")\n",
    "grouped_data = grouped_data.withColumn(\"percentage\", (grouped_data[\"count\"] / grouped_data[\"total_count\"]) * 100)\n",
    "\n",
    "# Convert the grouped data to a Pandas DataFrame\n",
    "grouped_data_pd = grouped_data.toPandas()\n",
    "\n",
    "# Create a bar plot based on percentages\n",
    "plt.figure(figsize=(8, 6))\n",
    "sns.barplot(data=grouped_data_pd, x=\"user_churned\", y=\"percentage\", hue=\"gender\")\n",
    "plt.title(\"Gender Distribution of Churned vs. Not Churned Users (Percentage)\")\n",
    "plt.xlabel(\"Churned\")\n",
    "plt.ylabel(\"Percentage\")\n",
    "plt.show()\n"
   ]
  },
  {
   "cell_type": "markdown",
   "metadata": {},
   "source": [
    "So it looks like there is at least some relation between the gender and churning."
   ]
  },
  {
   "cell_type": "code",
   "execution_count": 37,
   "metadata": {},
   "outputs": [
    {
     "name": "stderr",
     "output_type": "stream",
     "text": [
      "                                                                                \r"
     ]
    },
    {
     "data": {
      "text/plain": [
       "<Figure size 1200x600 with 0 Axes>"
      ]
     },
     "metadata": {},
     "output_type": "display_data"
    },
    {
     "data": {
      "image/png": "[encoded data removed]",
      "text/plain": [
       "<Figure size 640x480 with 1 Axes>"
      ]
     },
     "metadata": {},
     "output_type": "display_data"
    }
   ],
   "source": [
    "# Group by 'user_churned' and 'location', and count the number of users in each group\n",
    "grouped_data = final_df.groupBy(\"user_churned\", \"location\").count()\n",
    "\n",
    "# Calculate the total count for each location\n",
    "total_counts = grouped_data.groupBy(\"location\").agg(Fsum(\"count\").alias(\"total_count\"))\n",
    "\n",
    "# Get the top 4 most frequent locations\n",
    "top_4_locations = total_counts.orderBy(desc(\"total_count\")).limit(4)\n",
    "\n",
    "# Filter the grouped data to include only the top 4 locations\n",
    "filtered_grouped_data = grouped_data.join(top_4_locations, \"location\")\n",
    "\n",
    "# Calculate the percentage of each location within each group\n",
    "window_spec = Window.partitionBy(filtered_grouped_data['user_churned'])\n",
    "filtered_grouped_data = filtered_grouped_data.withColumn(\"percentage\", (filtered_grouped_data[\"count\"] / filtered_grouped_data[\"total_count\"]) * 100)\n",
    "\n",
    "# Pivot the DataFrame to create separate columns for each location\n",
    "pivot_data = filtered_grouped_data.groupBy(\"user_churned\").pivot(\"location\").agg(first(\"percentage\"))\n",
    "\n",
    "# Convert the pivot data to a Pandas DataFrame\n",
    "pivot_data_pd = pivot_data.toPandas()\n",
    "\n",
    "# Create a bar plot\n",
    "plt.figure(figsize=(12, 6))\n",
    "pivot_data_pd.plot(kind=\"bar\", x=\"user_churned\", stacked=True)\n",
    "plt.title(\"Location Distribution of Churned vs. Not Churned Users (Percentage) - Top 4 Locations\")\n",
    "plt.xlabel(\"Churned\")\n",
    "plt.ylabel(\"Percentage\")\n",
    "plt.legend(title=\"Location\", loc=\"upper right\")\n",
    "plt.show()\n",
    "\n"
   ]
  },
  {
   "cell_type": "markdown",
   "metadata": {},
   "source": [
    "For locations there seems to be also a relation to churning."
   ]
  },
  {
   "cell_type": "markdown",
   "metadata": {},
   "source": [
    "## Statistics about page visits\n",
    "We want to get an impression about how the visits to different pages are distributed between churned/not churned users."
   ]
  },
  {
   "cell_type": "code",
   "execution_count": 38,
   "metadata": {},
   "outputs": [
    {
     "name": "stdout",
     "output_type": "stream",
     "text": [
      "['About', 'Add Friend', 'Add to Playlist', 'Cancel', 'Cancellation Confirmation', 'Downgrade', 'Error', 'Help', 'Home', 'Logout', 'NextSong', 'Roll Advert', 'Save Settings', 'Settings', 'Submit Downgrade', 'Submit Upgrade', 'Thumbs Down', 'Thumbs Up', 'Upgrade']\n"
     ]
    }
   ],
   "source": [
    "# get unique page values\n",
    "unique_pages = sorted(final_df.select(\"page\").distinct().rdd.map(lambda row: row.page).collect())\n",
    "\n",
    "# Show the list of unique page entries\n",
    "print(unique_pages)"
   ]
  },
  {
   "cell_type": "code",
   "execution_count": 39,
   "metadata": {},
   "outputs": [
    {
     "name": "stdout",
     "output_type": "stream",
     "text": [
      "+------------+-----+\n",
      "|user_churned|count|\n",
      "+------------+-----+\n",
      "|        true|   52|\n",
      "|       false|  173|\n",
      "+------------+-----+\n",
      "\n"
     ]
    }
   ],
   "source": [
    "# get total number of churned/not churned users\n",
    "# Drop duplicate rows based on 'userId' to ensure unique user counts\n",
    "unique_user_df = final_df.dropDuplicates([\"userId\", \"user_churned\"])\n",
    "\n",
    "# Group by 'user_churned' and count the number of unique users in each group\n",
    "user_counts = unique_user_df.groupBy(\"user_churned\").count()\n",
    "\n",
    "# Show the result\n",
    "user_counts.show()\n"
   ]
  },
  {
   "cell_type": "code",
   "execution_count": 40,
   "metadata": {},
   "outputs": [
    {
     "name": "stdout",
     "output_type": "stream",
     "text": [
      "churned_users: 52, not_churned_users: 173\n"
     ]
    }
   ],
   "source": [
    "churned_users = user_counts.filter(user_counts['user_churned']==True).select('count').collect()[0][0]\n",
    "not_churned_users = user_counts.filter(user_counts['user_churned']==False).select('count').collect()[0][0]\n",
    "print(f'churned_users: {churned_users}, not_churned_users: {not_churned_users}')"
   ]
  },
  {
   "cell_type": "code",
   "execution_count": 41,
   "metadata": {},
   "outputs": [],
   "source": [
    "# Group the data by 'user_churned' and 'page', and count the visits\n",
    "grouped_data = final_df.groupBy(\"user_churned\", \"page\").count()\n",
    "\n",
    "avg_data = grouped_data.groupBy(\"user_churned\", \"page\").avg(\"count\")\n",
    "\n",
    "# Convert the result to a Pandas DataFrame\n",
    "avg_data_pd = avg_data.toPandas()\n",
    "\n",
    "churned_data = avg_data_pd[avg_data_pd[\"user_churned\"] == True]\n",
    "not_churned_data = avg_data_pd[avg_data_pd[\"user_churned\"] == False]"
   ]
  },
  {
   "cell_type": "code",
   "execution_count": 42,
   "metadata": {},
   "outputs": [
    {
     "name": "stderr",
     "output_type": "stream",
     "text": [
      "/tmp/ipykernel_15019/3972187269.py:2: SettingWithCopyWarning: \n",
      "A value is trying to be set on a copy of a slice from a DataFrame.\n",
      "Try using .loc[row_indexer,col_indexer] = value instead\n",
      "\n",
      "See the caveats in the documentation: https://pandas.pydata.org/pandas-docs/stable/user_guide/indexing.html#returning-a-view-versus-a-copy\n",
      "  churned_data['relative_count'] = churned_data['avg(count)'] / churned_users\n",
      "/tmp/ipykernel_15019/3972187269.py:3: SettingWithCopyWarning: \n",
      "A value is trying to be set on a copy of a slice from a DataFrame.\n",
      "Try using .loc[row_indexer,col_indexer] = value instead\n",
      "\n",
      "See the caveats in the documentation: https://pandas.pydata.org/pandas-docs/stable/user_guide/indexing.html#returning-a-view-versus-a-copy\n",
      "  not_churned_data['relative_count'] =  not_churned_data['avg(count)'] / not_churned_users\n"
     ]
    }
   ],
   "source": [
    "# Divide the \"avg(count)\" by the total count for each group\n",
    "churned_data['relative_count'] = churned_data['avg(count)'] / churned_users\n",
    "not_churned_data['relative_count'] =  not_churned_data['avg(count)'] / not_churned_users\n"
   ]
  },
  {
   "cell_type": "code",
   "execution_count": 43,
   "metadata": {},
   "outputs": [
    {
     "name": "stdout",
     "output_type": "stream",
     "text": [
      "    user_churned                       page  avg(count)  relative_count\n",
      "0           True                      About        56.0        1.076923\n",
      "1           True                 Add Friend       636.0       12.230769\n",
      "2           True            Add to Playlist      1038.0       19.961538\n",
      "3           True                     Cancel        52.0        1.000000\n",
      "4           True  Cancellation Confirmation        52.0        1.000000\n",
      "5           True                  Downgrade       337.0        6.480769\n",
      "6           True                      Error        32.0        0.615385\n",
      "7           True                       Help       239.0        4.596154\n",
      "8           True                       Home      1672.0       32.153846\n",
      "9           True                     Logout       553.0       10.634615\n",
      "10          True                   NextSong     36394.0      699.884615\n",
      "11          True                Roll Advert       967.0       18.596154\n",
      "12          True              Save Settings        58.0        1.115385\n",
      "13          True                   Settings       270.0        5.192308\n",
      "14          True           Submit Downgrade         9.0        0.173077\n",
      "15          True             Submit Upgrade        32.0        0.615385\n",
      "16          True                Thumbs Down       496.0        9.538462\n",
      "17          True                  Thumbs Up      1859.0       35.750000\n",
      "18          True                    Upgrade       112.0        2.153846\n"
     ]
    }
   ],
   "source": [
    "# Sort the DataFrame by the 'page' column\n",
    "churned_data = churned_data.sort_values(by='page')\n",
    "\n",
    "# Reset the index of the sorted DataFrame\n",
    "churned_data.reset_index(drop=True, inplace=True)\n",
    "\n",
    "# Display the sorted DataFrame\n",
    "print(churned_data)\n"
   ]
  },
  {
   "cell_type": "code",
   "execution_count": 44,
   "metadata": {},
   "outputs": [
    {
     "name": "stdout",
     "output_type": "stream",
     "text": [
      "    user_churned              page  avg(count)  relative_count\n",
      "0           True             About        56.0        1.076923\n",
      "1           True        Add Friend       636.0       12.230769\n",
      "2           True   Add to Playlist      1038.0       19.961538\n",
      "3           True         Downgrade       337.0        6.480769\n",
      "4           True             Error        32.0        0.615385\n",
      "5           True              Help       239.0        4.596154\n",
      "6           True              Home      1672.0       32.153846\n",
      "7           True            Logout       553.0       10.634615\n",
      "8           True          NextSong     36394.0      699.884615\n",
      "9           True       Roll Advert       967.0       18.596154\n",
      "10          True     Save Settings        58.0        1.115385\n",
      "11          True          Settings       270.0        5.192308\n",
      "12          True  Submit Downgrade         9.0        0.173077\n",
      "13          True    Submit Upgrade        32.0        0.615385\n",
      "14          True       Thumbs Down       496.0        9.538462\n",
      "15          True         Thumbs Up      1859.0       35.750000\n",
      "16          True           Upgrade       112.0        2.153846\n"
     ]
    }
   ],
   "source": [
    "# only the churned users have visited the \"cancel\" and \"cancellation confirmation\" pages. Let us remove these from our df.\n",
    "# Use boolean indexing to filter out rows with 'page' value 'Cancel' or 'Cancellation Confirmation'\n",
    "churned_data = churned_data[~churned_data['page'].isin(['Cancel', 'Cancellation Confirmation'])]\n",
    "\n",
    "# Reset the index of the filtered DataFrame\n",
    "churned_data.reset_index(drop=True, inplace=True)\n",
    "\n",
    "# Display the filtered DataFrame\n",
    "print(churned_data)"
   ]
  },
  {
   "cell_type": "code",
   "execution_count": 45,
   "metadata": {},
   "outputs": [
    {
     "name": "stdout",
     "output_type": "stream",
     "text": [
      "    user_churned              page  avg(count)  relative_count\n",
      "0          False             About       439.0        2.537572\n",
      "1          False        Add Friend      3641.0       21.046243\n",
      "2          False   Add to Playlist      5488.0       31.722543\n",
      "3          False         Downgrade      1718.0        9.930636\n",
      "4          False             Error       220.0        1.271676\n",
      "5          False              Help      1215.0        7.023121\n",
      "6          False              Home      8410.0       48.612717\n",
      "7          False            Logout      2673.0       15.450867\n",
      "8          False          NextSong    191714.0     1108.173410\n",
      "9          False       Roll Advert      2966.0       17.144509\n",
      "10         False     Save Settings       252.0        1.456647\n",
      "11         False          Settings      1244.0        7.190751\n",
      "12         False  Submit Downgrade        54.0        0.312139\n",
      "13         False    Submit Upgrade       127.0        0.734104\n",
      "14         False       Thumbs Down      2050.0       11.849711\n",
      "15         False         Thumbs Up     10692.0       61.803468\n",
      "16         False           Upgrade       387.0        2.236994\n"
     ]
    }
   ],
   "source": [
    "\n",
    "# Sort the DataFrame by the 'page' column\n",
    "not_churned_data = not_churned_data.sort_values(by='page')\n",
    "\n",
    "# Reset the index of the sorted DataFrame\n",
    "not_churned_data.reset_index(drop=True, inplace=True)\n",
    "\n",
    "# Display the sorted DataFrame\n",
    "print(not_churned_data)"
   ]
  },
  {
   "cell_type": "code",
   "execution_count": 46,
   "metadata": {},
   "outputs": [
    {
     "data": {
      "image/png": "[encoded data removed]",
      "text/plain": [
       "<Figure size 1000x600 with 1 Axes>"
      ]
     },
     "metadata": {},
     "output_type": "display_data"
    }
   ],
   "source": [
    "# Draw diagramm to show different page usage for churned/not churned users\n",
    "combined_df = pd.concat([churned_data, not_churned_data])\n",
    "\n",
    "# Create a bar plot\n",
    "plt.figure(figsize=(10, 6))\n",
    "sns.barplot(x=\"user_churned\", y=\"relative_count\", data=combined_df, hue=\"page\")\n",
    "\n",
    "# Set labels and title\n",
    "plt.xlabel(\"User Churned\")\n",
    "plt.ylabel(\"Relative Count\")\n",
    "plt.title(\"Relative Count by User Churned Group\")\n",
    "\n",
    "# Rotate x-axis labels for better readability\n",
    "plt.xticks(rotation=45)\n",
    "\n",
    "# Show the plot\n",
    "plt.show()\n",
    "\n"
   ]
  },
  {
   "cell_type": "code",
   "execution_count": 47,
   "metadata": {},
   "outputs": [
    {
     "data": {
      "image/png": "[encoded data removed]",
      "text/plain": [
       "<Figure size 1200x600 with 1 Axes>"
      ]
     },
     "metadata": {},
     "output_type": "display_data"
    }
   ],
   "source": [
    "# Combine the two dataframes\n",
    "combined_df = pd.concat([churned_data, not_churned_data])\n",
    "\n",
    "# Create a grouped bar plot\n",
    "plt.figure(figsize=(12, 6))\n",
    "sns.barplot(x=\"page\", y=\"relative_count\", data=combined_df, hue=\"user_churned\")\n",
    "\n",
    "# Set labels and title\n",
    "plt.xlabel(\"Page\")\n",
    "plt.ylabel(\"Relative Count\")\n",
    "plt.title(\"Relative Count by Page and User Churned Group\")\n",
    "\n",
    "# Rotate x-axis labels for better readability\n",
    "plt.xticks(rotation=45)\n",
    "\n",
    "# Show the plot\n",
    "plt.legend(title=\"User Churned\", loc=\"upper right\")\n",
    "plt.show()\n"
   ]
  },
  {
   "cell_type": "markdown",
   "metadata": {},
   "source": [
    "from this we can assume that visits to \"Add Friend\", \"Add to Playlist\", \"Nextsong\" and \"Thumbs Up\" will have some impact on the prediction of user churns."
   ]
  },
  {
   "cell_type": "markdown",
   "metadata": {},
   "source": [
    "# Feature Engineering"
   ]
  },
  {
   "cell_type": "markdown",
   "metadata": {},
   "source": [
    "We will use some of the attributes from the original dataset as well as newly constructed features.\n",
    "\n",
    "Features from the dataset which might have an impact on quitting behavior might be:\n",
    "* gender - maybe male users are more likely to quit (or maybe female)?\n",
    "* location - maybe rural users are more likely to quit?\n",
    "\n",
    "Additional features that will be derived from the dataset and might be useful:\n",
    "* usage of playlists - are users with only few playlists/playlist entries more likely to quit?\n",
    "* number of friends added - are users with more friends less likely to quit?\n",
    "* songs per day - users which use the service more frequently might be less likely to quit \n",
    "* thumbs up - users which tend to give positive ratings might also be less likely to quit\n",
    "\n"
   ]
  },
  {
   "cell_type": "markdown",
   "metadata": {},
   "source": [
    "## Categorical features from original dataset"
   ]
  },
  {
   "cell_type": "code",
   "execution_count": 48,
   "metadata": {},
   "outputs": [
    {
     "name": "stdout",
     "output_type": "stream",
     "text": [
      "+------+------+--------------------+\n",
      "|userId|gender|            location|\n",
      "+------+------+--------------------+\n",
      "|100021|     M|Dallas-Fort Worth...|\n",
      "|   139|     M|Los Angeles-Long ...|\n",
      "|    41|     F|Manchester-Nashua...|\n",
      "|    72|     F|  Port St. Lucie, FL|\n",
      "|200016|     F|Baltimore-Columbi...|\n",
      "+------+------+--------------------+\n",
      "only showing top 5 rows\n",
      "\n"
     ]
    }
   ],
   "source": [
    "result_df = final_df.select(\"userId\", \"gender\", \"location\").distinct()\n",
    "result_df.show(5)"
   ]
  },
  {
   "cell_type": "markdown",
   "metadata": {},
   "source": [
    "#### Function to extract categorical features"
   ]
  },
  {
   "cell_type": "code",
   "execution_count": 49,
   "metadata": {},
   "outputs": [],
   "source": [
    "def get_df_for_categorical_features(df, cat_feature_names: list):\n",
    "    '''Builds dataframe for categorical feature\n",
    "    \n",
    "        Args:\n",
    "            df: a Pyspark dataframe\n",
    "            cat_feature_names: list of attributes for which categorical features shall be constructed\n",
    "            \n",
    "        Returns:\n",
    "            result_df: a new dataframe with userId as identifier and columns for only the categorical \n",
    "            features from cat_feature_names\n",
    "    '''\n",
    "    \n",
    "    # Create a list of aggregation expressions\n",
    "    agg_exprs = [first(f\"{feature}\").alias(f\"{feature}\") for feature in cat_feature_names]\n",
    "\n",
    "    # Group by \"userId\" and apply the aggregation expressions\n",
    "    result_df = df.groupBy(\"userId\").agg(*agg_exprs)\n",
    "\n",
    "    return result_df\n"
   ]
  },
  {
   "cell_type": "code",
   "execution_count": 50,
   "metadata": {},
   "outputs": [
    {
     "name": "stdout",
     "output_type": "stream",
     "text": [
      "+------+------+--------------------+\n",
      "|userId|gender|            location|\n",
      "+------+------+--------------------+\n",
      "|    10|     M|          Laurel, MS|\n",
      "|   100|     M|Dallas-Fort Worth...|\n",
      "|100001|     F|Miami-Fort Lauder...|\n",
      "|100002|     F|Santa Maria-Santa...|\n",
      "|100003|     F|Miami-Fort Lauder...|\n",
      "|100004|     F|        Syracuse, NY|\n",
      "|100005|     M|          Monroe, LA|\n",
      "|100006|     F|           Flint, MI|\n",
      "|100007|     F|Little Rock-North...|\n",
      "|100008|     F|Los Angeles-Long ...|\n",
      "|100009|     M|San Francisco-Oak...|\n",
      "|100010|     F|Bridgeport-Stamfo...|\n",
      "|100011|     M|          Albany, OR|\n",
      "|100012|     M|Chicago-Napervill...|\n",
      "|100013|     F|Cleveland-Elyria, OH|\n",
      "|100014|     M|New York-Newark-J...|\n",
      "|100015|     F|North Wilkesboro, NC|\n",
      "|100016|     M|    St. Louis, MO-IL|\n",
      "|100017|     M|Birmingham-Hoover...|\n",
      "|100018|     M|Dallas-Fort Worth...|\n",
      "|100019|     M|Spokane-Spokane V...|\n",
      "|100021|     M|Dallas-Fort Worth...|\n",
      "|100022|     F|Houston-The Woodl...|\n",
      "|100023|     M|Greenville-Anders...|\n",
      "|100024|     M|New York-Newark-J...|\n",
      "|100025|     F|New York-Newark-J...|\n",
      "|   101|     M|Denver-Aurora-Lak...|\n",
      "|   102|     M|New York-Newark-J...|\n",
      "|   103|     F|New York-Newark-J...|\n",
      "|   104|     F|        Billings, MT|\n",
      "|   105|     M|Indianapolis-Carm...|\n",
      "|   106|     F|Los Angeles-Long ...|\n",
      "|   107|     F|         Pontiac, IL|\n",
      "|   108|     F|Washington-Arling...|\n",
      "|   109|     F|    St. Louis, MO-IL|\n",
      "|    11|     F|Providence-Warwic...|\n",
      "|   110|     M|Chicago-Napervill...|\n",
      "|   111|     F|Detroit-Warren-De...|\n",
      "|   112|     M|          Muncie, IN|\n",
      "|   113|     F|Charlotte-Concord...|\n",
      "|   114|     M|Las Vegas-Henders...|\n",
      "|   115|     F|Los Angeles-Long ...|\n",
      "|   116|     F|Providence-Warwic...|\n",
      "|   117|     F|Buffalo-Cheektowa...|\n",
      "|   118|     F|New York-Newark-J...|\n",
      "|   119|     F|Charlotte-Concord...|\n",
      "|    12|     F|Los Angeles-Long ...|\n",
      "|   120|     F|   Oklahoma City, OK|\n",
      "|   121|     M|Oxnard-Thousand O...|\n",
      "|   122|     F|   Memphis, TN-MS-AR|\n",
      "|   123|     M|Tampa-St. Petersb...|\n",
      "|   124|     F|Vineland-Bridgeto...|\n",
      "|   125|     M|  Corpus Christi, TX|\n",
      "|   126|     M|New York-Newark-J...|\n",
      "|   127|     F|Dallas-Fort Worth...|\n",
      "|   128|     M|       Fairbanks, AK|\n",
      "|   129|     M|           Flint, MI|\n",
      "|    13|     F|Philadelphia-Camd...|\n",
      "|   131|     M|Kingsport-Bristol...|\n",
      "|   132|     F|Denver-Aurora-Lak...|\n",
      "|   133|     M|San Diego-Carlsba...|\n",
      "|   134|     M|Indianapolis-Carm...|\n",
      "|   135|     F|Las Vegas-Henders...|\n",
      "|   136|     F|Charlotte-Concord...|\n",
      "|   137|     M|New York-Newark-J...|\n",
      "|   138|     M|New York-Newark-J...|\n",
      "|   139|     M|Los Angeles-Long ...|\n",
      "|    14|     M|        Syracuse, NY|\n",
      "|   140|     F|Louisville/Jeffer...|\n",
      "|   141|     F|           Price, UT|\n",
      "|   142|     M|New York-Newark-J...|\n",
      "|   143|     F|Virginia Beach-No...|\n",
      "|   144|     M|      Montgomery, AL|\n",
      "|   145|     F|      Pittsburgh, PA|\n",
      "|   146|     M|Myrtle Beach-Conw...|\n",
      "|   147|     M|Charlotte-Concord...|\n",
      "|   148|     M|Miami-Fort Lauder...|\n",
      "|   149|     M|Dallas-Fort Worth...|\n",
      "|    15|     M|      Morgantown, WV|\n",
      "|   150|     M|Phoenix-Mesa-Scot...|\n",
      "|   151|     M|Washington-Arling...|\n",
      "|   152|     M|Los Angeles-Long ...|\n",
      "|   153|     M|Greensboro-High P...|\n",
      "|   154|     F|New York-Newark-J...|\n",
      "|   155|     F|Boston-Cambridge-...|\n",
      "|   156|     M|Scranton--Wilkes-...|\n",
      "|    16|     F|   Winston-Salem, NC|\n",
      "|    17|     F|Philadelphia-Camd...|\n",
      "|    18|     M|  Kansas City, MO-KS|\n",
      "|    19|     F|          Dayton, OH|\n",
      "|     2|     F|         Raleigh, NC|\n",
      "|    20|     F|Miami-Fort Lauder...|\n",
      "|200001|     M|Washington-Arling...|\n",
      "|200002|     M|Chicago-Napervill...|\n",
      "|200003|     F|Chicago-Napervill...|\n",
      "|200004|     M|    Jacksonville, NC|\n",
      "|200005|     M|Greenville-Anders...|\n",
      "|200006|     F|Los Angeles-Long ...|\n",
      "|200007|     F|New York-Newark-J...|\n",
      "|200008|     F|Charlotte-Concord...|\n",
      "+------+------+--------------------+\n",
      "only showing top 100 rows\n",
      "\n"
     ]
    }
   ],
   "source": [
    "cat_features = get_df_for_categorical_features(final_df, ['gender', 'location'])\n",
    "cat_features.show(100)"
   ]
  },
  {
   "cell_type": "markdown",
   "metadata": {},
   "source": [
    "## Number of playlist entries and number of friends\n",
    "For these we will only need to sum up the according events per userId"
   ]
  },
  {
   "cell_type": "code",
   "execution_count": 51,
   "metadata": {},
   "outputs": [
    {
     "name": "stdout",
     "output_type": "stream",
     "text": [
      "+------+---------------+\n",
      "|userId|Add to Playlist|\n",
      "+------+---------------+\n",
      "|200002|              8|\n",
      "|100010|              7|\n",
      "|   125|              0|\n",
      "|    51|             52|\n",
      "|   124|            118|\n",
      "|     7|              5|\n",
      "|    54|             72|\n",
      "|    15|             59|\n",
      "|   155|             24|\n",
      "|   132|             38|\n",
      "|100014|              7|\n",
      "|   154|              1|\n",
      "|    11|             20|\n",
      "|   101|             61|\n",
      "|   138|             67|\n",
      "|300017|            113|\n",
      "|    29|             89|\n",
      "|100021|              7|\n",
      "|    69|             33|\n",
      "|    42|            104|\n",
      "+------+---------------+\n",
      "only showing top 20 rows\n",
      "\n"
     ]
    }
   ],
   "source": [
    "page_counts = final_df.groupBy(\"userId\", \"page\").agg(count(\"*\").alias(\"count\"))\n",
    "\n",
    "# Pivot the table to have 'page' values as columns\n",
    "pivot_table = page_counts.groupBy(\"userId\").pivot(\"page\").sum(\"count\")\n",
    "\n",
    "# Fill any null values with 0\n",
    "pivot_table = pivot_table.na.fill(0)\n",
    "\n",
    "# Show the resulting DataFrame\n",
    "# pivot_table.show()\n",
    "wanted_cols = ['userId', 'Add to Playlist']\n",
    "\n",
    "pivot_table.select(wanted_cols).show()"
   ]
  },
  {
   "cell_type": "code",
   "execution_count": 52,
   "metadata": {},
   "outputs": [],
   "source": [
    "def df_with_totals_per_user(df, events: list):\n",
    "    '''Builds dataframe for features which contain totals per event\n",
    "    \n",
    "        Args:\n",
    "            df: a Pyspark dataframe\n",
    "            events: list of attributes for which new features shall be constructed\n",
    "            \n",
    "        Returns:\n",
    "            pivot_table: a new dataframe with userId as identifier and columns for the new features \n",
    "    '''\n",
    "    \n",
    "    page_counts = df.groupBy(\"userId\", \"page\").agg(count(\"*\").alias(\"count\"))\n",
    "\n",
    "    # Pivot the table to have 'page' values as columns\n",
    "    pivot_table = page_counts.groupBy(\"userId\").pivot(\"page\").sum(\"count\")\n",
    "\n",
    "    # Fill any null values with 0\n",
    "    pivot_table = pivot_table.na.fill(0)\n",
    "\n",
    "    # Strip all columns but the wanted\n",
    "    events.append('userId')\n",
    "\n",
    "    # Return the resulting DataFrame\n",
    "    return pivot_table.select(events)\n"
   ]
  },
  {
   "cell_type": "code",
   "execution_count": 53,
   "metadata": {},
   "outputs": [
    {
     "name": "stdout",
     "output_type": "stream",
     "text": [
      "+---------------+----------+--------+---------+------+\n",
      "|Add to Playlist|Add Friend|Nextsong|Thumbs Up|userId|\n",
      "+---------------+----------+--------+---------+------+\n",
      "|              8|         4|     387|       21|200002|\n",
      "|              7|         4|     275|       17|100010|\n",
      "|              0|         0|       8|        0|   125|\n",
      "|             52|        28|    2111|      100|    51|\n",
      "|            118|        74|    4079|      171|   124|\n",
      "|              5|         1|     150|        7|     7|\n",
      "|             72|        33|    2841|      163|    54|\n",
      "|             59|        31|    1914|       81|    15|\n",
      "|             24|        11|     820|       58|   155|\n",
      "|             38|        41|    1928|       96|   132|\n",
      "|              7|         6|     257|       17|100014|\n",
      "|              1|         3|      84|       11|   154|\n",
      "|             20|         6|     647|       40|    11|\n",
      "|             61|        29|    1797|       86|   101|\n",
      "|             67|        41|    2070|       95|   138|\n",
      "|            113|        63|    3632|      303|300017|\n",
      "|             89|        47|    3028|      154|    29|\n",
      "|              7|         7|     230|       11|100021|\n",
      "|             33|        12|    1125|       72|    69|\n",
      "|            104|        52|    3573|      166|    42|\n",
      "+---------------+----------+--------+---------+------+\n",
      "only showing top 20 rows\n",
      "\n"
     ]
    }
   ],
   "source": [
    "totals_df = df_with_totals_per_user(final_df, ['Add to Playlist', 'Add Friend', 'Nextsong', 'Thumbs Up'])\n",
    "totals_df.show()"
   ]
  },
  {
   "cell_type": "markdown",
   "metadata": {},
   "source": [
    "### Events per day\n",
    "to redruce the dataset but to be still able to feed enough information to the trainings I decided to consolidate data per day. To do this I use the timestamp information and create a day entry from it. All events of same type (visits of same page) are consolidated per day that way"
   ]
  },
  {
   "cell_type": "code",
   "execution_count": 54,
   "metadata": {},
   "outputs": [],
   "source": [
    "def df_with_event_sum_per_day_and_user(df, events: list):\n",
    "    '''Builds dataframe for features for sum of event per day\n",
    "       Features are per user and per event to sum up the event per day\n",
    "    \n",
    "        Args:\n",
    "            df: a Pyspark dataframe\n",
    "            events: list of attributes for which new features shall be constructed\n",
    "            \n",
    "        Returns:\n",
    "            pivot_table: a new dataframe with userId as identifier and columns for the new features \n",
    "    '''\n",
    "    \n",
    "    # Add new columns for year, month, and day\n",
    "    df = df.withColumn(\"ts_sec\", df[\"ts\"] / 1000)  # Convert milliseconds to seconds\n",
    "    df = df.withColumn(\"year\", year(df[\"ts_sec\"].cast(\"timestamp\")))\n",
    "    df = df.withColumn(\"month\", month(df[\"ts_sec\"].cast(\"timestamp\")))\n",
    "    df = df.withColumn(\"day\", dayofmonth(df[\"ts_sec\"].cast(\"timestamp\")))\n",
    "    df = df.withColumn(\"year_month\", concat_ws(\"_\", df[\"year\"], df[\"month\"]))\n",
    "    df = df.withColumn(\"year_month_day\", concat_ws(\"_\", df.year, df.month, df.day))\n",
    "\n",
    "    # create new df which aggregates over the different pages (events)\n",
    "    agg_df = df.groupby('userId','year_month_day', 'page').agg(count(\"*\").alias('count'))\n",
    "\n",
    "    # creae pivoted df with columns which contain the total number of events per day per user\n",
    "    pivoted_df = agg_df.groupBy(\"userId\", \"year_month_day\").pivot(\"page\").sum(\"count\")\n",
    "\n",
    "    # Fill null values with 0 and rename columns\n",
    "    pivoted_df = pivoted_df.na.fill(0)\n",
    "    for event in events:\n",
    "        pivoted_df = pivoted_df.withColumnRenamed(event, f\"year_month_day_{event}\")\n",
    "    \n",
    "    # Strip all columns but the wanted\n",
    "    wanted_cols = [f\"year_month_day_{event}\" for event in events]\n",
    "    wanted_cols.extend(['userId', 'year_month_day'])\n",
    "\n",
    "    return pivoted_df.select(wanted_cols)\n",
    "\n",
    "    "
   ]
  },
  {
   "cell_type": "markdown",
   "metadata": {},
   "source": [
    "In first iteration I will only have 'NextSong' events handled that way."
   ]
  },
  {
   "cell_type": "code",
   "execution_count": 55,
   "metadata": {},
   "outputs": [
    {
     "name": "stdout",
     "output_type": "stream",
     "text": [
      "+-----------------------+------+--------------+\n",
      "|year_month_day_NextSong|userId|year_month_day|\n",
      "+-----------------------+------+--------------+\n",
      "|                      6|     8|    2018_11_23|\n",
      "|                    103|    37|    2018_10_29|\n",
      "|                     91|200023|     2018_10_1|\n",
      "|                     14|    34|    2018_11_21|\n",
      "|                    147|300005|    2018_10_11|\n",
      "|                     32|200023|    2018_11_14|\n",
      "|                     20|   141|     2018_10_8|\n",
      "|                     10|   109|     2018_11_5|\n",
      "|                     13|    56|    2018_11_28|\n",
      "|                     25|    66|    2018_10_17|\n",
      "|                     80|200006|    2018_11_22|\n",
      "|                      8|200018|     2018_10_7|\n",
      "|                     28|   118|    2018_11_21|\n",
      "|                     44|    52|    2018_11_28|\n",
      "|                    266|    97|    2018_11_26|\n",
      "|                     33|    40|    2018_10_10|\n",
      "|                     23|   142|    2018_10_20|\n",
      "|                     18|300018|    2018_10_19|\n",
      "|                    146|300017|    2018_10_13|\n",
      "|                     16|    61|    2018_11_24|\n",
      "+-----------------------+------+--------------+\n",
      "only showing top 20 rows\n",
      "\n"
     ]
    }
   ],
   "source": [
    "next_song_event_per_day_df = df_with_event_sum_per_day_and_user(enhanced_df, ['NextSong'])\n",
    "next_song_event_per_day_df.show()"
   ]
  },
  {
   "cell_type": "markdown",
   "metadata": {},
   "source": [
    "## Create now the feature dataset\n",
    "\n",
    "We will here use the above defined functions to create a new dataframe containing all of the features we want to train.\n",
    "To play around and add/remove features the variables below maybe used.\n",
    "* cats_to_include: categorical features from the original dataset\n",
    "* sums_to_include: totals per userId over events from page column of the original dataset\n",
    "* per_day_to_include: features for \"sum per day\" over the events from page column of the original dataset\n",
    "\n"
   ]
  },
  {
   "cell_type": "code",
   "execution_count": 56,
   "metadata": {},
   "outputs": [
    {
     "name": "stderr",
     "output_type": "stream",
     "text": [
      "                                                                                \r"
     ]
    },
    {
     "name": "stdout",
     "output_type": "stream",
     "text": [
      "+------+------+--------------------+---------------+----------+--------+---------+-----------------------+--------------+\n",
      "|userId|gender|            location|Add to Playlist|Add Friend|NextSong|Thumbs Up|year_month_day_NextSong|year_month_day|\n",
      "+------+------+--------------------+---------------+----------+--------+---------+-----------------------+--------------+\n",
      "|200002|     M|Chicago-Napervill...|              8|         4|     387|       21|                      8|    2018_11_16|\n",
      "|200002|     M|Chicago-Napervill...|              8|         4|     387|       21|                     34|    2018_10_16|\n",
      "|200002|     M|Chicago-Napervill...|              8|         4|     387|       21|                    117|    2018_10_18|\n",
      "|200002|     M|Chicago-Napervill...|              8|         4|     387|       21|                      4|     2018_10_1|\n",
      "|200002|     M|Chicago-Napervill...|              8|         4|     387|       21|                     20|     2018_10_2|\n",
      "|200002|     M|Chicago-Napervill...|              8|         4|     387|       21|                     53|    2018_10_23|\n",
      "|200002|     M|Chicago-Napervill...|              8|         4|     387|       21|                     39|    2018_10_22|\n",
      "|200002|     M|Chicago-Napervill...|              8|         4|     387|       21|                    112|    2018_11_15|\n",
      "|100010|     F|Bridgeport-Stamfo...|              7|         4|     275|       17|                     31|     2018_10_8|\n",
      "|100010|     F|Bridgeport-Stamfo...|              7|         4|     275|       17|                     51|     2018_11_5|\n",
      "|100010|     F|Bridgeport-Stamfo...|              7|         4|     275|       17|                     24|    2018_11_21|\n",
      "|100010|     F|Bridgeport-Stamfo...|              7|         4|     275|       17|                     80|     2018_11_9|\n",
      "|100010|     F|Bridgeport-Stamfo...|              7|         4|     275|       17|                     44|    2018_10_20|\n",
      "|100010|     F|Bridgeport-Stamfo...|              7|         4|     275|       17|                     38|    2018_10_16|\n",
      "|100010|     F|Bridgeport-Stamfo...|              7|         4|     275|       17|                      7|    2018_10_15|\n",
      "|   125|     M|  Corpus Christi, TX|              0|         0|       8|        0|                      8|    2018_10_12|\n",
      "|    51|     M|Lexington-Fayette...|             52|        28|    2111|      100|                    150|    2018_10_15|\n",
      "|    51|     M|Lexington-Fayette...|             52|        28|    2111|      100|                     16|     2018_10_4|\n",
      "|    51|     M|Lexington-Fayette...|             52|        28|    2111|      100|                     20|     2018_10_3|\n",
      "|    51|     M|Lexington-Fayette...|             52|        28|    2111|      100|                    209|     2018_10_8|\n",
      "+------+------+--------------------+---------------+----------+--------+---------+-----------------------+--------------+\n",
      "only showing top 20 rows\n",
      "\n"
     ]
    }
   ],
   "source": [
    "cats_to_include = ['gender', 'location']\n",
    "sums_to_include = ['Add to Playlist', 'Add Friend', 'NextSong', 'Thumbs Up']\n",
    "per_day_to_include = ['NextSong']\n",
    "\n",
    "cat_features = get_df_for_categorical_features(enhanced_df, cats_to_include)\n",
    "sum_features = df_with_totals_per_user(enhanced_df, sums_to_include)\n",
    "per_day_features = df_with_event_sum_per_day_and_user(enhanced_df, per_day_to_include)\n",
    "\n",
    "feature_df = cat_features.join(sum_features, on='userId', how='inner')\\\n",
    "    .join(per_day_features, on='userId', how='inner')\n",
    "\n",
    "feature_df.show()"
   ]
  },
  {
   "cell_type": "markdown",
   "metadata": {},
   "source": [
    "## Add the chunked_label\n",
    "We now want to label all userId datasets for which there is a chunked value of 1."
   ]
  },
  {
   "cell_type": "code",
   "execution_count": 57,
   "metadata": {},
   "outputs": [],
   "source": [
    "def label_df(df):\n",
    "    '''Builds the labels (churned/not churned) \n",
    "    \n",
    "        Args:\n",
    "            df: a Pyspark dataframe\n",
    "            \n",
    "        Returns:\n",
    "            label_df: a new dataframe with userId and label churned\n",
    "    '''\n",
    "    # Aggregate the 'chunked' column to check if there's at least one '1' per user\n",
    "    # Then use the 'when' function to create a new 'chunked_label' column\n",
    "    label_df = df.groupBy('userId').agg(max(when(col('churned') >= 1, 1).otherwise(0)).alias('churned_label'))\n",
    "    return label_df"
   ]
  },
  {
   "cell_type": "code",
   "execution_count": 58,
   "metadata": {},
   "outputs": [
    {
     "name": "stdout",
     "output_type": "stream",
     "text": [
      "+------+-------------+\n",
      "|userId|churned_label|\n",
      "+------+-------------+\n",
      "|   125|            1|\n",
      "|    51|            1|\n",
      "|    54|            1|\n",
      "|100014|            1|\n",
      "|   101|            1|\n",
      "+------+-------------+\n",
      "only showing top 5 rows\n",
      "\n"
     ]
    }
   ],
   "source": [
    "label_df = label_df(enhanced_df)\n",
    "# Filter the DataFrame to keep only rows where 'churned_label' is equal to 1\n",
    "filtered_df = label_df.filter(label_df['churned_label'] == 1)\n",
    "\n",
    "# Show the filtered DataFrame\n",
    "filtered_df.show(5)"
   ]
  },
  {
   "cell_type": "markdown",
   "metadata": {},
   "source": [
    "#### Join feature and label dataframes for the training"
   ]
  },
  {
   "cell_type": "code",
   "execution_count": 59,
   "metadata": {},
   "outputs": [],
   "source": [
    "joined_df = feature_df.join(label_df, 'userId', 'inner')"
   ]
  },
  {
   "cell_type": "code",
   "execution_count": 60,
   "metadata": {},
   "outputs": [
    {
     "name": "stderr",
     "output_type": "stream",
     "text": [
      "                                                                                \r"
     ]
    },
    {
     "name": "stdout",
     "output_type": "stream",
     "text": [
      "+------+------+--------------------+---------------+----------+--------+---------+-----------------------+--------------+-------------+\n",
      "|userId|gender|            location|Add to Playlist|Add Friend|NextSong|Thumbs Up|year_month_day_NextSong|year_month_day|churned_label|\n",
      "+------+------+--------------------+---------------+----------+--------+---------+-----------------------+--------------+-------------+\n",
      "|200002|     M|Chicago-Napervill...|              8|         4|     387|       21|                      8|    2018_11_16|            0|\n",
      "|200002|     M|Chicago-Napervill...|              8|         4|     387|       21|                     34|    2018_10_16|            0|\n",
      "|200002|     M|Chicago-Napervill...|              8|         4|     387|       21|                    117|    2018_10_18|            0|\n",
      "|200002|     M|Chicago-Napervill...|              8|         4|     387|       21|                      4|     2018_10_1|            0|\n",
      "|200002|     M|Chicago-Napervill...|              8|         4|     387|       21|                     20|     2018_10_2|            0|\n",
      "|200002|     M|Chicago-Napervill...|              8|         4|     387|       21|                     53|    2018_10_23|            0|\n",
      "|200002|     M|Chicago-Napervill...|              8|         4|     387|       21|                     39|    2018_10_22|            0|\n",
      "|200002|     M|Chicago-Napervill...|              8|         4|     387|       21|                    112|    2018_11_15|            0|\n",
      "|100010|     F|Bridgeport-Stamfo...|              7|         4|     275|       17|                     31|     2018_10_8|            0|\n",
      "|100010|     F|Bridgeport-Stamfo...|              7|         4|     275|       17|                     51|     2018_11_5|            0|\n",
      "|100010|     F|Bridgeport-Stamfo...|              7|         4|     275|       17|                     24|    2018_11_21|            0|\n",
      "|100010|     F|Bridgeport-Stamfo...|              7|         4|     275|       17|                     80|     2018_11_9|            0|\n",
      "|100010|     F|Bridgeport-Stamfo...|              7|         4|     275|       17|                     44|    2018_10_20|            0|\n",
      "|100010|     F|Bridgeport-Stamfo...|              7|         4|     275|       17|                     38|    2018_10_16|            0|\n",
      "|100010|     F|Bridgeport-Stamfo...|              7|         4|     275|       17|                      7|    2018_10_15|            0|\n",
      "|   125|     M|  Corpus Christi, TX|              0|         0|       8|        0|                      8|    2018_10_12|            1|\n",
      "|    51|     M|Lexington-Fayette...|             52|        28|    2111|      100|                    150|    2018_10_15|            1|\n",
      "|    51|     M|Lexington-Fayette...|             52|        28|    2111|      100|                     16|     2018_10_4|            1|\n",
      "|    51|     M|Lexington-Fayette...|             52|        28|    2111|      100|                     20|     2018_10_3|            1|\n",
      "|    51|     M|Lexington-Fayette...|             52|        28|    2111|      100|                    209|     2018_10_8|            1|\n",
      "+------+------+--------------------+---------------+----------+--------+---------+-----------------------+--------------+-------------+\n",
      "only showing top 20 rows\n",
      "\n"
     ]
    }
   ],
   "source": [
    "joined_df.show(20)"
   ]
  },
  {
   "cell_type": "code",
   "execution_count": 61,
   "metadata": {},
   "outputs": [
    {
     "name": "stderr",
     "output_type": "stream",
     "text": [
      "                                                                                \r"
     ]
    },
    {
     "data": {
      "text/plain": [
       "3172"
      ]
     },
     "execution_count": 61,
     "metadata": {},
     "output_type": "execute_result"
    }
   ],
   "source": [
    "joined_df.count()"
   ]
  },
  {
   "cell_type": "code",
   "execution_count": 62,
   "metadata": {},
   "outputs": [
    {
     "data": {
      "text/plain": [
       "pyspark.sql.dataframe.DataFrame"
      ]
     },
     "execution_count": 62,
     "metadata": {},
     "output_type": "execute_result"
    }
   ],
   "source": [
    "type(joined_df)"
   ]
  },
  {
   "cell_type": "markdown",
   "metadata": {},
   "source": [
    "Check for plausibility. There should be no user with churned_label both True and False!\n",
    "How many churned/not churned do we have?"
   ]
  },
  {
   "cell_type": "code",
   "execution_count": 63,
   "metadata": {},
   "outputs": [],
   "source": [
    "\n",
    "from pyspark.sql import SparkSession\n",
    "from pyspark.sql.functions import col\n",
    "\n",
    "\n",
    "df = joined_df\n",
    "\n",
    "# 1. Get userIds for which churned_label has only True values\n",
    "true_users = df.groupBy(\"userId\").agg({\"churned_label\": \"min\"}).filter(col(\"min(churned_label)\") == True).select(\"userId\")\n",
    "\n",
    "# 2. Get userIds for which churned_label has only False values\n",
    "false_users = df.groupBy(\"userId\").agg({\"churned_label\": \"max\"}).filter(col(\"max(churned_label)\") == False).select(\"userId\")\n",
    "\n"
   ]
  },
  {
   "cell_type": "code",
   "execution_count": 64,
   "metadata": {},
   "outputs": [
    {
     "name": "stderr",
     "output_type": "stream",
     "text": [
      "                                                                                \r"
     ]
    },
    {
     "name": "stdout",
     "output_type": "stream",
     "text": [
      "Dataset contains a total of 225 users from which 52 have churned (and 173 are still active).\n"
     ]
    }
   ],
   "source": [
    "print(f'Dataset contains a total of {joined_df.select(\"userId\").distinct().count()} users from which {true_users.count()} have churned (and {false_users.count()} are still active).')"
   ]
  },
  {
   "cell_type": "markdown",
   "metadata": {},
   "source": [
    "### Make catgegorical features numerical"
   ]
  },
  {
   "cell_type": "code",
   "execution_count": 65,
   "metadata": {},
   "outputs": [],
   "source": [
    "# Create StringIndexer for gender and location\n",
    "gender_indexer = StringIndexer(inputCol=\"gender\", outputCol=\"gender_index\")\n",
    "location_indexer = StringIndexer(inputCol=\"location\", outputCol=\"location_index\")\n",
    "\n",
    "# Create OneHotEncoder for the indexed gender and location\n",
    "gender_encoder = OneHotEncoder(inputCol=\"gender_index\", outputCol=\"gender_encoded\")\n",
    "location_encoder = OneHotEncoder(inputCol=\"location_index\", outputCol=\"location_encoded\")\n",
    "\n",
    "# Assemble the features into a single vector column\n",
    "feature_cols = [\"Add to Playlist\", \"Add Friend\", \"year_month_day_NextSong\", \"gender_encoded\", \"location_encoded\"]\n",
    "assembler = VectorAssembler(inputCols=feature_cols, outputCol=\"features\")\n",
    "\n",
    "# Create a pipeline for the transformations\n",
    "pipeline = Pipeline(stages=[gender_indexer, location_indexer, gender_encoder, location_encoder, assembler])\n",
    "\n",
    "# Fit and transform the data using the pipeline\n",
    "pipeline_model = pipeline.fit(joined_df)\n",
    "joined_df = pipeline_model.transform(joined_df)\n",
    "\n"
   ]
  },
  {
   "cell_type": "code",
   "execution_count": 66,
   "metadata": {},
   "outputs": [
    {
     "name": "stderr",
     "output_type": "stream",
     "text": [
      "                                                                                \r"
     ]
    },
    {
     "name": "stdout",
     "output_type": "stream",
     "text": [
      "+------+------+--------------------+---------------+----------+--------+---------+-----------------------+--------------+-------------+------------+--------------+--------------+-----------------+--------------------+\n",
      "|userId|gender|            location|Add to Playlist|Add Friend|NextSong|Thumbs Up|year_month_day_NextSong|year_month_day|churned_label|gender_index|location_index|gender_encoded| location_encoded|            features|\n",
      "+------+------+--------------------+---------------+----------+--------+---------+-----------------------+--------------+-------------+------------+--------------+--------------+-----------------+--------------------+\n",
      "|200002|     M|Chicago-Napervill...|              8|         4|     387|       21|                      8|    2018_11_16|            0|         1.0|           9.0|     (1,[],[])|  (113,[9],[1.0])|(117,[0,1,2,13],[...|\n",
      "|200002|     M|Chicago-Napervill...|              8|         4|     387|       21|                     34|    2018_10_16|            0|         1.0|           9.0|     (1,[],[])|  (113,[9],[1.0])|(117,[0,1,2,13],[...|\n",
      "|200002|     M|Chicago-Napervill...|              8|         4|     387|       21|                    117|    2018_10_18|            0|         1.0|           9.0|     (1,[],[])|  (113,[9],[1.0])|(117,[0,1,2,13],[...|\n",
      "|200002|     M|Chicago-Napervill...|              8|         4|     387|       21|                      4|     2018_10_1|            0|         1.0|           9.0|     (1,[],[])|  (113,[9],[1.0])|(117,[0,1,2,13],[...|\n",
      "|200002|     M|Chicago-Napervill...|              8|         4|     387|       21|                     20|     2018_10_2|            0|         1.0|           9.0|     (1,[],[])|  (113,[9],[1.0])|(117,[0,1,2,13],[...|\n",
      "|200002|     M|Chicago-Napervill...|              8|         4|     387|       21|                     53|    2018_10_23|            0|         1.0|           9.0|     (1,[],[])|  (113,[9],[1.0])|(117,[0,1,2,13],[...|\n",
      "|200002|     M|Chicago-Napervill...|              8|         4|     387|       21|                     39|    2018_10_22|            0|         1.0|           9.0|     (1,[],[])|  (113,[9],[1.0])|(117,[0,1,2,13],[...|\n",
      "|200002|     M|Chicago-Napervill...|              8|         4|     387|       21|                    112|    2018_11_15|            0|         1.0|           9.0|     (1,[],[])|  (113,[9],[1.0])|(117,[0,1,2,13],[...|\n",
      "|100010|     F|Bridgeport-Stamfo...|              7|         4|     275|       17|                     31|     2018_10_8|            0|         0.0|          73.0| (1,[0],[1.0])| (113,[73],[1.0])|(117,[0,1,2,3,77]...|\n",
      "|100010|     F|Bridgeport-Stamfo...|              7|         4|     275|       17|                     51|     2018_11_5|            0|         0.0|          73.0| (1,[0],[1.0])| (113,[73],[1.0])|(117,[0,1,2,3,77]...|\n",
      "|100010|     F|Bridgeport-Stamfo...|              7|         4|     275|       17|                     24|    2018_11_21|            0|         0.0|          73.0| (1,[0],[1.0])| (113,[73],[1.0])|(117,[0,1,2,3,77]...|\n",
      "|100010|     F|Bridgeport-Stamfo...|              7|         4|     275|       17|                     80|     2018_11_9|            0|         0.0|          73.0| (1,[0],[1.0])| (113,[73],[1.0])|(117,[0,1,2,3,77]...|\n",
      "|100010|     F|Bridgeport-Stamfo...|              7|         4|     275|       17|                     44|    2018_10_20|            0|         0.0|          73.0| (1,[0],[1.0])| (113,[73],[1.0])|(117,[0,1,2,3,77]...|\n",
      "|100010|     F|Bridgeport-Stamfo...|              7|         4|     275|       17|                     38|    2018_10_16|            0|         0.0|          73.0| (1,[0],[1.0])| (113,[73],[1.0])|(117,[0,1,2,3,77]...|\n",
      "|100010|     F|Bridgeport-Stamfo...|              7|         4|     275|       17|                      7|    2018_10_15|            0|         0.0|          73.0| (1,[0],[1.0])| (113,[73],[1.0])|(117,[0,1,2,3,77]...|\n",
      "|   125|     M|  Corpus Christi, TX|              0|         0|       8|        0|                      8|    2018_10_12|            1|         1.0|         110.0|     (1,[],[])|(113,[110],[1.0])|(117,[2,114],[8.0...|\n",
      "|    51|     M|Lexington-Fayette...|             52|        28|    2111|      100|                    150|    2018_10_15|            1|         1.0|          68.0|     (1,[],[])| (113,[68],[1.0])|(117,[0,1,2,72],[...|\n",
      "|    51|     M|Lexington-Fayette...|             52|        28|    2111|      100|                     16|     2018_10_4|            1|         1.0|          68.0|     (1,[],[])| (113,[68],[1.0])|(117,[0,1,2,72],[...|\n",
      "|    51|     M|Lexington-Fayette...|             52|        28|    2111|      100|                     20|     2018_10_3|            1|         1.0|          68.0|     (1,[],[])| (113,[68],[1.0])|(117,[0,1,2,72],[...|\n",
      "|    51|     M|Lexington-Fayette...|             52|        28|    2111|      100|                    209|     2018_10_8|            1|         1.0|          68.0|     (1,[],[])| (113,[68],[1.0])|(117,[0,1,2,72],[...|\n",
      "+------+------+--------------------+---------------+----------+--------+---------+-----------------------+--------------+-------------+------------+--------------+--------------+-----------------+--------------------+\n",
      "only showing top 20 rows\n",
      "\n"
     ]
    }
   ],
   "source": [
    "joined_df.show()"
   ]
  },
  {
   "cell_type": "markdown",
   "metadata": {},
   "source": [
    "# Modeling\n",
    "Split the full dataset into train and test sets. We will test out several  machine learning methods. The accuracies of the various models will be evaluated. The winning model will be choosen based on test accuracy and report results on the validation set. As our data is quite unbalanced we will use F1 score for this.\n",
    "\n",
    "The F1 Score is a metric used to assess the balance between precision and recall in a classification model. It is the harmonic mean of precision and recall and is particularly useful when dealing with imbalanced datasets (which we have in our dataset regarding the high number of not churned user's data and low number of churned user's data). The F1 Score takes both false positives and false negatives into account, providing a single value that balances the trade-off between making precise positive predictions (precision) and capturing all positive instances (recall). It is calculated as:\n",
    "\n",
    "F1 Score = 2 * (Precision * Recall) / (Precision + Recall)\n",
    "\n",
    "A higher F1 Score indicates a model that achieves a good balance between precision and recall, making it a valuable metric for evaluating the performance of classification models, especially in situations where class distributions are unequal."
   ]
  },
  {
   "cell_type": "markdown",
   "metadata": {},
   "source": [
    "### Train/Test split"
   ]
  },
  {
   "cell_type": "code",
   "execution_count": 67,
   "metadata": {},
   "outputs": [],
   "source": [
    "# Split the data into training and testing sets (e.g., 70% training, 30% testing)\n",
    "train_ratio = 0.7\n",
    "test_ratio = 1.0 - train_ratio\n",
    "seed = 42\n",
    "\n",
    "train_data, test_data = joined_df.randomSplit([train_ratio, test_ratio], seed=seed)\n"
   ]
  },
  {
   "cell_type": "markdown",
   "metadata": {},
   "source": [
    "## Model for Logistic Regression"
   ]
  },
  {
   "cell_type": "code",
   "execution_count": 68,
   "metadata": {},
   "outputs": [],
   "source": [
    "# Create a Logistic Regression model\n",
    "lr = LogisticRegression(labelCol=\"churned_label\")\n",
    "\n",
    "# Set up a parameter grid for hyperparameter tuning\n",
    "param_grid = ParamGridBuilder() \\\n",
    "    .addGrid(lr.regParam, [0.01, 0.1, 1.0]) \\\n",
    "    .addGrid(lr.elasticNetParam, [0.0, 0.1, 0.5, 1.0]) \\\n",
    "    .build()"
   ]
  },
  {
   "cell_type": "markdown",
   "metadata": {},
   "source": [
    "#### Use cross-validation\n",
    "Cross-validation helps to estimate how well our model will perform on unseen data. It provides a more robust evaluation of the model's performance, as it tests the model on multiple different subsets of the data.\n",
    "I also use cross-validation here to  to tune hyperparameters in our models. By trying different hyperparameter settings on different cross-validation folds, we can find the settings that lead to the best overall performance."
   ]
  },
  {
   "cell_type": "code",
   "execution_count": 69,
   "metadata": {},
   "outputs": [
    {
     "name": "stderr",
     "output_type": "stream",
     "text": [
      "23/11/07 14:13:41 WARN InstanceBuilder: Failed to load implementation from:dev.ludovic.netlib.blas.JNIBLAS\n",
      "                                                                                0]\r"
     ]
    }
   ],
   "source": [
    "# Create a cross-validator\n",
    "evaluator = BinaryClassificationEvaluator(labelCol=\"churned_label\")\n",
    "cross_val = CrossValidator(estimator=lr, estimatorParamMaps=param_grid, evaluator=evaluator, numFolds=5, seed=42)\n",
    "\n",
    "# Fit the cross-validator to the training data\n",
    "cv_model = cross_val.fit(train_data)\n"
   ]
  },
  {
   "cell_type": "markdown",
   "metadata": {},
   "source": [
    "##### Evaluate\n",
    "As data is quite unbalanced with relatively few churned entries we will use F1 for our model evaluation. F1-score as the evaluation metric is a good choice, as it takes both precision and recall into account and is suitable for imbalanced datasets as already stated above."
   ]
  },
  {
   "cell_type": "code",
   "execution_count": 70,
   "metadata": {},
   "outputs": [
    {
     "name": "stderr",
     "output_type": "stream",
     "text": [
      "                                                                                \r"
     ]
    },
    {
     "name": "stdout",
     "output_type": "stream",
     "text": [
      "F1-score: 0.92\n"
     ]
    }
   ],
   "source": [
    "\n",
    "# Make predictions on the test data\n",
    "predictions = cv_model.transform(test_data)\n",
    "\n",
    "# Create a MulticlassClassificationEvaluator with metric \"f1\"\n",
    "f1_evaluator = MulticlassClassificationEvaluator(labelCol=\"churned_label\", metricName=\"f1\")\n",
    "\n",
    "# Calculate the F1-score on the test data\n",
    "f1_score = f1_evaluator.evaluate(predictions)\n",
    "print(\"F1-score: {:.2f}\".format(f1_score))\n"
   ]
  },
  {
   "cell_type": "markdown",
   "metadata": {},
   "source": [
    "## Model for Random Forest Classifier"
   ]
  },
  {
   "cell_type": "code",
   "execution_count": 71,
   "metadata": {},
   "outputs": [
    {
     "name": "stderr",
     "output_type": "stream",
     "text": [
      "                                                                                \r"
     ]
    },
    {
     "name": "stdout",
     "output_type": "stream",
     "text": [
      "F1-score: 0.77\n"
     ]
    }
   ],
   "source": [
    "# Create a RandomForest classifier\n",
    "rf = RandomForestClassifier(labelCol=\"churned_label\", featuresCol=\"features\")\n",
    "\n",
    "# Train the RandomForest model\n",
    "rf_model = rf.fit(train_data)\n",
    "\n",
    "\n",
    "## for maybe later usage of k-fold x-validation\n",
    "\n",
    "# # Set up a parameter grid for hyperparameter tuning\n",
    "# param_grid = ParamGridBuilder() \\\n",
    "#     .addGrid(rf.numTrees, [10, 20, 30, 50]) \\\n",
    "#     .addGrid(rf.maxDepth, [5, 10, 15]) \\\n",
    "#     .addGrid(rf.maxBins, [16, 32, 64]) \\\n",
    "#     .addGrid(rf.impurity, [\"gini\", \"entropy\"]) \\\n",
    "#     .addGrid(rf.featureSubsetStrategy, [\"auto\", \"sqrt\", \"log2\"]) \\\n",
    "#     .addGrid(rf.subsamplingRate, [0.6, 0.7, 0.8, 0.9, 1.0]) \\\n",
    "#     .build()\n",
    "\n",
    "# # Train the RandomForest model\n",
    "# cross_val = CrossValidator(estimator=rf, estimatorParamMaps=param_grid, evaluator=evaluator, numFolds=5, seed=42)\n",
    "\n",
    "# # Fit the cross-validator to the training data\n",
    "# rf_model = cross_val.fit(train_data)\n",
    "\n",
    "# Make predictions on the test data\n",
    "predictions = rf_model.transform(test_data)\n",
    "\n",
    "# Create a MulticlassClassificationEvaluator with metric \"f1\"\n",
    "f1_evaluator = MulticlassClassificationEvaluator(labelCol=\"churned_label\", metricName=\"f1\")\n",
    "\n",
    "# Calculate the F1-score on the test data\n",
    "f1_score = f1_evaluator.evaluate(predictions)\n",
    "print(\"F1-score: {:.2f}\".format(f1_score))"
   ]
  },
  {
   "cell_type": "markdown",
   "metadata": {},
   "source": [
    "## Model for Gradient Boosted Trees"
   ]
  },
  {
   "cell_type": "code",
   "execution_count": 72,
   "metadata": {},
   "outputs": [
    {
     "name": "stderr",
     "output_type": "stream",
     "text": [
      "                                                                                \r"
     ]
    },
    {
     "name": "stdout",
     "output_type": "stream",
     "text": [
      "F1-score: 0.96\n"
     ]
    }
   ],
   "source": [
    "# Create a GBT classifier\n",
    "gbt = GBTClassifier(labelCol=\"churned_label\", featuresCol=\"features\")\n",
    "evaluator = BinaryClassificationEvaluator(labelCol=\"churned_label\")\n",
    "\n",
    "# Train the GBT model\n",
    "gbt_model = gbt.fit(train_data)\n",
    "\n",
    "# Make predictions on the test data\n",
    "predictions = gbt_model.transform(test_data)\n",
    "\n",
    "# Create a MulticlassClassificationEvaluator with metric \"f1\"\n",
    "f1_evaluator = MulticlassClassificationEvaluator(labelCol=\"churned_label\", metricName=\"f1\")\n",
    "\n",
    "# Calculate the F1-score on the test data\n",
    "f1_score = f1_evaluator.evaluate(predictions)\n",
    "print(\"F1-score: {:.2f}\".format(f1_score))"
   ]
  },
  {
   "cell_type": "markdown",
   "metadata": {},
   "source": [
    "K-Fold X-Validation for Gradient Boosted Trees"
   ]
  },
  {
   "cell_type": "code",
   "execution_count": null,
   "metadata": {},
   "outputs": [],
   "source": [
    "# # Create a GBT classifier\n",
    "# gbt = GBTClassifier(labelCol=\"churned_label\", featuresCol=\"features\")\n",
    "# evaluator = BinaryClassificationEvaluator(labelCol=\"churned_label\")\n",
    "\n",
    "\n",
    "# # Set up a parameter grid for hyperparameter tuning\n",
    "# param_grid = ParamGridBuilder() \\\n",
    "#     .addGrid(gbt.maxIter, [10, 25, 50]) \\\n",
    "#     .addGrid(gbt.maxDepth, [5,  15]) \\\n",
    "#     .addGrid(gbt.maxBins, [16, 64]) \\\n",
    "#     .addGrid(gbt.stepSize, [0.01, 0.25, 0.5]) \\\n",
    "#     .build()\n",
    "\n",
    "# # Train the RandomForest model\n",
    "# cross_val = CrossValidator(estimator=gbt, estimatorParamMaps=param_grid, evaluator=evaluator, numFolds=5, seed=42)\n",
    "\n",
    "# # Fit the cross-validator to the training data\n",
    "# gbt_model = cross_val.fit(train_data)\n",
    "\n",
    "# # Make predictions on the test data\n",
    "# predictions = gbt_model.transform(test_data)\n",
    "\n",
    "# # Create a MulticlassClassificationEvaluator with metric \"f1\"\n",
    "# f1_evaluator = MulticlassClassificationEvaluator(labelCol=\"churned_label\", metricName=\"f1\")\n",
    "\n",
    "# # Calculate the F1-score on the test data\n",
    "# f1_score = f1_evaluator.evaluate(predictions)\n",
    "# print(\"F1-score: {:.2f}\".format(f1_score))"
   ]
  },
  {
   "cell_type": "code",
   "execution_count": null,
   "metadata": {},
   "outputs": [],
   "source": [
    "# # Save the best model\n",
    "# best_model_path = \"gbt_model.md\"  # Replace with your desired path\n",
    "# gbt_model.bestModel.save(best_model_path)"
   ]
  },
  {
   "cell_type": "markdown",
   "metadata": {},
   "source": [
    "## Model for Support Vector Machine "
   ]
  },
  {
   "cell_type": "code",
   "execution_count": 73,
   "metadata": {},
   "outputs": [
    {
     "name": "stderr",
     "output_type": "stream",
     "text": [
      "                                                                                \r"
     ]
    },
    {
     "name": "stdout",
     "output_type": "stream",
     "text": [
      "F1-score: 0.92\n"
     ]
    }
   ],
   "source": [
    "# Create a LinearSVC classifier\n",
    "svm = LinearSVC(labelCol=\"churned_label\", featuresCol=\"features\")\n",
    "\n",
    "# Train the SVM model\n",
    "svm_model = svm.fit(train_data)\n",
    "\n",
    "# for later k-fold x-validation\n",
    "\n",
    "# # Set up a parameter grid for hyperparameter tuning\n",
    "# param_grid = ParamGridBuilder() \\\n",
    "#     .addGrid(linear_svc.regParam, [0.01, 0.1, 1.0, 10.0]) \\\n",
    "#     .addGrid(linear_svc.maxIter, [10, 50, 100, 200]) \\\n",
    "#     .addGrid(linear_svc.tol, [1e-6, 1e-5, 1e-4]) \\\n",
    "#     .addGrid(linear_svc.standardization, [True, False]) \\\n",
    "#     .addGrid(linear_svc.fitIntercept, [True, False]) \\\n",
    "#     .build()\n",
    "\n",
    "# # Train the RandomForest model\n",
    "# cross_val = CrossValidator(estimator=svm, estimatorParamMaps=param_grid, evaluator=evaluator, numFolds=5, seed=42)\n",
    "\n",
    "# # Fit the cross-validator to the training data\n",
    "# svm_model = cross_val.fit(train_data)\n",
    "\n",
    "# Make predictions on the test data\n",
    "predictions = svm_model.transform(test_data)\n",
    "\n",
    "# Create a MulticlassClassificationEvaluator with metric \"f1\"\n",
    "f1_evaluator = MulticlassClassificationEvaluator(labelCol=\"churned_label\", metricName=\"f1\")\n",
    "\n",
    "# Calculate the F1-score on the test data\n",
    "f1_score = f1_evaluator.evaluate(predictions)\n",
    "print(\"F1-score: {:.2f}\".format(f1_score))"
   ]
  },
  {
   "cell_type": "markdown",
   "metadata": {},
   "source": [
    "SVM can be sensitive to feature scales, so it's generally a good practice to scale the features. Maybe we could improve model even further with doing this."
   ]
  },
  {
   "cell_type": "markdown",
   "metadata": {},
   "source": [
    "## Model for Naive Bayes"
   ]
  },
  {
   "cell_type": "code",
   "execution_count": 74,
   "metadata": {},
   "outputs": [
    {
     "name": "stderr",
     "output_type": "stream",
     "text": [
      "                                                                                \r"
     ]
    },
    {
     "name": "stdout",
     "output_type": "stream",
     "text": [
      "F1-score: 0.71\n"
     ]
    }
   ],
   "source": [
    "# Create a NaiveBayes classifier\n",
    "nb = NaiveBayes(labelCol=\"churned_label\", featuresCol=\"features\")\n",
    "\n",
    "# Train the Naive Bayes model\n",
    "nb_model = nb.fit(train_data)\n",
    "\n",
    "\n",
    "# for later k-fold x-validation\n",
    "\n",
    "# # Set up a parameter grid for hyperparameter tuning\n",
    "# param_grid = ParamGridBuilder() \\\n",
    "#     .addGrid(linear_svc.regParam, [0.01, 0.1, 1.0, 10.0]) \\\n",
    "#     .addGrid(linear_svc.maxIter, [10, 50, 100, 200]) \\\n",
    "#     .addGrid(linear_svc.tol, [1e-6, 1e-5, 1e-4]) \\\n",
    "#     .addGrid(linear_svc.standardization, [True, False]) \\\n",
    "#     .addGrid(linear_svc.fitIntercept, [True, False]) \\\n",
    "#     .build()\n",
    "\n",
    "# # Train the  model\n",
    "# cross_val = CrossValidator(estimator=nb, estimatorParamMaps=param_grid, evaluator=evaluator, numFolds=5, seed=42)\n",
    "\n",
    "# # Fit the cross-validator to the training data\n",
    "# nb_model = cross_val.fit(train_data)\n",
    "\n",
    "# Make predictions on the test data\n",
    "predictions = nb_model.transform(test_data)\n",
    "\n",
    "# Create a MulticlassClassificationEvaluator with metric \"f1\"\n",
    "f1_evaluator = MulticlassClassificationEvaluator(labelCol=\"churned_label\", metricName=\"f1\")\n",
    "\n",
    "# Calculate the F1-score on the test data\n",
    "f1_score = f1_evaluator.evaluate(predictions)\n",
    "print(\"F1-score: {:.2f}\".format(f1_score))"
   ]
  },
  {
   "cell_type": "markdown",
   "metadata": {},
   "source": [
    "# Results and Conclusions\n",
    "|Model | F1 Score| Comment|\n",
    "|-------|-----|-----|\n",
    "|Logistic Regression| 0.92| Training has been performed here with 5-fold x-val over several params|\n",
    "|Random Forest | 0.79| |\n",
    "|Gradient Boosted Trees| 0.96| This model did perform right from the start with best F1 score. I would therefore do another try with 5-fold x-val over four different parameters.\n",
    "|Support Vector Machine| 0.92|  SVM can be sensitive to feature scales. So it might be, we could even improve this result by normalizing our features (which I did not do)|\n",
    "|Naive Bayes| 0.71| |"
   ]
  }
 ],
 "metadata": {
  "kernelspec": {
   "display_name": "Python 3",
   "language": "python",
   "name": "python3"
  },
  "language_info": {
   "codemirror_mode": {
    "name": "ipython",
    "version": 3
   },
   "file_extension": ".py",
   "mimetype": "text/x-python",
   "name": "python",
   "nbconvert_exporter": "python",
   "pygments_lexer": "ipython3",
   "version": "3.9.18"
  }
 },
 "nbformat": 4,
 "nbformat_minor": 2
}
